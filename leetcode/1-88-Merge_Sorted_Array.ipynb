{
 "cells": [
  {
   "cell_type": "markdown",
   "id": "67eef6d9-da2c-47d1-84bb-c623308017e1",
   "metadata": {},
   "source": [
    "You are given two integer arrays nums1 and nums2, sorted in non-decreasing order, and two integers m and n, representing the number of elements in nums1 and nums2 respectively.\n",
    "\n",
    "Merge nums1 and nums2 into a single array sorted in non-decreasing order.\n",
    "\n",
    "The final sorted array should not be returned by the function, but instead be stored inside the array nums1. To accommodate this, nums1 has a length of m + n, where the first m elements denote the elements that should be merged, and the last n elements are set to 0 and should be ignored. nums2 has a length of n.\n",
    "\n",
    " \n",
    "Example 1:\n",
    "\n",
    "Input: nums1 = [1,2,3,0,0,0], m = 3, nums2 = [2,5,6], n = 3\n",
    "Output: [1,2,2,3,5,6]\n",
    "Explanation: The arrays we are merging are [1,2,3] and [2,5,6].\n",
    "The result of the merge is [1,2,2,3,5,6] with the underlined elements coming from nums1."
   ]
  },
  {
   "cell_type": "code",
   "execution_count": 21,
   "id": "f62d11ed-1ab7-4929-883c-f09e4064dd28",
   "metadata": {},
   "outputs": [],
   "source": [
    "class Solution(object):\n",
    "    def merge(self,num1,m,num2,n):\n",
    "        # Set the last index for placement\n",
    "        last = m + n - 1\n",
    "\n",
    "        # While both arrays have elements to compare\n",
    "        while m > 0 and n > 0 :\n",
    "            \n",
    "            if num1[m-1] > num2[n-1]:\n",
    "                num1[last] = num1[m-1]\n",
    "                m -= 1\n",
    "            else:\n",
    "                num1[last] = num2[n-1]\n",
    "                n -= 1\n",
    "            last -= 1\n",
    "                \n",
    "        # If num2 still has remaining elements, copy them over\n",
    "        while n > 0:\n",
    "            num1[last] = num2[n-1]\n",
    "            n -= 1\n",
    "            last -= 1\n",
    "        # If num1 still has remaining elements, no action is needed since they are already in place"
   ]
  },
  {
   "cell_type": "code",
   "execution_count": 29,
   "id": "78bd7ed2-b155-4b4b-86d2-8f5304a18552",
   "metadata": {},
   "outputs": [
    {
     "name": "stdout",
     "output_type": "stream",
     "text": [
      "[1, 2, 2, 3, 5, 6]\n"
     ]
    }
   ],
   "source": [
    "num1 = [1,2,3,0,0,0]\n",
    "m = 3\n",
    "num2 = [2,5,6]\n",
    "n = 3\n",
    "solution = Solution()\n",
    "solution.merge(num1,m,num2,n)\n",
    "print(num1)"
   ]
  },
  {
   "cell_type": "code",
   "execution_count": null,
   "id": "f5b144e8-3066-47f5-b983-d3d7f43725e9",
   "metadata": {},
   "outputs": [],
   "source": []
  },
  {
   "cell_type": "markdown",
   "id": "19498192-f462-4c32-ab40-daac4b12a10b",
   "metadata": {},
   "source": [
    "### Explanation:\n",
    "num1 has enough space at the end (filled with zeroes) to hold the elements from num2.\n",
    "\n",
    "The while loop compares the elements of num1 and num2 in reverse order, placing the larger value in the last available index of num1.\n",
    "\n",
    "After the main loop, if there are any remaining elements in num2, they are copied over into num1 (since num1 is already sorted).\n",
    "\n",
    "If there are still elements left in num1, no action is needed since they are already in their correct positions"
   ]
  },
  {
   "cell_type": "code",
   "execution_count": null,
   "id": "90be6b6c-17df-4120-a8f9-5159d8fa4743",
   "metadata": {},
   "outputs": [],
   "source": []
  },
  {
   "cell_type": "markdown",
   "id": "0650d202-9428-4877-98ce-b551d59be710",
   "metadata": {},
   "source": [
    "You can use built-in functions to simplify and optimize the merging of sorted lists:\n",
    "\n",
    "heapq.merge(): Most efficient for merging sorted iterables.\n",
    "\n",
    "sorted(): Simpler but less efficient, as it sorts the entire concatenated list.\n",
    "\n",
    "List comprehension: Manual but Pythonic and flexible.\n",
    "\n",
    "NumPy: Useful for numerical arrays, fast for large datasets.\n",
    "\n",
    "Using heapq.merge() is the most efficient and recommended approach when you need to merge two or more sorted lists in Python."
   ]
  },
  {
   "cell_type": "code",
   "execution_count": null,
   "id": "771850b7-40ea-46ed-962a-d564f522f848",
   "metadata": {},
   "outputs": [],
   "source": []
  }
 ],
 "metadata": {
  "kernelspec": {
   "display_name": "Python 3 (ipykernel)",
   "language": "python",
   "name": "python3"
  },
  "language_info": {
   "codemirror_mode": {
    "name": "ipython",
    "version": 3
   },
   "file_extension": ".py",
   "mimetype": "text/x-python",
   "name": "python",
   "nbconvert_exporter": "python",
   "pygments_lexer": "ipython3",
   "version": "3.12.7"
  }
 },
 "nbformat": 4,
 "nbformat_minor": 5
}
