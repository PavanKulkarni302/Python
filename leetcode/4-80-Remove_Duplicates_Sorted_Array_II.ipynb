{
 "cells": [
  {
   "cell_type": "markdown",
   "id": "46afb036-2cf6-452b-84eb-3bc5f107f5ac",
   "metadata": {},
   "source": [
    "Given an integer array nums sorted in non-decreasing order, remove some duplicates in-place such that each unique element appears at most twice. The relative order of the elements should be kept the same.\n",
    "\n",
    "Since it is impossible to change the length of the array in some languages, you must instead have the result be placed in the first part of the array nums. More formally, if there are k elements after removing the duplicates, then the first k elements of nums should hold the final result. It does not matter what you leave beyond the first k elements.\n",
    "\n",
    "Return k after placing the final result in the first k slots of nums.\n",
    "\n",
    "Do not allocate extra space for another array. You must do this by modifying the input array in-place with O(1) extra memory."
   ]
  },
  {
   "cell_type": "markdown",
   "id": "d7a6e20b-5841-42b6-9c12-738291163183",
   "metadata": {},
   "source": [
    "Example 1:\n",
    "\n",
    "Input: nums = [1,1,1,2,2,3]\n",
    "\n",
    "Output: 5, nums = [1,1,2,2,3,_]\n",
    "\n",
    "Explanation: Your function should return k = 5, with the first five elements of nums being 1, 1, 2, 2 and 3 respectively.\n",
    "It does not matter what you leave beyond the returned k (hence they are underscores).\n",
    "\n",
    "Example 2:\n",
    "\n",
    "Input: nums = [0,0,1,1,1,1,2,3,3]\n",
    "\n",
    "Output: 7, nums = [0,0,1,1,2,3,3,_,_]\n",
    "\n",
    "Explanation: Your function should return k = 7, with the first seven elements of nums being 0, 0, 1, 1, 2, 3 and 3 respectively.\n",
    "It does not matter what you leave beyond the returned k (hence they are underscores)."
   ]
  },
  {
   "cell_type": "code",
   "execution_count": 10,
   "id": "880bd555-61a6-4069-a226-297f4b178e5e",
   "metadata": {},
   "outputs": [],
   "source": [
    "def removeduplicate2(nums):\n",
    "    k = 1\n",
    "    count = 1\n",
    "    for i in range(1,len(nums)):\n",
    "        if nums[i] == nums[i - 1]:\n",
    "            count += 1\n",
    "        else:\n",
    "            count = 1\n",
    "    \n",
    "        if count <= 2:\n",
    "            nums[k] = nums[i]\n",
    "            k += 1\n",
    "    \n",
    "    return k, nums[:k]\n",
    "        "
   ]
  },
  {
   "cell_type": "code",
   "execution_count": 12,
   "id": "a44fd90b-5a6d-461c-8bc6-ecf2a7293e39",
   "metadata": {},
   "outputs": [
    {
     "data": {
      "text/plain": [
       "(8, [0, 0, 1, 1, 2, 2, 3, 3])"
      ]
     },
     "execution_count": 12,
     "metadata": {},
     "output_type": "execute_result"
    }
   ],
   "source": [
    "nums = [0,0,1,1,1,1,2,2,2,3,3]\n",
    "removeduplicate2(nums)"
   ]
  },
  {
   "cell_type": "code",
   "execution_count": null,
   "id": "3dfdbe26-8714-4c18-9aae-ca4ce0498cc8",
   "metadata": {},
   "outputs": [],
   "source": []
  }
 ],
 "metadata": {
  "kernelspec": {
   "display_name": "Python 3 (ipykernel)",
   "language": "python",
   "name": "python3"
  },
  "language_info": {
   "codemirror_mode": {
    "name": "ipython",
    "version": 3
   },
   "file_extension": ".py",
   "mimetype": "text/x-python",
   "name": "python",
   "nbconvert_exporter": "python",
   "pygments_lexer": "ipython3",
   "version": "3.12.7"
  }
 },
 "nbformat": 4,
 "nbformat_minor": 5
}
