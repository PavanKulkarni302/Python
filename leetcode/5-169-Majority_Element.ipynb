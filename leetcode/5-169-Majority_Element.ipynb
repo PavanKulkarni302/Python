{
 "cells": [
  {
   "cell_type": "markdown",
   "id": "e279031a-555c-46a3-b27b-415083f25dd4",
   "metadata": {},
   "source": [
    "Given an array nums of size n, return the majority element.\n",
    "\n",
    "The majority element is the element that appears more than ⌊n / 2⌋ times. You may assume that the majority element always exists in the array."
   ]
  },
  {
   "cell_type": "markdown",
   "id": "3f6c7068-9f68-4ab0-a775-0d07389f40b7",
   "metadata": {},
   "source": [
    "Example 1:\n",
    "\n",
    "Input: nums = [3,2,3]\n",
    "Output: 3\n",
    "Example 2:\n",
    "\n",
    "Input: nums = [2,2,1,1,1,2,2]\n",
    "Output: 2\n",
    "\n",
    "Follow-up: Could you solve the problem in linear time and in O(1) space"
   ]
  },
  {
   "cell_type": "code",
   "execution_count": null,
   "id": "902fa828-f62a-46d3-8139-4ba23cc99610",
   "metadata": {},
   "outputs": [],
   "source": []
  },
  {
   "cell_type": "code",
   "execution_count": 19,
   "id": "fbc4c49b-5ad2-4fb0-9865-ff4e89480bc1",
   "metadata": {},
   "outputs": [],
   "source": [
    "def majorityElement(nums):\n",
    "    count = {}\n",
    "    for val in nums:\n",
    "        if val in count:\n",
    "            count[val] += 1\n",
    "        else:\n",
    "            count[val] = 1\n",
    "    for key, val in count.items():\n",
    "        if val > len(nums) / 2:\n",
    "            return key\n",
    "            "
   ]
  },
  {
   "cell_type": "code",
   "execution_count": 21,
   "id": "5fff3e81-a067-4a8a-ab35-c8000daa18e9",
   "metadata": {},
   "outputs": [
    {
     "data": {
      "text/plain": [
       "2"
      ]
     },
     "execution_count": 21,
     "metadata": {},
     "output_type": "execute_result"
    }
   ],
   "source": [
    "nums = [2,2,1,1,1,2,2]\n",
    "majorityElement(nums)"
   ]
  },
  {
   "cell_type": "code",
   "execution_count": null,
   "id": "5451e324-8d6c-4c21-a572-f275a23e2409",
   "metadata": {},
   "outputs": [],
   "source": []
  }
 ],
 "metadata": {
  "kernelspec": {
   "display_name": "Python 3 (ipykernel)",
   "language": "python",
   "name": "python3"
  },
  "language_info": {
   "codemirror_mode": {
    "name": "ipython",
    "version": 3
   },
   "file_extension": ".py",
   "mimetype": "text/x-python",
   "name": "python",
   "nbconvert_exporter": "python",
   "pygments_lexer": "ipython3",
   "version": "3.12.7"
  }
 },
 "nbformat": 4,
 "nbformat_minor": 5
}
