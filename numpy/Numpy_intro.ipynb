{
 "cells": [
  {
   "cell_type": "markdown",
   "id": "95699655-9b23-4569-a1dd-06a4fe7b22fa",
   "metadata": {},
   "source": [
    "**NumPy Introduction & Guide for Beginners**\n",
    "\n",
    "NumPy stands for Numerical Python, is an open-source Python library that provides support for large, multi-dimensional arrays and matrices.\n",
    "\r\n",
    "It also have a collection of high-level mathematical functions to operate on arra\n",
    "\n",
    "**What is NumPy?** \n",
    "\r\n",
    "NumPy is a general-purpose array-processing package.\r\n",
    "\r\n",
    "It provides a high-performance multidimensional array object and tools for working with these arrays.\r\n",
    "\r\n",
    "It is the fundamental package for scientific computing with Python. It is open-source soft\n",
    "\n",
    "**Why do we need NumPy ?**\n",
    "\r\n",
    "A question arises that why do we need NumPy when python lists are already there. The answer to it is we cannot perform operations on all the elements of two list directly. For example, we cannot multiply two lists directly we will have to do it element-wise. This is where the role of NumPy comes into play.wiety of databases.iety of databases.ys"
   ]
  },
  {
   "cell_type": "markdown",
   "id": "db851ae0-a2ba-4e87-98b3-ecd65cca894a",
   "metadata": {},
   "source": [
    "**Features of NumPy**\n",
    "\n",
    "NumPy has various features which make them popular over lists.\n",
    "\n",
    "Some of these important features include:\n",
    "\n",
    "* A powerful N-dimensional array object\n",
    "* Sophisticated (broadcasting) functions\n",
    "* Tools for integrating C/C++ and Fortran code\n",
    "* Useful linear algebra, Fourier transform, and random number capabilities.\n",
    "  \n",
    "Besides its obvious scientific uses, NumPy in Python can also be used as an efficient multi-dimensional container of generic data.\n",
    "\n",
    "Arbitrary data types can be defined using Numpy which allows NumPy to seamlessly and speedily integrate with a wide variety of databases."
   ]
  },
  {
   "cell_type": "markdown",
   "id": "b40981c3-5973-4dce-802f-e372ba31a914",
   "metadata": {},
   "source": [
    "**Arrays in NumPy**\n",
    "\n",
    "NumPy’s main object is the homogeneous multidimensional array.\n",
    "\n",
    "* It is a table of elements (usually numbers), all of the same type, indexed by a tuple of positive integers.\n",
    "* In NumPy, dimensions are called axes. The number of axes is rank.\n",
    "* NumPy’s array class is called ndarray. It is also known by the alias array."
   ]
  },
  {
   "cell_type": "markdown",
   "id": "74ad00ee-cba5-4836-aafb-11465a274507",
   "metadata": {},
   "source": [
    "**Example:**\r\n",
    "\r\n",
    "In this example, we are creating a two-dimensional array that has the rank of 2 as it has 2 axes.\r\n",
    "\r\n",
    "The first axis(dimension) is of length 2, i.e., the number of rows, and the second axis(dimension) is of length 3, i.e., the number of columns. The overall shape of the array can be represented as (2, 3)"
   ]
  },
  {
   "cell_type": "code",
   "execution_count": 1,
   "id": "6c4d7a71-4092-4072-8453-71fcc437b242",
   "metadata": {},
   "outputs": [
    {
     "name": "stdout",
     "output_type": "stream",
     "text": [
      "[[1 2 3]\n",
      " [4 5 6]]\n",
      "Type of an array is : <class 'numpy.ndarray'>\n",
      "Shape of an array is : (2, 3)\n",
      "Size of array:  6\n",
      "Array stores elements of type:  int32\n"
     ]
    }
   ],
   "source": [
    "#import numpy\n",
    "import numpy as np\n",
    "# Creating array object\n",
    "arr = np.array([[1,2,3],\n",
    "               [4,5,6]])\n",
    "print(arr)\n",
    "\n",
    "# Printing type of arr object\n",
    "print(\"Type of an array is :\",type(arr))\n",
    "\n",
    "# Printing shape of array\n",
    "print(\"Shape of an array is :\",arr.shape)\n",
    "\n",
    "# Printing size (total number of elements) of array\n",
    "print(\"Size of array: \", arr.size)\n",
    "\n",
    "# Printing type of elements in array\n",
    "print(\"Array stores elements of type: \", arr.dtype)"
   ]
  },
  {
   "cell_type": "code",
   "execution_count": null,
   "id": "e2fd3003-4f8c-480d-bcb0-8d7d2dfd337d",
   "metadata": {},
   "outputs": [],
   "source": []
  },
  {
   "cell_type": "markdown",
   "id": "d09698ad-b538-47ca-a879-f662732f3716",
   "metadata": {},
   "source": [
    "**NumPy Array Creation**\n",
    "\r\n",
    "There are various ways of Numpy array creation in Python. They are as followsion:"
   ]
  },
  {
   "cell_type": "markdown",
   "id": "28582b4d-55b6-4362-b44a-4900e8763d3a",
   "metadata": {},
   "source": [
    "**1. Create NumPy Array with List and Tuple**\n",
    "\n",
    "You can create an array from a regular Python list or tuple using the array() function. The type of the resulting array is deduced from the type of the elements in the sequences. Let’s see this implementation:"
   ]
  },
  {
   "cell_type": "code",
   "execution_count": 2,
   "id": "7ab862cd-35c8-41fc-9dd1-fe1ebd7d37a0",
   "metadata": {},
   "outputs": [
    {
     "name": "stdout",
     "output_type": "stream",
     "text": [
      "Array created using passed list:\n",
      " [[1. 2. 3.]\n",
      " [4. 5. 6.]]\n",
      "Array created using passed tuple:\n",
      " [[ 6.  7.  8.]\n",
      " [ 8.  9. 10.]]\n"
     ]
    }
   ],
   "source": [
    "# Creating array from list with type float\n",
    "a = np.array([[1,2,3],[4,5,6]],dtype = float)\n",
    "print (\"Array created using passed list:\\n\", a)\n",
    "\n",
    "# Creating array from tuple\n",
    "b = np.array(((6,7,8),(8,9,10)), dtype = float)\n",
    "print (\"Array created using passed tuple:\\n\", b)"
   ]
  },
  {
   "cell_type": "code",
   "execution_count": null,
   "id": "289e95f1-6718-4e0d-bcb9-9cbf20412319",
   "metadata": {},
   "outputs": [],
   "source": []
  },
  {
   "cell_type": "markdown",
   "id": "2ddf2fba-4834-4e7a-812d-8461c9b7849a",
   "metadata": {},
   "source": [
    "**2. Create Array of Fixed Size**\n",
    "\r\n",
    "Often, the element is of an array is originally unknown, but its size is known. Hence, NumPy offers several functions to create arrays with initial placeholder content.\r\n",
    "\r\n",
    "This minimize the necessity of growing arrays, an expensive operation. For example: np.zeros, np.ones, np.full, np.empty, etc.\r\n",
    "\r\n",
    "To create sequences of numbers, NumPy provides a function analogous to the range that returns arrays instead of lists."
   ]
  },
  {
   "cell_type": "code",
   "execution_count": 3,
   "id": "bd05a4c6-adc8-44ff-a250-5d61b442e51f",
   "metadata": {},
   "outputs": [
    {
     "name": "stdout",
     "output_type": "stream",
     "text": [
      "An array initialized with all zeros:\n",
      " [[0 0 0 0]\n",
      " [0 0 0 0]\n",
      " [0 0 0 0]]\n",
      "An array initialized with all 6s.Array type is complex:\n",
      " [[6.+0.j 6.+0.j 6.+0.j]\n",
      " [6.+0.j 6.+0.j 6.+0.j]\n",
      " [6.+0.j 6.+0.j 6.+0.j]]\n",
      "A random array:\n",
      " [[0.03915988 0.52626185]\n",
      " [0.01984174 0.3226864 ]]\n"
     ]
    }
   ],
   "source": [
    "# Creating a 3X4 array with all zeros\n",
    "c = np.zeros((3,4), dtype = int)\n",
    "print (\"An array initialized with all zeros:\\n\", c)\n",
    "\n",
    "# Create a constant value array of complex type\n",
    "d = np.full((3,3),6,dtype = 'complex')\n",
    "print (\"An array initialized with all 6s.Array type is complex:\\n\", d)\n",
    "\n",
    "# Create an array with random values\n",
    "e = np.random.random((2,2))\n",
    "print (\"A random array:\\n\", e)"
   ]
  },
  {
   "cell_type": "code",
   "execution_count": null,
   "id": "83915552-fde0-423d-b392-df541e5d631e",
   "metadata": {},
   "outputs": [],
   "source": []
  },
  {
   "cell_type": "markdown",
   "id": "6c9098fa-60f8-4dd5-b790-db00fa6e97e8",
   "metadata": {},
   "source": [
    "**3. Create Using arange() Function**\n",
    "\r\n",
    "arange(): This function returns evenly spaced values within a given interval. Step size is specified."
   ]
  },
  {
   "cell_type": "code",
   "execution_count": 4,
   "id": "d2f6d437-a24e-47d5-be56-9f8f193d3b85",
   "metadata": {},
   "outputs": [
    {
     "name": "stdout",
     "output_type": "stream",
     "text": [
      "A sequential array with steps of 5:  [ 0  5 10 15 20 25 30]\n",
      "\n",
      "A sequential array 0 to 10:  [ 0  1  2  3  4  5  6  7  8  9 10]\n"
     ]
    }
   ],
   "source": [
    "# Create a sequence of integers \n",
    "# from 0 to 30 with steps of 5\n",
    "f = np.arange(0,31,5)\n",
    "print (\"A sequential array with steps of 5: \", f)\n",
    "\n",
    "# Create a sequence of integers  0 to 10\n",
    "f = np.arange(0,11)\n",
    "print (\"\\nA sequential array 0 to 10: \", f)"
   ]
  },
  {
   "cell_type": "code",
   "execution_count": null,
   "id": "769c1ba2-b631-46de-a218-d2b2ed6b7cf4",
   "metadata": {},
   "outputs": [],
   "source": []
  },
  {
   "cell_type": "markdown",
   "id": "c9128fe4-3b8c-42dc-bd0b-f11d0f42d568",
   "metadata": {},
   "source": [
    "**4. Create Using linspace() Function**\n",
    "\r\n",
    "linspace(): It returns evenly spaced values within a given interval\n",
    "\n",
    "The NumPy.linspace() function returns an array of evenly spaced values within the specified interval [start, stop].\r\n",
    "\r\n",
    "It is similar to NumPy.arange() function but instead of a step, it uses a sample number.."
   ]
  },
  {
   "cell_type": "markdown",
   "id": "97bd1079-f53f-45a3-80dc-9fc5b79518a1",
   "metadata": {},
   "source": [
    "**Synatx: numpy.linspace(start, stop, num=50, endpoint=True , retstep=False, dtype=None, axis=0)**"
   ]
  },
  {
   "cell_type": "code",
   "execution_count": 5,
   "id": "e5c4ab62-66b6-4c2c-8282-0890416a0380",
   "metadata": {},
   "outputs": [
    {
     "name": "stdout",
     "output_type": "stream",
     "text": [
      "A sequential array with 10 values between 0 and 5:\n",
      " [0.         0.55555556 1.11111111 1.66666667 2.22222222 2.77777778\n",
      " 3.33333333 3.88888889 4.44444444 5.        ]\n"
     ]
    }
   ],
   "source": [
    "# Create a sequence of 10 values in range 0 to 5\n",
    "g = np.linspace(0,5,10)\n",
    "print (\"A sequential array with 10 values between 0 and 5:\\n\", g)"
   ]
  },
  {
   "cell_type": "code",
   "execution_count": null,
   "id": "824ed5d4-7b8b-4427-b781-1aae28573cdb",
   "metadata": {},
   "outputs": [],
   "source": []
  },
  {
   "cell_type": "markdown",
   "id": "22d8202e-3326-48ae-a805-63ab62b59cb0",
   "metadata": {},
   "source": [
    "**5. Reshaping Array using Reshape Method**\n",
    "\r\n",
    "Reshaping array: We can use reshape method to reshape an array.\r\n",
    "\r\n",
    "Consider an array with shape (a1, a2, a3, …, aN). We can reshape and convert it into another array with shape (b1, b2, b3, …, bM). The only required condition is a1 x a2 x a3 … x aN = b1 x b2 x b3 … x bM. (i.e. the original size of the array remains unchanged.)"
   ]
  },
  {
   "cell_type": "code",
   "execution_count": 6,
   "id": "77d82629-ca64-4853-9ca8-f5fb5980a8e7",
   "metadata": {},
   "outputs": [
    {
     "name": "stdout",
     "output_type": "stream",
     "text": [
      "Original array:\n",
      " [[ 1  2  3  4]\n",
      " [ 5  6  7  8]\n",
      " [ 9 10 11 12]]\n",
      "---------------\n",
      "Reshaped array:\n",
      " [[[ 1  2  3]\n",
      "  [ 4  5  6]]\n",
      "\n",
      " [[ 7  8  9]\n",
      "  [10 11 12]]]\n"
     ]
    }
   ],
   "source": [
    "# Reshaping 3X4 array to 2X2X3 array\n",
    "\n",
    "arr = np.array([[1,2,3,4],\n",
    "              [5,6,7,8],\n",
    "             [9,10,11,12]])\n",
    "\n",
    "newarr = arr.reshape(2,2,3)\n",
    "\n",
    "print (\"Original array:\\n\", arr)\n",
    "print(\"---------------\")\n",
    "print (\"Reshaped array:\\n\", newarr)"
   ]
  },
  {
   "cell_type": "code",
   "execution_count": null,
   "id": "8439c531-0dcd-484d-b369-60e757c099a9",
   "metadata": {},
   "outputs": [],
   "source": []
  },
  {
   "cell_type": "markdown",
   "id": "25238c21-93b0-4150-acd6-d6f4bdbbfd8b",
   "metadata": {},
   "source": [
    "**6. Flatten Array**\n",
    "\r\n",
    "Flatten array: We can use flatten method to get a copy of the array collapsed into one dimension.\r\n",
    "\r\n",
    "It accepts order argument. The default value is ????’ (for row-major order). Use ????’ for column-major order."
   ]
  },
  {
   "cell_type": "code",
   "execution_count": 7,
   "id": "88bfa329-38a9-4d55-8c46-23de2d88391c",
   "metadata": {},
   "outputs": [
    {
     "name": "stdout",
     "output_type": "stream",
     "text": [
      "Original array:\n",
      " [[1 2 3]\n",
      " [4 5 6]]\n",
      "Fattened array:\n",
      " [1 2 3 4 5 6]\n"
     ]
    }
   ],
   "source": [
    "# Create array\n",
    "arr = np.array([[1,2,3],[4,5,6]])\n",
    "\n",
    "#flatten array\n",
    "flat_arr = arr.flatten()\n",
    "\n",
    "print (\"Original array:\\n\", arr)\n",
    "print (\"Fattened array:\\n\", flat_arr)"
   ]
  },
  {
   "cell_type": "code",
   "execution_count": null,
   "id": "78b1b5ec-3a5d-43ad-97b3-375f40578182",
   "metadata": {},
   "outputs": [],
   "source": []
  },
  {
   "cell_type": "markdown",
   "id": "a65f00af-d9e2-4f0b-918d-af58b278aae2",
   "metadata": {},
   "source": [
    "**NumPy Array Indexing**\n",
    "\n",
    "Knowing the basics of NumPy array indexing is important for analyzing and manipulating the array object. NumPy in Python offers many ways to do array indexing.\n",
    "\n",
    "* Slicing: Just like lists in Python, NumPy arrays can be sliced. As arrays can be multidimensional, you need to specify a slice for each dimension of the array.\n",
    "* \n",
    "Integer array indexing: In this method, lists are passed for indexing for each dimension. One-to-one mapping of corresponding elements is done to construct a new arbitrary array\n",
    "* \r\n",
    "Boolean array indexing: This method is used when we want to pick elements from the array which satisfy some condition."
   ]
  },
  {
   "cell_type": "code",
   "execution_count": 8,
   "id": "bfe9da5b-8960-43be-8010-85a31a07f23e",
   "metadata": {},
   "outputs": [
    {
     "ename": "TypeError",
     "evalue": "can't multiply sequence by non-int of type 'list'",
     "output_type": "error",
     "traceback": [
      "\u001b[1;31m---------------------------------------------------------------------------\u001b[0m",
      "\u001b[1;31mTypeError\u001b[0m                                 Traceback (most recent call last)",
      "Cell \u001b[1;32mIn[8], line 7\u001b[0m\n\u001b[0;32m      4\u001b[0m list2 \u001b[38;5;241m=\u001b[39m [\u001b[38;5;241m10\u001b[39m, \u001b[38;5;241m9\u001b[39m, \u001b[38;5;241m8\u001b[39m, \u001b[38;5;241m7\u001b[39m, \u001b[38;5;241m6\u001b[39m, \u001b[38;5;241m5\u001b[39m]\n\u001b[0;32m      6\u001b[0m \u001b[38;5;66;03m# Multiplying both lists directly would give an error.\u001b[39;00m\n\u001b[1;32m----> 7\u001b[0m \u001b[38;5;28mprint\u001b[39m(list1\u001b[38;5;241m*\u001b[39mlist2)\n",
      "\u001b[1;31mTypeError\u001b[0m: can't multiply sequence by non-int of type 'list'"
     ]
    }
   ],
   "source": [
    "# Python program to demonstrate a need of NumPy\n",
    "\n",
    "list1 = [1, 2, 3, 4 ,5, 6]\n",
    "list2 = [10, 9, 8, 7, 6, 5]\n",
    "\n",
    "# Multiplying both lists directly would give an error.\n",
    "print(list1*list2)"
   ]
  },
  {
   "cell_type": "code",
   "execution_count": 9,
   "id": "185adc44-3e1e-4db8-8425-490da57c9523",
   "metadata": {},
   "outputs": [
    {
     "name": "stdout",
     "output_type": "stream",
     "text": [
      "[10 18 24 28 30 30]\n"
     ]
    }
   ],
   "source": [
    "# Python program to demonstrate the use of NumPy arrays\n",
    "import numpy as np\n",
    "\n",
    "list1 = [1, 2, 3, 4, 5, 6]\n",
    "list2 = [10, 9, 8, 7, 6, 5]\n",
    "\n",
    "# Convert list1 into a NumPy array\n",
    "a1 = np.array(list1)\n",
    "\n",
    "# Convert list2 into a NumPy array\n",
    "a2 = np.array(list2)\n",
    "\n",
    "print(a1*a2)"
   ]
  },
  {
   "cell_type": "code",
   "execution_count": 10,
   "id": "8a406fa8-c507-4bea-b33d-8bbced1ee770",
   "metadata": {},
   "outputs": [
    {
     "name": "stdout",
     "output_type": "stream",
     "text": [
      "Array with first 2 rows and alternate columns(0 and 2):\n",
      " [[-1.  0.]\n",
      " [ 4.  6.]]\n",
      "\n",
      "Elements at indices (0, 3), (1, 2), (2, 1),(3, 0):\n",
      " [4. 6. 0. 3.]\n",
      "\n",
      "Elements greater than 0:\n",
      " [2.  4.  4.  6.  2.6 7.  8.  3.  4.  2. ]\n"
     ]
    }
   ],
   "source": [
    "# Python program to demonstrate\n",
    "# indexing in numpy\n",
    "arr = np.array([[-1, 2, 0, 4],\n",
    "                [4, -0.5, 6, 0],\n",
    "                [2.6, 0, 7, 8],\n",
    "                [3, -7, 4, 2.0]])\n",
    "\n",
    "# Slicing array\n",
    "temp = arr[:2,::2]\n",
    "print (\"Array with first 2 rows and alternate columns(0 and 2):\\n\", temp)\n",
    "\n",
    "# Integer array indexing example\n",
    "temp = arr[[0, 1, 2, 3], [3, 2, 1, 0]]\n",
    "print (\"\\nElements at indices (0, 3), (1, 2), (2, 1),(3, 0):\\n\", temp)\n",
    "\n",
    "# boolean array indexing example\n",
    "cond = arr > 0 # cond is a boolean array\n",
    "temp = arr[cond]\n",
    "print (\"\\nElements greater than 0:\\n\", temp)"
   ]
  },
  {
   "cell_type": "code",
   "execution_count": null,
   "id": "a55efa6f-5277-413d-922f-46f464a7f1ea",
   "metadata": {},
   "outputs": [],
   "source": []
  },
  {
   "cell_type": "markdown",
   "id": "4c036fa5-9345-4db2-a303-898da0ca4161",
   "metadata": {},
   "source": [
    "**NumPy Basic Operations**\n",
    "\r\n",
    "The Plethora of built-in arithmetic functions is provided in Python NumPy."
   ]
  },
  {
   "cell_type": "markdown",
   "id": "1d3e0307-6640-4a6e-94cd-f3a03692c191",
   "metadata": {},
   "source": [
    "**1. Operations on a single NumPy array**\n",
    "\r\n",
    "We can use overloaded arithmetic operators to do element-wise operations on the array to create a new array. In the case of +=, -=, *= operators, the existing array is modified.\r\n",
    "\r\n",
    "\r\n"
   ]
  },
  {
   "cell_type": "code",
   "execution_count": 32,
   "id": "e907a6b4-f536-4092-bb9b-d01f10d94014",
   "metadata": {},
   "outputs": [
    {
     "name": "stdout",
     "output_type": "stream",
     "text": [
      "adding 1:  [2 3 4 5 6]\n",
      "substracting 3:  [-2 -1  0  1  2]\n",
      "multiply 10:  [10 20 30 40 50]\n",
      "squre:  [ 1  4  9 16 25]\n",
      "Doubled each element of original array: [ 2  4  6  8 10]\n",
      "Original array:  [[1 2 3]\n",
      " [4 5 6]\n",
      " [7 8 9]]\n",
      "Transpose array:  [[1 4 7]\n",
      " [2 5 8]\n",
      " [3 6 9]]\n"
     ]
    }
   ],
   "source": [
    "a = np.array([1,2,3,4,5])\n",
    "\n",
    "#adding 1 to each ele in a\n",
    "print(\"adding 1: \",a+1)\n",
    "\n",
    "#substract 3 from each ele in a\n",
    "print(\"substracting 3: \",a-3)\n",
    "\n",
    "#multiplying each ele with 10 in a\n",
    "print(\"multiply 10: \",a*10)\n",
    "\n",
    "#squre each ele in a\n",
    "print(\"squre: \",a**2)\n",
    "\n",
    "# modify existing array\n",
    "a *= 2\n",
    "print (\"Doubled each element of original array:\", a)\n",
    "\n",
    "#transpose of array\n",
    "a = np.array([[1,2,3],[4,5,6],[7,8,9]])\n",
    "print(\"Original array: \",a)\n",
    "print(\"Transpose array: \",a.T)"
   ]
  },
  {
   "cell_type": "code",
   "execution_count": null,
   "id": "567b495a-9c58-48de-8450-44d9ca296aa8",
   "metadata": {},
   "outputs": [],
   "source": []
  },
  {
   "cell_type": "markdown",
   "id": "d0cb1d64-c9b8-440d-ac72-b3ba78c3b95e",
   "metadata": {},
   "source": [
    "**NumPy – Unary Operators**\n",
    "\n",
    "Many unary operations are provided as a method of ndarray class. This includes sum, min, max, etc. These functions can also be applied row-wise or column-wise by setting an axis parameter."
   ]
  },
  {
   "cell_type": "code",
   "execution_count": 11,
   "id": "61cc6072-a4fd-4aa0-aaf0-8047d4b8f90a",
   "metadata": {},
   "outputs": [
    {
     "name": "stdout",
     "output_type": "stream",
     "text": [
      "Largest element in array: 9\n",
      "Row wise largest elements:  [6 7 9]\n",
      "\n",
      "Smallest element in array:  1\n",
      "Column wise smallest element:  [1 1 2]\n",
      "Sum of all elements in array:  38\n",
      "# cumulative sum along each row:  [[ 1  6 12]\n",
      " [ 4 11 13]\n",
      " [ 3  4 13]]\n"
     ]
    }
   ],
   "source": [
    "# Python program to demonstrate\n",
    "# unary operators in numpy\n",
    "import numpy as np\n",
    "\n",
    "arr = np.array([[1, 5, 6],\n",
    "                [4, 7, 2],\n",
    "                [3, 1, 9]])\n",
    "\n",
    "# maximum element of array\n",
    "print(\"Largest element in array:\",arr.max())\n",
    "print(\"Row wise largest elements: \",arr.max(axis = 1))\n",
    "\n",
    "# minimum element of array\n",
    "print(\"\\nSmallest element in array: \",arr.min())\n",
    "print(\"Column wise smallest element: \",arr.min(axis = 0))\n",
    "\n",
    "#sum of array elements\n",
    "print(\"Sum of all elements in array: \",arr.sum())\n",
    "\n",
    "# cumulative sum along each row\n",
    "print(\"# cumulative sum along each row: \",arr.cumsum(axis = 1))"
   ]
  },
  {
   "cell_type": "code",
   "execution_count": null,
   "id": "dca39d11-ff4c-4153-b0e3-70eb4cadae32",
   "metadata": {},
   "outputs": [],
   "source": []
  },
  {
   "cell_type": "markdown",
   "id": "f46639aa-98f0-4a2e-8b77-80f60aa7b4e8",
   "metadata": {},
   "source": [
    "**NumPy – Binary Operators**\n",
    "\r\n",
    "These operations apply to the array elementwise and a new array is created. You can use all basic arithmetic operators like +, -, /,  etc. In the case of +=, -=, = operators, the existing array is modified."
   ]
  },
  {
   "cell_type": "code",
   "execution_count": 12,
   "id": "a6aaf9fc-6c2e-46c7-ad90-11eedbac6537",
   "metadata": {},
   "outputs": [
    {
     "name": "stdout",
     "output_type": "stream",
     "text": [
      "Array sum:\n",
      " [[5 5]\n",
      " [5 5]]\n",
      "Array multiplication:\n",
      " [[4 6]\n",
      " [6 4]]\n",
      "Matrix multiplication:\n",
      " [[ 8  5]\n",
      " [20 13]]\n"
     ]
    }
   ],
   "source": [
    "# Python program to demonstrate\n",
    "# binary operators in Numpy\n",
    "import numpy as np\n",
    "\n",
    "a = np.array([[1, 2],\n",
    "            [3, 4]])\n",
    "b = np.array([[4, 3],\n",
    "            [2, 1]])\n",
    "\n",
    "# add arrays\n",
    "print (\"Array sum:\\n\", a + b)\n",
    "\n",
    "# multiply arrays (elementwise multiplication)\n",
    "print (\"Array multiplication:\\n\", a*b)\n",
    "\n",
    "# matrix multiplication\n",
    "print (\"Matrix multiplication:\\n\", a.dot(b))"
   ]
  },
  {
   "cell_type": "code",
   "execution_count": null,
   "id": "ba544227-5e6f-43f0-a893-475f540d57ab",
   "metadata": {},
   "outputs": [],
   "source": []
  },
  {
   "cell_type": "markdown",
   "id": "eba84d7c-9a19-463a-81ad-105ff83c2690",
   "metadata": {},
   "source": [
    "**NymPy’s ufuncs**\n",
    "  \n",
    "NumPy provides familiar mathematical functions such as sin, cos, exp, etc. These functions also operate elementwise on an array, producing an array as output.\n",
    "\n",
    "Note: All the operations we did above using overloaded operators can be done using ufuncs like np.add, np.subtract, np.multiply, np.divide, np.sum, etc. "
   ]
  },
  {
   "cell_type": "code",
   "execution_count": 13,
   "id": "abed2567-f42d-4846-ac88-8b640d1b739b",
   "metadata": {},
   "outputs": [
    {
     "name": "stdout",
     "output_type": "stream",
     "text": [
      "Sine values of array elements: [0.0000000e+00 1.0000000e+00 1.2246468e-16]\n",
      "Exponent of array elements: [ 1.          2.71828183  7.3890561  20.08553692]\n",
      "Square root of array elements: [0.         1.         1.41421356 1.73205081]\n"
     ]
    }
   ],
   "source": [
    "# Python program to demonstrate\n",
    "# universal functions in numpy\n",
    "import numpy as np\n",
    "\n",
    "# create an array of sine values\n",
    "a = np.array([0, np.pi/2, np.pi])\n",
    "print (\"Sine values of array elements:\", np.sin(a))\n",
    "\n",
    "# exponential values\n",
    "a = np.array([0, 1, 2, 3])\n",
    "print (\"Exponent of array elements:\", np.exp(a))\n",
    "\n",
    "# square root of array values\n",
    "print (\"Square root of array elements:\", np.sqrt(a))"
   ]
  },
  {
   "cell_type": "code",
   "execution_count": null,
   "id": "30752c2c-a537-4589-914b-7863bfbca831",
   "metadata": {},
   "outputs": [],
   "source": []
  },
  {
   "cell_type": "markdown",
   "id": "47247b78-0e37-45cf-bb84-399eb726c2c5",
   "metadata": {},
   "source": [
    "**NumPy Sorting Arrays**\n",
    "\r\n",
    "There is a simple np.sort() method for sorting Python NumPy arrays. Let’s explore it a bit."
   ]
  },
  {
   "cell_type": "code",
   "execution_count": 30,
   "id": "aae1ec31-45e0-4a99-950f-0e9b4e24b877",
   "metadata": {},
   "outputs": [
    {
     "name": "stdout",
     "output_type": "stream",
     "text": [
      "Array elements in sorted order:\n",
      " [-1  0  1  2  3  4  4  5  6]\n",
      "Column wise sort using merge-sort :\n",
      " [[ 0 -1  2]\n",
      " [ 1  4  5]\n",
      " [ 3  4  6]]\n",
      "Structured array:\n",
      " [(b'Hrithik', 2009, 8.5) (b'Ajay', 2008, 8.7) (b'Pankaj', 2008, 7.9)\n",
      " (b'Aakash', 2009, 9. )]\n",
      "Array sorted by name:\n",
      " [(b'Aakash', 2009, 9. ) (b'Ajay', 2008, 8.7) (b'Hrithik', 2009, 8.5)\n",
      " (b'Pankaj', 2008, 7.9)]\n",
      "Array sorted by graduation year then cgpa:\n",
      " [(b'Pankaj', 2008, 7.9) (b'Ajay', 2008, 8.7) (b'Hrithik', 2009, 8.5)\n",
      " (b'Aakash', 2009, 9. )]\n"
     ]
    }
   ],
   "source": [
    "# Python program to demonstrate sorting in numpy\n",
    "a = np.array([[1, 4, 2],\n",
    "              [3, 4, 6],\n",
    "              [0, -1, 5]])\n",
    "# sorted array\n",
    "print(\"Array elements in sorted order:\\n\",np.sort(a,axis = None))\n",
    "\n",
    "# specify sort algorithm\n",
    "print(\"Column wise sort using merge-sort :\\n\",np.sort(a,axis =0,kind = 'mergesort'))\n",
    "\n",
    "# Example to show sorting of structured array\n",
    "# set alias names for dtypes\n",
    "dtypes = [('name', 'S10'), ('grad_year', int), ('cgpa', float)]\n",
    "\n",
    "# Values to be put in array\n",
    "values = [('Hrithik', 2009, 8.5), ('Ajay', 2008, 8.7), \n",
    "           ('Pankaj', 2008, 7.9), ('Aakash', 2009, 9.0)]\n",
    "\n",
    "# Creating array\n",
    "arr = np.array(values, dtype = dtypes)\n",
    "print(\"Structured array:\\n\",arr)\n",
    "print(\"Array sorted by name:\\n\",np.sort(arr, order='name'))\n",
    "print(\"Array sorted by graduation year then cgpa:\\n\",np.sort(arr,order=['grad_year', 'cgpa']))"
   ]
  },
  {
   "cell_type": "code",
   "execution_count": null,
   "id": "559a8318-0bb2-4a0c-b98d-e167f4063ce9",
   "metadata": {},
   "outputs": [],
   "source": []
  },
  {
   "cell_type": "code",
   "execution_count": null,
   "id": "a140a8b9-0684-420e-a88e-ce7132c47b4c",
   "metadata": {},
   "outputs": [],
   "source": []
  },
  {
   "cell_type": "code",
   "execution_count": null,
   "id": "59c1d8be-df2c-470d-b94c-033d6a68422e",
   "metadata": {},
   "outputs": [],
   "source": []
  },
  {
   "cell_type": "markdown",
   "id": "47e5e3a0-9dca-49fd-9d32-88ab87f9b33d",
   "metadata": {},
   "source": [
    "**Exercise**"
   ]
  },
  {
   "cell_type": "markdown",
   "id": "6e4b54af-8f48-4d97-99b5-afec11984a85",
   "metadata": {},
   "source": [
    "**1. Array Creation and Initialization**\n",
    "\n",
    "Task:\n",
    "\n",
    "- Create a NumPy array from a list and a tuple.\n",
    "- Create a 3x4 matrix of zeros and a 2x2 matrix of ones.\n",
    "- Generate a sequence of numbers starting from 10 to 50 with a step size of 5, and another sequence of 10 evenly spaced numbers between 0 and 1."
   ]
  },
  {
   "cell_type": "markdown",
   "id": "7f71df59-0d20-482e-87d3-2b5d295a5ca5",
   "metadata": {},
   "source": [
    "*solution*"
   ]
  },
  {
   "cell_type": "code",
   "execution_count": 37,
   "id": "33cf50d2-45d8-40b7-b891-f31a2627d51b",
   "metadata": {},
   "outputs": [
    {
     "name": "stdout",
     "output_type": "stream",
     "text": [
      "Array by tuple:\n",
      " [[1 2 3]\n",
      " [4 5 6]]\n",
      "Array by list:\n",
      " [[1 2 3]\n",
      " [4 5 6]]\n"
     ]
    }
   ],
   "source": [
    "#1) Create a NumPy array from a list and a tuple.\n",
    "a = ((1,2,3),(4,5,6))\n",
    "arr_tup = np.array(a)\n",
    "print(\"Array by tuple:\\n\",arr_tup)\n",
    "\n",
    "b = [[1,2,3],[4,5,6]]\n",
    "arr_list = np.array(b)\n",
    "print(\"Array by list:\\n\",arr_list)"
   ]
  },
  {
   "cell_type": "code",
   "execution_count": 44,
   "id": "8d4b092d-d5e1-4b2b-8b57-c9c17a6ecd70",
   "metadata": {},
   "outputs": [
    {
     "name": "stdout",
     "output_type": "stream",
     "text": [
      "matrix of zeros:\n",
      " [[0 0 0 0]\n",
      " [0 0 0 0]\n",
      " [0 0 0 0]]\n",
      "matrix of ones:\n",
      " [[1 1]\n",
      " [1 1]]\n"
     ]
    }
   ],
   "source": [
    "#2) Create a 3x4 matrix of zeros and a 2x2 matrix of ones.\n",
    "mat_1 = np.zeros((3,4),dtype = 'int')\n",
    "print(\"matrix of zeros:\\n\",mat_1)\n",
    "\n",
    "mat_2 = np.full((2,2),1)\n",
    "print(\"matrix of ones:\\n\",mat_2)"
   ]
  },
  {
   "cell_type": "code",
   "execution_count": 51,
   "id": "6b9bfce4-6047-4d5f-b13d-e5a2255041ff",
   "metadata": {},
   "outputs": [
    {
     "name": "stdout",
     "output_type": "stream",
     "text": [
      "sequence of numbers starting from 10 to 50 with a step size of 5:\n",
      " [10 15 20 25 30 35 40 45 50]\n",
      "\n",
      "sequence of 10 evenly spaced numbers between 0 and 1:\n",
      " [0.         0.11111111 0.22222222 0.33333333 0.44444444 0.55555556\n",
      " 0.66666667 0.77777778 0.88888889 1.        ]\n"
     ]
    }
   ],
   "source": [
    "#3) Generate a sequence of numbers starting from 10 to 50 with a step size of 5, and another sequence of 10 evenly spaced numbers between 0 and 1.\n",
    "a = np.arange(10,51,5)\n",
    "print(\"sequence of numbers starting from 10 to 50 with a step size of 5:\\n\",a)\n",
    "\n",
    "b = np.linspace(0,1,10)\n",
    "print(\"\\nsequence of 10 evenly spaced numbers between 0 and 1:\\n\",b)"
   ]
  },
  {
   "cell_type": "code",
   "execution_count": null,
   "id": "1cc4ec79-6603-4c36-b568-934772105f03",
   "metadata": {},
   "outputs": [],
   "source": []
  },
  {
   "cell_type": "markdown",
   "id": "fd5cda30-6898-4d12-9687-154f8b5d2fde",
   "metadata": {},
   "source": [
    "**2. Array Reshaping and Flattening**\n",
    "\n",
    "Task:\n",
    "- Given a 1D array with 12 elements, reshape it into a 3x4 matrix and then flatten it back into a 1D array.\n",
    "- Reshape the same array into a 2x2x3 array.\n",
    "- Describe the difference between reshaping and flattening arrays."
   ]
  },
  {
   "cell_type": "code",
   "execution_count": 59,
   "id": "923db66a-078e-4cc4-8265-02e124d4e18c",
   "metadata": {},
   "outputs": [
    {
     "name": "stdout",
     "output_type": "stream",
     "text": [
      "Original array:\n",
      " [ 1  2  3  4  5  6  7  8  9 10 11 12]\n",
      "Reshaped arra to 3x4:\n",
      " [[ 1  2  3  4]\n",
      " [ 5  6  7  8]\n",
      " [ 9 10 11 12]]\n",
      "Converted 3x4 array to 1D array:\n",
      " [ 1  2  3  4  5  6  7  8  9 10 11 12]\n",
      "Reshaped arra to 2x2x3:\n",
      " [[[ 1  2  3]\n",
      "  [ 4  5  6]]\n",
      "\n",
      " [[ 7  8  9]\n",
      "  [10 11 12]]]\n"
     ]
    }
   ],
   "source": [
    "#1) Given a 1D array with 12 elements, reshape it into a 3x4 matrix and then flatten it back into a 1D array.\n",
    "arr = np.array([1,2,3,4,5,6,7,8,9,10,11,12])\n",
    "reshape_arr = arr.reshape(3,4)\n",
    "print(\"Original array:\\n\",arr)\n",
    "print(\"Reshaped arra to 3x4:\\n\",reshape_arr)\n",
    "flatten_arr = reshape_arr.flatten()\n",
    "print(\"Converted 3x4 array to 1D array:\\n\",flatten_arr)\n",
    "\n",
    "#2) Reshape the same array into a 2x2x3 array.\n",
    "reshaped_arr = flatten_arr.reshape(2,2,3)\n",
    "print(\"Reshaped arra to 2x2x3:\\n\",reshaped_arr)\n"
   ]
  },
  {
   "cell_type": "code",
   "execution_count": null,
   "id": "db313131-a166-481b-a3d3-d9e20e1d689c",
   "metadata": {},
   "outputs": [],
   "source": []
  },
  {
   "cell_type": "markdown",
   "id": "8dc407b3-a9ba-43eb-8294-247e152a3338",
   "metadata": {},
   "source": [
    "**3. Array Indexing and Slicing**\n",
    "\n",
    "Task:\n",
    "\n",
    "- Create a 2D array and access the element at a specific position (e.g., the second row, third column).\n",
    "- Extract a specific row and column from the array.\n",
    "- Slice the array to extract a subset (e.g., the first two rows and columns).\n",
    "- Modify a specific element in the array and observe the changes."
   ]
  },
  {
   "cell_type": "code",
   "execution_count": 76,
   "id": "55f47d96-8d97-4b28-a12e-443090b8d7c7",
   "metadata": {},
   "outputs": [
    {
     "name": "stdout",
     "output_type": "stream",
     "text": [
      "Original array:\n",
      " [[1 2 3]\n",
      " [4 5 6]]\n",
      "the second row, third column: 6\n"
     ]
    }
   ],
   "source": [
    "#1) Create a 2D array and access the element at a specific position (e.g., the second row, third column).\n",
    "arr = np.array([[1,2,3],[4,5,6]])\n",
    "print(\"Original array:\\n\",arr)\n",
    "\n",
    "temp = arr[1,2]\n",
    "print(\"the second row, third column:\",temp)"
   ]
  },
  {
   "cell_type": "code",
   "execution_count": 81,
   "id": "38893ea8-0f61-476c-86f5-748458c14457",
   "metadata": {},
   "outputs": [
    {
     "name": "stdout",
     "output_type": "stream",
     "text": [
      "Original array:\n",
      " [[1 2 3]\n",
      " [4 5 6]\n",
      " [7 8 9]]\n"
     ]
    },
    {
     "data": {
      "text/plain": [
       "array([[1, 2],\n",
       "       [4, 5]])"
      ]
     },
     "execution_count": 81,
     "metadata": {},
     "output_type": "execute_result"
    }
   ],
   "source": [
    "#2) Slice the array to extract a subset (e.g., the first two rows and columns).\n",
    "arr = np.array([[1,2,3],[4,5,6],[7,8,9]])\n",
    "print(\"Original array:\\n\",arr)\n",
    "temp = arr[:2,:2]\n",
    "temp"
   ]
  },
  {
   "cell_type": "code",
   "execution_count": null,
   "id": "2a081dcd-52ff-4c16-8844-5459b64c9c39",
   "metadata": {},
   "outputs": [],
   "source": []
  },
  {
   "cell_type": "markdown",
   "id": "51c7775c-fd8a-4c35-b42e-e5e2473cf148",
   "metadata": {},
   "source": [
    "**4. Mathematical Operations**\n",
    "\n",
    "Task:\n",
    "\n",
    "- Perform the following operations on an array of integers:\n",
    "- Add a constant value to each element.\n",
    "- Multiply each element by a constant.\n",
    "- Square each element.\n",
    "- Find the square root of each element.\n",
    "- Calculate the sum, mean, and standard deviation of the array."
   ]
  },
  {
   "cell_type": "code",
   "execution_count": 98,
   "id": "57647e91-0982-4fb4-8fe6-3a9ac95082a8",
   "metadata": {},
   "outputs": [
    {
     "name": "stdout",
     "output_type": "stream",
     "text": [
      "Original Array:\n",
      " [ 1  3  5  7  9 11 13 15 17 19]\n",
      "\n",
      "Adding 3 to each elements in array:  [ 4  6  8 10 12 14 16 18 20 22]\n",
      "\n",
      "Multipying each element by 10:  [ 10  30  50  70  90 110 130 150 170 190]\n",
      "\n",
      "Squre of each elements:  [  1   9  25  49  81 121 169 225 289 361]\n",
      "\n",
      "Squre root of each elements in sqr:  [ 1.  3.  5.  7.  9. 11. 13. 15. 17. 19.]\n",
      "\n",
      "sum of an array:  100\n",
      "mean of an array:  10.0\n",
      "standard deviation of the array:  5.744562646538029\n"
     ]
    }
   ],
   "source": [
    "arr = np.arange(1,20,2)\n",
    "print(\"Original Array:\\n\",arr)\n",
    "\n",
    "#Add a constant value to each element.\n",
    "print(\"\\nAdding 3 to each elements in array: \",arr+3)\n",
    "\n",
    "#Multiply each element by a constant.\n",
    "print(\"\\nMultipying each element by 10: \",arr*10)\n",
    "\n",
    "#Square each element.\n",
    "sqr = arr**2\n",
    "print(\"\\nSqure of each elements: \",sqr)\n",
    "\n",
    "#Find the square root of each element.\n",
    "print(\"\\nSqure root of each elements in sqr: \",np.sqrt(sqr))\n",
    "\n",
    "#Calculate the sum, mean, and standard deviation of the array.\n",
    "print(\"\\nsum of an array: \",np.sum(arr))\n",
    "print(\"mean of an array: \",np.mean(arr))\n",
    "print(\"standard deviation of the array: \",np.std(arr))"
   ]
  },
  {
   "cell_type": "code",
   "execution_count": null,
   "id": "9513bfd9-16ef-4a23-ad70-6869ac01c8a2",
   "metadata": {},
   "outputs": [],
   "source": []
  },
  {
   "cell_type": "markdown",
   "id": "56173bd5-f9b8-4e02-a4f5-39fd09b440d3",
   "metadata": {},
   "source": [
    "**5. Broadcasting**\n",
    "\n",
    "Broadcasting is a powerful feature in NumPy that allows you to perform element-wise operations on arrays of different shapes. It \"stretches\" or \"broadcasts\" smaller arrays across larger arrays to make their shapes compatible for element-wise operations, without creating explicit copies of the data. Broadcasting works by aligning the dimensions of arrays in such a way that operations can be performed element-wise even if the shapes of the arrays don't match exactly.\n",
    "\n",
    "Task:\n",
    "\n",
    "- Create a 2D array and a 1D array, then perform element-wise addition and subtraction between the two.\n",
    "- Multiply the 2D array by a scalar.\n",
    "- Explain how broadcasting works and why it allows these operations.\n"
   ]
  },
  {
   "cell_type": "code",
   "execution_count": 99,
   "id": "36c71715-51b1-4833-b9cf-ee850ba433ad",
   "metadata": {},
   "outputs": [
    {
     "name": "stdout",
     "output_type": "stream",
     "text": [
      "Original 2D array:\n",
      "[[1 2 3]\n",
      " [4 5 6]\n",
      " [7 8 9]]\n",
      "\n",
      "1D array:\n",
      "[1 2 3]\n",
      "\n",
      "Element-wise addition (2D + 1D):\n",
      "[[ 2  4  6]\n",
      " [ 5  7  9]\n",
      " [ 8 10 12]]\n",
      "\n",
      "Element-wise subtraction (2D - 1D):\n",
      "[[0 0 0]\n",
      " [3 3 3]\n",
      " [6 6 6]]\n",
      "\n",
      "Multiply the 2D array by a scalar (2):\n",
      "[[ 2  4  6]\n",
      " [ 8 10 12]\n",
      " [14 16 18]]\n"
     ]
    }
   ],
   "source": [
    "import numpy as np\n",
    "\n",
    "# Create a 2D array (3x3)\n",
    "arr_2d = np.array([[1, 2, 3], \n",
    "                   [4, 5, 6], \n",
    "                   [7, 8, 9]])\n",
    "\n",
    "# Create a 1D array (with 3 elements)\n",
    "arr_1d = np.array([1, 2, 3])\n",
    "\n",
    "# Element-wise addition\n",
    "result_add = arr_2d + arr_1d\n",
    "\n",
    "# Element-wise subtraction\n",
    "result_subtract = arr_2d - arr_1d\n",
    "\n",
    "# Multiply the 2D array by a scalar (e.g., 2)\n",
    "result_multiply = arr_2d * 2\n",
    "\n",
    "print(\"Original 2D array:\")\n",
    "print(arr_2d)\n",
    "\n",
    "print(\"\\n1D array:\")\n",
    "print(arr_1d)\n",
    "\n",
    "print(\"\\nElement-wise addition (2D + 1D):\")\n",
    "print(result_add)\n",
    "\n",
    "print(\"\\nElement-wise subtraction (2D - 1D):\")\n",
    "print(result_subtract)\n",
    "\n",
    "print(\"\\nMultiply the 2D array by a scalar (2):\")\n",
    "print(result_multiply)\n"
   ]
  },
  {
   "cell_type": "code",
   "execution_count": null,
   "id": "04f8ff7e-e2b9-4f1e-9d88-559faadf571c",
   "metadata": {},
   "outputs": [],
   "source": []
  },
  {
   "cell_type": "markdown",
   "id": "742bd323-25b2-4eea-9837-31c867fb8198",
   "metadata": {},
   "source": [
    "**6. Sorting Arrays**\n",
    "\n",
    "Task:\n",
    "\n",
    "- Sort a 1D array in ascending and descending order.\n",
    "- Sort a 2D array row-wise and column-wise.\n",
    "- Investigate how sorting works with negative numbers and missing values."
   ]
  },
  {
   "cell_type": "code",
   "execution_count": 112,
   "id": "237c9c1f-9712-4d85-b169-f05a912f251b",
   "metadata": {},
   "outputs": [
    {
     "name": "stdout",
     "output_type": "stream",
     "text": [
      "Original 1D array: [1 2 8 9 7 3 5 4 0]\n",
      "Sorted array in ascending order:  [0 1 2 3 4 5 7 8 9]\n",
      "Sorted array in descending order:  [9 8 7 5 4 3 2 1 0]\n",
      "\n",
      "Original 2D array:\n",
      " [[ 5  8  9  1]\n",
      " [12  5 69 32]]\n",
      "Sorted array row wise:\n",
      " [[ 1  5  8  9]\n",
      " [ 5 12 32 69]]\n",
      "Sorted array column wise:\n",
      " [[ 5  5  9  1]\n",
      " [12  8 69 32]]\n"
     ]
    }
   ],
   "source": [
    "arr = np.array([1,2,8,9,7,3,5,4,0])\n",
    "print(\"Original 1D array:\",arr)\n",
    "#Sort a 1D array in ascending and descending order.\n",
    "print(\"Sorted array in ascending order: \",np.sort(arr))\n",
    "print(\"Sorted array in descending order: \",np.sort(arr)[::-1])\n",
    "\n",
    "#Sort a 2D array row-wise and column-wise.\n",
    "arr = np.array([[5,8,9,1],[12,5,69,32]])\n",
    "print(\"\\nOriginal 2D array:\\n\",arr)\n",
    "print(\"Sorted array row wise:\\n\",np.sort(arr,axis=1))\n",
    "print(\"Sorted array column wise:\\n\",np.sort(arr,axis=0))"
   ]
  },
  {
   "cell_type": "code",
   "execution_count": null,
   "id": "49682354-4746-4124-9d94-17dc93cef699",
   "metadata": {},
   "outputs": [],
   "source": []
  },
  {
   "cell_type": "markdown",
   "id": "a43ac007-a411-40ef-b1d7-e126da53816e",
   "metadata": {},
   "source": [
    "**7. Linear Algebra Operations**\n",
    "\n",
    "Task:\n",
    "\n",
    "- Given two square matrices, perform the following operations:\n",
    "- Multiply the matrices.\n",
    "- Calculate the determinant of one matrix.\n",
    "- Find the inverse of a matrix if it exists.\n",
    "- Compute the eigenvalues and eigenvectors of the matrix."
   ]
  },
  {
   "cell_type": "code",
   "execution_count": 118,
   "id": "146e9959-f4fd-4392-b623-9d9ce2d498a9",
   "metadata": {},
   "outputs": [
    {
     "name": "stdout",
     "output_type": "stream",
     "text": [
      "Multiply matrix a and b:\n",
      " [[ 14  30  48]\n",
      " [ 68  90 114]\n",
      " [ 77  96 117]]\n",
      "Determinant of the matrix: -9.51619735392994e-16\n",
      "Inverse of the matrix:\n",
      "[[ 3.15251974e+15 -6.30503948e+15  3.15251974e+15]\n",
      " [-6.30503948e+15  1.26100790e+16 -6.30503948e+15]\n",
      " [ 3.15251974e+15 -6.30503948e+15  3.15251974e+15]]\n",
      "Eigenvalues:\n",
      "[ 1.61168440e+01 -1.11684397e+00 -3.38433605e-16]\n",
      "\n",
      "Eigenvectors:\n",
      "[[-0.23197069 -0.78583024  0.40824829]\n",
      " [-0.52532209 -0.08675134 -0.81649658]\n",
      " [-0.8186735   0.61232756  0.40824829]]\n"
     ]
    }
   ],
   "source": [
    "#1) Given two square matrices, perform the following operations:\n",
    "\n",
    "a = np.array([[1,2,3],[4,5,6],[7,8,9]])\n",
    "b = np.array([[14,15,16],[17,18,19],[11,12,13]])\n",
    "\n",
    "#Multiply the matrices.\n",
    "print(\"Multiply matrix a and b:\\n\",a*b)\n",
    "\n",
    "#Calculate the determinant of one matrix.\n",
    "determinant = np.linalg.det(a)\n",
    "print(\"Determinant of the matrix:\", determinant)\n",
    "\n",
    "#Find the inverse of a matrix if it exists.\n",
    "# Check if the determinant is non-zero (matrix is invertible)\n",
    "determinant = np.linalg.det(a)\n",
    "if determinant != 0:\n",
    "    # Calculate the inverse\n",
    "    inverse = np.linalg.inv(a)\n",
    "    print(\"Inverse of the matrix:\")\n",
    "    print(inverse)\n",
    "else:\n",
    "    print(\"The matrix is singular and does not have an inverse.\")\n",
    "\n",
    "#Compute the eigenvalues and eigenvectors of the matrix.\n",
    "# Compute eigenvalues and eigenvectors\n",
    "eigenvalues, eigenvectors = np.linalg.eig(a)\n",
    "\n",
    "print(\"Eigenvalues:\")\n",
    "print(eigenvalues)\n",
    "\n",
    "print(\"\\nEigenvectors:\")\n",
    "print(eigenvectors)\n"
   ]
  },
  {
   "cell_type": "code",
   "execution_count": null,
   "id": "ba3dc901-e77f-4321-be40-a0714d46ffef",
   "metadata": {},
   "outputs": [],
   "source": []
  },
  {
   "cell_type": "markdown",
   "id": "27fcc80f-b73c-4b16-81ae-01841206f271",
   "metadata": {},
   "source": [
    "**8. Array Aggregation and Comparison**\n",
    "\n",
    "Task:\n",
    "\n",
    "- Given a 2D array, compute the sum of all elements and the sum along each row and column.\n",
    "- Find the maximum and minimum values in the array.\n",
    "- Compare the array against a constant value to create a boolean array, indicating where values exceed that threshold."
   ]
  },
  {
   "cell_type": "code",
   "execution_count": 143,
   "id": "df032faf-6b2c-4b78-90e7-63573f86cc1f",
   "metadata": {},
   "outputs": [
    {
     "name": "stdout",
     "output_type": "stream",
     "text": [
      "the sum of all elements:  198\n",
      "\n",
      "sum along each row   :  [36 66 96]\n",
      "\n",
      "sum along each column:  [63 66 69]\n",
      "Max value in array:  33\n",
      "Min value in array:  11\n",
      "boolean array, indicating where values exceed that threshold:\n",
      " [[False False False]\n",
      " [False False  True]\n",
      " [ True  True  True]]\n"
     ]
    }
   ],
   "source": [
    "#Given a 2D array, compute the sum of all elements and the sum along each row and column.\n",
    "arr = np.array([[11,12,13],\n",
    "                [21,22,23],\n",
    "                [31,32,33]])\n",
    "array_sum = np.sum(arr)\n",
    "print(\"the sum of all elements: \",array_sum)\n",
    "\n",
    "#sum along each row and column\n",
    "row_sum = np.sum(arr,axis = 1)\n",
    "print(\"\\nsum along each row   : \",row_sum)\n",
    "col_sum = np.sum(arr,axis = 0)\n",
    "print(\"\\nsum along each column: \",col_sum)\n",
    "\n",
    "#Find the maximum and minimum values in the array\n",
    "max_val = np.max(arr)\n",
    "min_val = np.min(arr)\n",
    "print(\"Max value in array: \",max_val)\n",
    "print(\"Min value in array: \",min_val)\n",
    "\n",
    "#Compare the array against a constant value to create a boolean array, indicating where values exceed that threshold.\n",
    "constant = 22\n",
    "bool_array = arr > constant\n",
    "print(\"boolean array, indicating where values exceed that threshold:\\n\",bool_array)"
   ]
  },
  {
   "cell_type": "code",
   "execution_count": null,
   "id": "09517112-278e-4717-b768-cd5e364c7a96",
   "metadata": {},
   "outputs": [],
   "source": []
  },
  {
   "cell_type": "markdown",
   "id": "39630ac0-6bf9-4ebc-ab27-ca0745973bfb",
   "metadata": {},
   "source": [
    "**9. Handling Missing Data**\n",
    "\n",
    "Task:\n",
    "\n",
    "- Given an array with some missing values, replace the missing values with a specific value (e.g., zero).\n",
    "- Calculate the mean of the array while ignoring missing values.\n",
    "- Create a boolean mask identifying missing data.\n"
   ]
  },
  {
   "cell_type": "code",
   "execution_count": 221,
   "id": "853d6224-8276-467c-a0f0-241c81b2cced",
   "metadata": {},
   "outputs": [
    {
     "name": "stdout",
     "output_type": "stream",
     "text": [
      "Original array:\n",
      " [[ 1.  2. nan]\n",
      " [ 4. nan  6.]\n",
      " [ 7.  8. nan]]\n",
      "\n",
      "missing values with a specific value with zero:\n",
      " [[1 2 0]\n",
      " [4 0 6]\n",
      " [7 8 0]]\n",
      "\n",
      "the mean of the array while ignoring missing values:  4.666666666666667\n",
      "\n",
      "boolean mask identifying missing data:\n",
      " [[False False  True]\n",
      " [False  True False]\n",
      " [False False  True]]\n"
     ]
    }
   ],
   "source": [
    "#Given an array with some missing values, replace the missing values with a specific value (e.g., zero).\n",
    "arr = np.array([[1,2,np.nan],[4,np.nan,6],[7,8,np.nan]])\n",
    "print(\"Original array:\\n\",arr)\n",
    "\n",
    "replace_arr = np.nan_to_num(arr, nan=0)\n",
    "#convert float dtype to int\n",
    "replace_arr = replace_arr.astype(int)\n",
    "print(\"\\nmissing values with a specific value with zero:\\n\",replace_arr)\n",
    "\n",
    "#Calculate the mean of the array while ignoring missing values.\n",
    "mean_arr = np.nanmean(arr)\n",
    "print(\"\\nthe mean of the array while ignoring missing values: \",mean_arr)\n",
    "\n",
    "#Create a boolean mask identifying missing data.\n",
    "bool_mis = np.isnan(arr)\n",
    "print(\"\\nboolean mask identifying missing data:\\n\",bool_mis)"
   ]
  },
  {
   "cell_type": "code",
   "execution_count": null,
   "id": "98a4d4ac-1143-4618-9b30-edde97bcd42f",
   "metadata": {},
   "outputs": [],
   "source": []
  },
  {
   "cell_type": "markdown",
   "id": "c7b2b499-097b-4131-a49d-1abe46bae7bd",
   "metadata": {},
   "source": [
    "**10. Random Number Generation**\n",
    "\n",
    "Task:\n",
    "\n",
    "- Generate a 5x5 array of random values between 0 and 1.\n",
    "- Generate a 5x5 array of random integers within a specified range.\n",
    "- Generate random numbers from a normal distribution with a given mean and standard deviation.\n",
    "- Explain how setting a random seed affects reproducibility."
   ]
  },
  {
   "cell_type": "code",
   "execution_count": 187,
   "id": "4826ebe7-e8c0-48c8-8ece-77f1c1a80972",
   "metadata": {},
   "outputs": [
    {
     "name": "stdout",
     "output_type": "stream",
     "text": [
      "5x5 array of random values between 0 and 1:\n",
      " [[0.60754485 0.17052412 0.06505159 0.94888554 0.96563203]\n",
      " [0.80839735 0.30461377 0.09767211 0.68423303 0.44015249]\n",
      " [0.12203823 0.49517691 0.03438852 0.9093204  0.25877998]\n",
      " [0.66252228 0.31171108 0.52006802 0.54671028 0.18485446]\n",
      " [0.96958463 0.77513282 0.93949894 0.89482735 0.59789998]]\n",
      "\n",
      "5x5 array of random integers within a specified range:\n",
      " [[17 16 18 17 14]\n",
      " [11 14 17 19 18]\n",
      " [18 10 18 16 18]\n",
      " [17 10 17 17 12]\n",
      " [10 17 12 12 10]]\n",
      "\n",
      "random numbers from a normal distribution:\n",
      " [[ 0.49671415 -0.1382643   0.64768854  1.52302986 -0.23415337]\n",
      " [-0.23413696  1.57921282  0.76743473 -0.46947439  0.54256004]\n",
      " [-0.46341769 -0.46572975  0.24196227 -1.91328024 -1.72491783]\n",
      " [-0.56228753 -1.01283112  0.31424733 -0.90802408 -1.4123037 ]\n",
      " [ 1.46564877 -0.2257763   0.0675282  -1.42474819 -0.54438272]]\n"
     ]
    }
   ],
   "source": [
    "#Generate a 5x5 array of random values between 0 and 1.\n",
    "a = np.random.rand(5,5)\n",
    "print(\"5x5 array of random values between 0 and 1:\\n\",a)\n",
    "\n",
    "#Generate a 5x5 array of random integers within a specified range\n",
    "b = np.random.randint(low=10,high=20,size = (5,5))\n",
    "print(\"\\n5x5 array of random integers within a specified range:\\n\",b)\n",
    "\n",
    "#Generate random numbers from a normal distribution with a given mean and standard deviation.\n",
    "# Define the parameters for the normal distribution\n",
    "mean = 0          # Mean (loc)\n",
    "std_dev = 1       # Standard Deviation (scale)\n",
    "size = (5, 5)     # Shape of the output array (5x5)\n",
    "\n",
    "#Generate random numbers from a normal distribution\n",
    "#Reproducibility:----------------------------------------------------------------------------------------------imp\n",
    "#To make the random values reproducible, set a random seed:----------------------------------------------------imp\n",
    "np.random.seed(42) #------------------------------- produces same values in random\n",
    "\n",
    "random_normal_array = np.random.normal(loc=mean, scale=std_dev,size = size)\n",
    "print(\"\\nrandom numbers from a normal distribution:\\n\",random_normal_array)"
   ]
  },
  {
   "cell_type": "code",
   "execution_count": null,
   "id": "4e473af0-9480-4b09-9d91-425ab671b8c4",
   "metadata": {},
   "outputs": [],
   "source": []
  },
  {
   "cell_type": "markdown",
   "id": "60966a76-991b-4023-a868-68072f91d48b",
   "metadata": {},
   "source": [
    "**12. Practical Application: Matrix Operations**\n",
    "\n",
    "Task:\n",
    "\n",
    "Given two matrices representing some data, perform the following operations:\n",
    "- Compute the element-wise multiplication (Hadamard product) of the matrices.\n",
    "- Compute the matrix multiplication (dot product) of the matrices.\n",
    "- Find the transpose of one of the matrices.\n",
    "- Add a new column or row to the matrix (homogeneous coordinates).\n"
   ]
  },
  {
   "cell_type": "code",
   "execution_count": 217,
   "id": "a0e859be-6d75-4ae5-b319-b7ac6b5ae3ed",
   "metadata": {},
   "outputs": [
    {
     "name": "stdout",
     "output_type": "stream",
     "text": [
      "element-wise multiplication (Hadamard product) of the matrices:\n",
      " [[ 60 315 702]\n",
      " [ 33  90 119]\n",
      " [ 61 450 609]]\n",
      "\n",
      "dot_product:\n",
      " [[1077  313 1718  847]\n",
      " [ 852  242 1332  642]\n",
      " [ 783  205 1120  593]]\n",
      "\n",
      "Matrix with an added column for homogeneous coordinates:\n",
      "[[5 7 9 1]\n",
      " [3 6 7 1]\n",
      " [1 5 7 1]]\n"
     ]
    }
   ],
   "source": [
    "a = np.array([[5,7,9],\n",
    "              [3,6,7],\n",
    "              [1,5,7]])\n",
    "\n",
    "b = np.array([[12,45,78],\n",
    "              [11,15,17],\n",
    "              [61,90,87]])\n",
    "\n",
    "#Compute the element-wise multiplication (Hadamard product) of the matrices.\n",
    "ele_wise_mult = a*b\n",
    "print(\"element-wise multiplication (Hadamard product) of the matrices:\\n\",ele_wise_mult)\n",
    "\n",
    "#Compute the matrix multiplication (dot product) of the matrices.\n",
    "a1 = np.array([[5,7,9],\n",
    "              [3,6,7],\n",
    "              [1,5,7]])\n",
    "\n",
    "b1 = np.array([[12,45,78],\n",
    "              [11,15,17],\n",
    "              [61,90,87],\n",
    "              [22,5,78]])\n",
    "\n",
    "#Transpose b1 4x3 to 3x4\n",
    "b1_trans = np.transpose(b1)\n",
    "dot_product = np.dot(a1,b1_trans)\n",
    "print(\"\\ndot_product:\\n\",dot_product)\n",
    "\n",
    "# Add a new column (homogeneous coordinate column of ones)\n",
    "a_homogeneous = np.hstack([a, np.ones((a.shape[0], 1))])\n",
    "# Print the result\n",
    "print(\"\\nMatrix with an added column for homogeneous coordinates:\")\n",
    "\n",
    "#convert to int dtype\n",
    "a_homogeneous = a_homogeneous.astype(int)\n",
    "print(a_homogeneous)"
   ]
  },
  {
   "cell_type": "code",
   "execution_count": null,
   "id": "03289eb2-188b-4fb1-8c71-2d31effa242d",
   "metadata": {},
   "outputs": [],
   "source": []
  },
  {
   "cell_type": "markdown",
   "id": "af5fd170-22bc-446a-b73e-2948af5233da",
   "metadata": {},
   "source": [
    "**13. Working with Dates and Time**\n",
    "\n",
    "Task:\n",
    "\n",
    "- Create an array of dates starting from a specific date and with a specific frequency (e.g., daily).\n",
    "- Perform arithmetic operations on the dates, such as adding a certain number of days to each date.\n",
    "- Calculate the difference between two dates."
   ]
  },
  {
   "cell_type": "code",
   "execution_count": 225,
   "id": "a29ff9e9-f788-4ee4-85ff-ee3afe18b5be",
   "metadata": {},
   "outputs": [
    {
     "name": "stdout",
     "output_type": "stream",
     "text": [
      "Array of dates starting from 2024-10-01 :\n",
      "['2024-10-01' '2024-10-02' '2024-10-03' '2024-10-04' '2024-10-05'\n",
      " '2024-10-06' '2024-10-07' '2024-10-08' '2024-10-09' '2024-10-10']\n"
     ]
    }
   ],
   "source": [
    "#Create an array of dates starting from a specific date and with a specific frequency (e.g., daily).\n",
    "# Define the start date and the number of periods (dates)\n",
    "start_date = np.datetime64(\"2024-10-01\")\n",
    "num_period = 10\n",
    "\n",
    "# Generate an array of dates with a daily frequency\n",
    "date_range = start_date + np.arange(num_period)\n",
    "# Print the result\n",
    "print(\"Array of dates starting from\", start_date, \":\")\n",
    "print(date_range)"
   ]
  },
  {
   "cell_type": "code",
   "execution_count": null,
   "id": "8f3cce69-8b63-49b9-93e8-ff19dec37a14",
   "metadata": {},
   "outputs": [],
   "source": []
  }
 ],
 "metadata": {
  "kernelspec": {
   "display_name": "Python 3 (ipykernel)",
   "language": "python",
   "name": "python3"
  },
  "language_info": {
   "codemirror_mode": {
    "name": "ipython",
    "version": 3
   },
   "file_extension": ".py",
   "mimetype": "text/x-python",
   "name": "python",
   "nbconvert_exporter": "python",
   "pygments_lexer": "ipython3",
   "version": "3.11.7"
  }
 },
 "nbformat": 4,
 "nbformat_minor": 5
}
