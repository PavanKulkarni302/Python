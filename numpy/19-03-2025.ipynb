{
 "cells": [
  {
   "cell_type": "markdown",
   "id": "50db60b9-3fd9-4a76-8854-b49b7d41aa43",
   "metadata": {},
   "source": [
    "## NumPy Tasks\n",
    "\n",
    "#### Basic Operations\n",
    "\n",
    "* Create a 5×5 NumPy array filled with random numbers between 0 and 1.\n",
    "* Normalize an array (i.e., scale values between 0 and 1).\n",
    "* Replace all even numbers in an array with -1.\n",
    "* Generate a 10×10 identity matrix.\n",
    "* Find the mean, median, variance, and standard deviation of a NumPy array.\n",
    "#### Indexing & Manipulation\n",
    "* Extract all odd numbers from a NumPy array.\n",
    "* Reshape a 1D array into a 3D array.\n",
    "* Find the indices where a NumPy array’s values are greater than a given threshold.\n",
    "* Stack two NumPy arrays horizontally and vertically.\n",
    "* Flatten a multi-dimensional array.\n"
   ]
  },
  {
   "cell_type": "code",
   "execution_count": 2,
   "id": "3f75d9df-b2a1-4f8c-a14f-e3b044d06c6a",
   "metadata": {},
   "outputs": [],
   "source": [
    "import numpy as np"
   ]
  },
  {
   "cell_type": "markdown",
   "id": "c2e6efb7-e9db-4b30-bd6e-06a265e39e00",
   "metadata": {},
   "source": [
    "## Basic Operations"
   ]
  },
  {
   "cell_type": "code",
   "execution_count": 3,
   "id": "b211ab70-20b9-4727-b03b-828635693405",
   "metadata": {},
   "outputs": [
    {
     "data": {
      "text/plain": [
       "array([[0.37454012, 0.95071431, 0.73199394, 0.59865848, 0.15601864],\n",
       "       [0.15599452, 0.05808361, 0.86617615, 0.60111501, 0.70807258],\n",
       "       [0.02058449, 0.96990985, 0.83244264, 0.21233911, 0.18182497],\n",
       "       [0.18340451, 0.30424224, 0.52475643, 0.43194502, 0.29122914],\n",
       "       [0.61185289, 0.13949386, 0.29214465, 0.36636184, 0.45606998]])"
      ]
     },
     "execution_count": 3,
     "metadata": {},
     "output_type": "execute_result"
    }
   ],
   "source": [
    "# Create a 5×5 NumPy array filled with random numbers between 0 and 1.\n",
    "np.random.seed(42)\n",
    "np.random.rand(5,5)"
   ]
  },
  {
   "cell_type": "code",
   "execution_count": 9,
   "id": "f3bbd504-19f5-43e3-8225-cde41414a7cf",
   "metadata": {},
   "outputs": [
    {
     "data": {
      "text/plain": [
       "array([0.06818182, 0.51136364, 0.375     , 0.86363636, 0.89772727,\n",
       "       0.38636364, 0.54545455, 0.02272727, 0.        , 0.04545455])"
      ]
     },
     "execution_count": 9,
     "metadata": {},
     "output_type": "execute_result"
    }
   ],
   "source": [
    "# Normalize an array (i.e., scale values between 0 and 1).\n",
    "X = np.random.randint(10,100,10)\n",
    "Xmax = arr.max()\n",
    "Xmin = arr.min()\n",
    "normalize = (X - Xmin) / (Xmax - Xmin)\n",
    "normalize"
   ]
  },
  {
   "cell_type": "code",
   "execution_count": 26,
   "id": "d519f81a-4605-4570-b959-89edda2f7cdf",
   "metadata": {},
   "outputs": [
    {
     "data": {
      "text/plain": [
       "array([ 1, -1,  3, -1,  5, -1,  7, -1,  9])"
      ]
     },
     "execution_count": 26,
     "metadata": {},
     "output_type": "execute_result"
    }
   ],
   "source": [
    "# Replace all even numbers in an array with -1\n",
    "x = np.arange(1,10)\n",
    "x[x % 2 == 0] = -1\n",
    "x"
   ]
  },
  {
   "cell_type": "code",
   "execution_count": 27,
   "id": "34738eb2-ea90-4ab8-8908-4c69b72b41f8",
   "metadata": {},
   "outputs": [
    {
     "data": {
      "text/plain": [
       "array([[1., 0., 0., 0., 0., 0., 0., 0., 0., 0.],\n",
       "       [0., 1., 0., 0., 0., 0., 0., 0., 0., 0.],\n",
       "       [0., 0., 1., 0., 0., 0., 0., 0., 0., 0.],\n",
       "       [0., 0., 0., 1., 0., 0., 0., 0., 0., 0.],\n",
       "       [0., 0., 0., 0., 1., 0., 0., 0., 0., 0.],\n",
       "       [0., 0., 0., 0., 0., 1., 0., 0., 0., 0.],\n",
       "       [0., 0., 0., 0., 0., 0., 1., 0., 0., 0.],\n",
       "       [0., 0., 0., 0., 0., 0., 0., 1., 0., 0.],\n",
       "       [0., 0., 0., 0., 0., 0., 0., 0., 1., 0.],\n",
       "       [0., 0., 0., 0., 0., 0., 0., 0., 0., 1.]])"
      ]
     },
     "execution_count": 27,
     "metadata": {},
     "output_type": "execute_result"
    }
   ],
   "source": [
    "# Generate a 10×10 identity matrix.\n",
    "#Using np.eye() (Identity Matrix)\n",
    "x = np.eye(10)\n",
    "x"
   ]
  },
  {
   "cell_type": "code",
   "execution_count": 81,
   "id": "a14582a0-27ca-480a-99d2-c0164c098a4f",
   "metadata": {},
   "outputs": [
    {
     "name": "stdout",
     "output_type": "stream",
     "text": [
      "mean              : 10.5\n",
      "median            : 10.5\n",
      "variance          : 33.25\n",
      "standard deviation: 5.766281297335398\n"
     ]
    }
   ],
   "source": [
    "# Find the mean, median, variance, and standard deviation of a NumPy array.\n",
    "x = np.arange(1,21)\n",
    "Xmean = np.mean(x)\n",
    "Xmedian = np.median(x)\n",
    "Xvar = np.var(x)\n",
    "Xsd = np.std(x)\n",
    "\n",
    "print(\"mean              :\",Xmean)\n",
    "print(\"median            :\",Xmedian)\n",
    "print(\"variance          :\",Xvar)\n",
    "print(\"standard deviation:\",Xsd)"
   ]
  },
  {
   "cell_type": "code",
   "execution_count": null,
   "id": "6ec8e675-7d99-4199-9d38-0cf961a398b7",
   "metadata": {},
   "outputs": [],
   "source": []
  },
  {
   "cell_type": "markdown",
   "id": "308e994f-9467-4c70-abcd-24d8113df2c8",
   "metadata": {},
   "source": [
    "## Indexing & Manipulation"
   ]
  },
  {
   "cell_type": "code",
   "execution_count": 82,
   "id": "cbdadc71-2793-4d23-bcae-64c2a78ca58b",
   "metadata": {},
   "outputs": [
    {
     "data": {
      "text/plain": [
       "array([1, 3, 5, 7, 9])"
      ]
     },
     "execution_count": 82,
     "metadata": {},
     "output_type": "execute_result"
    }
   ],
   "source": [
    "# Extract all odd numbers from a NumPy array.\n",
    "\n",
    "x = np.arange(0,10)\n",
    "x[x % 2 != 0] "
   ]
  },
  {
   "cell_type": "code",
   "execution_count": 83,
   "id": "ea8d6f2e-bb96-4fa4-b063-e69f1cf0f619",
   "metadata": {},
   "outputs": [
    {
     "data": {
      "text/plain": [
       "array([[[ 0,  1],\n",
       "        [ 2,  3],\n",
       "        [ 4,  5]],\n",
       "\n",
       "       [[ 6,  7],\n",
       "        [ 8,  9],\n",
       "        [10, 11]]])"
      ]
     },
     "execution_count": 83,
     "metadata": {},
     "output_type": "execute_result"
    }
   ],
   "source": [
    "# Reshape a 1D array into a 3D array.\n",
    "arr = np.arange(0,12)\n",
    "arr.reshape(2,3,2)"
   ]
  },
  {
   "cell_type": "code",
   "execution_count": 84,
   "id": "880671d6-0fef-4733-a67c-a108bb92136a",
   "metadata": {},
   "outputs": [
    {
     "name": "stdout",
     "output_type": "stream",
     "text": [
      "Indices:  (array([20, 21, 22, 23], dtype=int64),)\n",
      "values:  [21 22 23 24]\n"
     ]
    }
   ],
   "source": [
    "# Find the indices(indexes) where a NumPy array’s values are greater than a given threshold.\n",
    "threshold = 20\n",
    "x = np.arange(1,25)\n",
    "print(\"Indices: \",np.where(x > threshold)) # returns indices(indexes)\n",
    "print(\"values: \",x[x > threshold])"
   ]
  },
  {
   "cell_type": "code",
   "execution_count": 85,
   "id": "a84f85e9-ebfb-4058-ad4b-8de11d113e94",
   "metadata": {},
   "outputs": [
    {
     "name": "stdout",
     "output_type": "stream",
     "text": [
      "[1 2 3 4 5 6] \n",
      " [[1 2 3]\n",
      " [4 5 6]]\n"
     ]
    }
   ],
   "source": [
    "# Stack two NumPy arrays horizontally and vertically.\n",
    "arr1 = np.array([1,2,3])\n",
    "arr2 = np.array([4,5,6])\n",
    "hstack = np.hstack((arr1, arr2)) # horizontal stack\n",
    "vstack = np.vstack((arr1, arr2)) # vertical stack\n",
    "print(hstack,'\\n',vstack)"
   ]
  },
  {
   "cell_type": "code",
   "execution_count": 86,
   "id": "6bd7765c-0e0f-4d60-8748-43b7541125ae",
   "metadata": {},
   "outputs": [
    {
     "data": {
      "text/plain": [
       "array([0.64517279, 0.17436643, 0.69093774, 0.38673535, 0.93672999,\n",
       "       0.13752094, 0.34106635, 0.11347352, 0.92469362, 0.87733935,\n",
       "       0.25794163, 0.65998405, 0.8172222 , 0.55520081, 0.52965058,\n",
       "       0.24185229, 0.09310277, 0.89721576])"
      ]
     },
     "execution_count": 86,
     "metadata": {},
     "output_type": "execute_result"
    }
   ],
   "source": [
    "# Flatten a multi-dimensional array.\n",
    "x = np.random.rand(3,3,2)\n",
    "x.flatten()"
   ]
  },
  {
   "cell_type": "code",
   "execution_count": null,
   "id": "f0886764-b91d-4d9a-9210-f051d31759dd",
   "metadata": {},
   "outputs": [],
   "source": []
  },
  {
   "cell_type": "code",
   "execution_count": null,
   "id": "2c718e9d-b4f7-4c98-ab53-6195ddcf9965",
   "metadata": {},
   "outputs": [],
   "source": []
  },
  {
   "cell_type": "code",
   "execution_count": null,
   "id": "2218cdb2-ca21-466a-859a-a3800093f442",
   "metadata": {},
   "outputs": [],
   "source": []
  }
 ],
 "metadata": {
  "kernelspec": {
   "display_name": "Python 3 (ipykernel)",
   "language": "python",
   "name": "python3"
  },
  "language_info": {
   "codemirror_mode": {
    "name": "ipython",
    "version": 3
   },
   "file_extension": ".py",
   "mimetype": "text/x-python",
   "name": "python",
   "nbconvert_exporter": "python",
   "pygments_lexer": "ipython3",
   "version": "3.11.7"
  }
 },
 "nbformat": 4,
 "nbformat_minor": 5
}
