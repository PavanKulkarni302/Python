{
 "cells": [
  {
   "cell_type": "markdown",
   "id": "f019b9bb-6db5-4049-9150-357a1868fd0a",
   "metadata": {},
   "source": [
    "# NumPy Copy and View of Array\n",
    "\n",
    "While working with NumPy, you might have seen some functions return the copy whereas some functions return the view.\r\n",
    "\r\n",
    "The main difference between copy and view is that the copy is the new array whereas the view is the view of the original array. In other words, it can be said that the copy is physically stored at another location and the view has the same memory location as the original array"
   ]
  },
  {
   "cell_type": "code",
   "execution_count": 3,
   "id": "4d47acc3-dd1c-4b83-a4b9-c16b3767dbf7",
   "metadata": {},
   "outputs": [],
   "source": [
    "import numpy as np"
   ]
  },
  {
   "cell_type": "code",
   "execution_count": 19,
   "id": "8e5cb280-2b8b-4f1d-b4aa-9ba664d6380b",
   "metadata": {},
   "outputs": [
    {
     "name": "stdout",
     "output_type": "stream",
     "text": [
      "id of arr:  2202931408176\n",
      "id of v  :  2202954091664\n"
     ]
    }
   ],
   "source": [
    "#Example 1: Making a view and changing the original array\n",
    "#create array\n",
    "arr = np.array([1,10,21,32])\n",
    "#create view\n",
    "v = arr.view()\n",
    "\n",
    "# both arr and v have different id  \n",
    "print(\"id of arr: \", id(arr))  \n",
    "print(\"id of v  : \", id(v))  "
   ]
  },
  {
   "cell_type": "code",
   "execution_count": 21,
   "id": "b61db7af-68c4-4b58-91b1-a95aff13a220",
   "metadata": {},
   "outputs": [
    {
     "name": "stdout",
     "output_type": "stream",
     "text": [
      "view after changing value in array:  [1112   10   21   32]\n"
     ]
    }
   ],
   "source": [
    "# changing original array  \n",
    "# will effect view\n",
    "arr[0] = 1112\n",
    "print(\"view after changing value in array: \",v)"
   ]
  },
  {
   "cell_type": "markdown",
   "id": "7052b3c7-9701-4321-969a-9682b253ed23",
   "metadata": {},
   "source": [
    "-------------------------------------------------------------------------------------------------------------------------------"
   ]
  },
  {
   "cell_type": "code",
   "execution_count": 24,
   "id": "33ffebc2-5966-4ca4-af8b-b3708835b048",
   "metadata": {},
   "outputs": [
    {
     "name": "stdout",
     "output_type": "stream",
     "text": [
      "original array: [ 1 10 21 32]\n",
      "copy          : [ 1 10 21 32]\n"
     ]
    }
   ],
   "source": [
    "#Example 2: Making a copy and changing the original array\n",
    "#create array\n",
    "arr = np.array([1,10,21,32])\n",
    "\n",
    "#create copy\n",
    "c = arr.copy()\n",
    "# printing array and copy \n",
    "print(\"original array:\", arr) \n",
    "print(\"copy          :\", c) "
   ]
  },
  {
   "cell_type": "code",
   "execution_count": 27,
   "id": "b0faf1e1-6593-494a-a0f4-7ef100d676ed",
   "metadata": {},
   "outputs": [
    {
     "name": "stdout",
     "output_type": "stream",
     "text": [
      "original array: [10 10 21 32]\n",
      "copy          : [ 1 10 21 32]\n"
     ]
    }
   ],
   "source": [
    "# changing original array \n",
    "# this will not effect copy \n",
    "arr[0] = 10\n",
    "print(\"original array:\", arr)\n",
    "print(\"copy          :\", c) "
   ]
  },
  {
   "cell_type": "markdown",
   "id": "b25ad691-83c0-4859-ac8f-a2ad9904030c",
   "metadata": {},
   "source": [
    "--------------------------------------------------------------------------------------------------------------------------"
   ]
  },
  {
   "cell_type": "code",
   "execution_count": 28,
   "id": "749c0e81-5bea-40a2-9460-8f348dec498b",
   "metadata": {},
   "outputs": [
    {
     "name": "stdout",
     "output_type": "stream",
     "text": [
      "None\n",
      "[ 2  4  6  8 10]\n"
     ]
    }
   ],
   "source": [
    "#Example 3: Check if the array is a view or copy\n",
    "import numpy as np \n",
    "\n",
    "# creating array \n",
    "arr = np.array([2, 4, 6, 8, 10]) \n",
    "\n",
    "# creating copy of array \n",
    "c = arr.copy() \n",
    "\n",
    "# creating view of array \n",
    "v = arr.view() \n",
    "\n",
    "# printing base attribute of copy and view \n",
    "print(c.base) \n",
    "print(v.base) \n"
   ]
  },
  {
   "cell_type": "markdown",
   "id": "5f5736bc-037d-483d-a0b4-aec19e24f639",
   "metadata": {},
   "source": [
    "########################################################################################################################################################"
   ]
  },
  {
   "cell_type": "markdown",
   "id": "3ff53c74-30be-454a-8c1a-a878af180d9b",
   "metadata": {},
   "source": [
    "## Copy NumPy Array into Another Array\n",
    "\n",
    "- Using np.copy() Function\r",
    "- \n",
    "Copy Given 2-D Array to Another Array"
   ]
  },
  {
   "cell_type": "markdown",
   "id": "10b0f7d1-70fa-452d-bd33-f3ce6f3148d8",
   "metadata": {},
   "source": [
    "**Copy 1D Numpy Arrays into Another Using np.copy() Function**\n",
    "\r\n",
    "In the below example, the given Numpy array ‘org_array‘ is copied to another array ‘copy_array‘ using np.copy () function."
   ]
  },
  {
   "cell_type": "code",
   "execution_count": 30,
   "id": "ea2f6081-ece3-4df7-94df-f673d0cef442",
   "metadata": {},
   "outputs": [
    {
     "name": "stdout",
     "output_type": "stream",
     "text": [
      "Original array: \n",
      "[ 1.54  2.99  3.42  4.87  6.94  8.21  7.65 10.5  77.5 ]\n",
      "\n",
      "Copied array: \n",
      "[ 1.54  2.99  3.42  4.87  6.94  8.21  7.65 10.5  77.5 ]\n"
     ]
    }
   ],
   "source": [
    "# importing Numpy package\n",
    "import numpy as np\n",
    "\n",
    "# Creating a numpy array using np.array()\n",
    "org_array = np.array([1.54, 2.99, 3.42, 4.87, 6.94,\n",
    "\t\t\t\t\t8.21, 7.65, 10.50, 77.5])\n",
    "\n",
    "print(\"Original array: \")\n",
    "\n",
    "# printing the Numpy array\n",
    "print(org_array)\n",
    "\n",
    "# Now copying the org_array to copy_array\n",
    "# using np.copy() function\n",
    "copy_array = np.copy(org_array)\n",
    "\n",
    "print(\"\\nCopied array: \")\n",
    "\n",
    "# printing the copied Numpy array\n",
    "print(copy_array)\n"
   ]
  },
  {
   "cell_type": "markdown",
   "id": "8180b566-12b0-405f-a5d0-445db9791644",
   "metadata": {},
   "source": [
    "--------------------------------------------------------------------------------------------------------------------------------------------------"
   ]
  },
  {
   "cell_type": "markdown",
   "id": "1ac864d2-ea46-4407-8400-5d37f959c57b",
   "metadata": {},
   "source": [
    "**Copy Given 2-D Array to Another Array Using np.copy() Function**\n",
    "    \n",
    "In this example, the given 2-D Numpy array ‘org_array‘ is copied to another array ‘copy_array‘ using np.copy () function."
   ]
  },
  {
   "cell_type": "code",
   "execution_count": 31,
   "id": "7283796b-6823-460e-9afd-cfa4c943396e",
   "metadata": {},
   "outputs": [
    {
     "name": "stdout",
     "output_type": "stream",
     "text": [
      "Original array: \n",
      "[[23 46 85]\n",
      " [43 56 99]\n",
      " [11 34 55]]\n",
      "\n",
      "Copied array: \n",
      "[[23 46 85]\n",
      " [43 56 99]\n",
      " [11 34 55]]\n"
     ]
    }
   ],
   "source": [
    "# importing Numpy package\n",
    "import numpy as np\n",
    "\n",
    "# Creating a 2-D numpy array using np.array()\n",
    "org_array = np.array([[23, 46, 85],\n",
    "\t\t\t\t\t[43, 56, 99],\n",
    "\t\t\t\t\t[11, 34, 55]])\n",
    "\n",
    "print(\"Original array: \")\n",
    "\n",
    "# printing the Numpy array\n",
    "print(org_array)\n",
    "\n",
    "# Now copying the org_array to copy_array\n",
    "# using np.copy() function\n",
    "copy_array = np.copy(org_array)\n",
    "\n",
    "print(\"\\nCopied array: \")\n",
    "\n",
    "# printing the copied Numpy array\n",
    "print(copy_array)\n"
   ]
  },
  {
   "cell_type": "markdown",
   "id": "7c4b9c3b-3ce4-479b-ba9c-4d452fdc911a",
   "metadata": {},
   "source": [
    "--------------------------------------------------------------------------------------------------------------------------------------------------"
   ]
  },
  {
   "cell_type": "markdown",
   "id": "120081dc-14e6-4cfd-a2f8-97f637bf439a",
   "metadata": {},
   "source": [
    "**NumPy Array Copy Using Assignment Operator**\n",
    "\n",
    "In the below example, the given Numpy array ‘org_array‘ is copied to another array ‘copy_array‘ using Assignment Operator."
   ]
  },
  {
   "cell_type": "code",
   "execution_count": 32,
   "id": "56eba5dd-a5d5-4eb8-af6b-516c9dac5662",
   "metadata": {},
   "outputs": [
    {
     "name": "stdout",
     "output_type": "stream",
     "text": [
      "Original Array: \n",
      " [[99 22 33]\n",
      " [44 77 13]]\n",
      "\n",
      "Copied Array: \n",
      " [[99 22 33]\n",
      " [44 77 13]]\n"
     ]
    }
   ],
   "source": [
    "# importing Numpy package\n",
    "import numpy as np\n",
    "\n",
    "# Create a 2-D Numpy array using np.array()\n",
    "org_array = np.array([[99, 22, 33],\n",
    "\t\t\t\t\t[44, 77, 66]])\n",
    "\n",
    "# Copying org_array to copy_array\n",
    "# using Assignment operator\n",
    "copy_array = org_array\n",
    "\n",
    "# modifying org_array\n",
    "org_array[1, 2] = 13\n",
    "\n",
    "# checking if copy_array has remained the same\n",
    "\n",
    "# printing original array\n",
    "print('Original Array: \\n', org_array)\n",
    "\n",
    "# printing copied array\n",
    "print('\\nCopied Array: \\n', copy_array)\n"
   ]
  },
  {
   "cell_type": "markdown",
   "id": "65e77a05-d8b7-408d-aa73-862d6143a3ee",
   "metadata": {},
   "source": [
    "#############################################################################################################################################"
   ]
  },
  {
   "cell_type": "markdown",
   "id": "c3d8bf7c-8f0d-435a-85b1-ac0b53abdafa",
   "metadata": {},
   "source": [
    "# Appending values at the end of an NumPy array\n",
    "\n",
    "**Appending Values at the End of an NumPy Array**\n",
    "\n",
    "- Appending a Single Value to a 1D Array\n",
    "- Appending Another Array at the End of a 1D Array\n",
    "- Appending Values at the End Using Concatenation\n",
    "- Appending with a Different Array Type\n",
    "- Appending Using List Comprehension and numpy.concatenate\n",
    "- Appending Values at the End of the N-Dimensional Array"
   ]
  },
  {
   "cell_type": "markdown",
   "id": "ce35d337-b74a-476d-9e33-88f5b486bc3d",
   "metadata": {},
   "source": [
    "**Appending a Single Value to a 1D Array**\n",
    "\n",
    "For a 1D array, using the axis argument is not necessary as the array is flattened by default."
   ]
  },
  {
   "cell_type": "code",
   "execution_count": 35,
   "id": "1d2c1a3b-84bb-4b8c-b62f-5768e8a3462b",
   "metadata": {},
   "outputs": [
    {
     "name": "stdout",
     "output_type": "stream",
     "text": [
      "Original array:  [1 2 3 4 5 6]\n",
      "new array     :  [1 2 3 4 5 6 7]\n"
     ]
    }
   ],
   "source": [
    "arr = np.array([1,2,3,4,5,6])\n",
    "print(\"Original array: \",arr)\n",
    "\n",
    "#appending new value\n",
    "arr = np.append(arr,[7])\n",
    "print(\"new array     : \",arr)"
   ]
  },
  {
   "cell_type": "markdown",
   "id": "67d6dd75-3b33-4533-a942-3af405582b80",
   "metadata": {},
   "source": [
    "-----------------------------------------------------------------------------------------------------------------------------------------------"
   ]
  },
  {
   "cell_type": "markdown",
   "id": "1e704abd-d000-474a-9974-3ec94c8d09ec",
   "metadata": {},
   "source": [
    "**Appending Another Array at the End of a 1D Array**\n",
    "\n",
    "You may pass a list or an array to the append function, the result will be the same"
   ]
  },
  {
   "cell_type": "code",
   "execution_count": 46,
   "id": "94b0b8c9-093b-42bb-a8b9-429295e6327b",
   "metadata": {},
   "outputs": [
    {
     "name": "stdout",
     "output_type": "stream",
     "text": [
      "First array is :  [1 2 3]\n",
      "Second array is :  [4 5 6]\n"
     ]
    },
    {
     "data": {
      "text/plain": [
       "array([4, 5, 6, 1, 2, 3])"
      ]
     },
     "execution_count": 46,
     "metadata": {},
     "output_type": "execute_result"
    }
   ],
   "source": [
    "# creating an array\n",
    "arr1 = np.array([1, 2, 3])\n",
    "print('First array is : ', arr1)\n",
    " \n",
    "# creating another array\n",
    "arr2 = np.array([4, 5, 6])\n",
    "print('Second array is : ', arr2)\n",
    "\n",
    "# appending arr2 to arr1\n",
    "arr = np.append(arr2,arr1)\n",
    "arr"
   ]
  },
  {
   "cell_type": "markdown",
   "id": "e7a4a712-365a-45ae-a36e-80fb27035a5f",
   "metadata": {},
   "source": [
    "------------------------------------------------------------------------------------------------------------------------------------------------"
   ]
  },
  {
   "cell_type": "markdown",
   "id": "e6e68258-5248-444f-9a59-37e2b07ece43",
   "metadata": {},
   "source": [
    "**Appending Values at the End Using Concatenation**\n",
    "    \n",
    "In this example, two 2D arrays, arr1 and arr2, are vertically stacked using np.concatenate() along the 0th axis, resulting in a combined 2D array."
   ]
  },
  {
   "cell_type": "code",
   "execution_count": 51,
   "id": "897f4fe3-089d-481b-84a3-c1f5e013a24d",
   "metadata": {},
   "outputs": [
    {
     "name": "stdout",
     "output_type": "stream",
     "text": [
      "[[1 2]\n",
      " [3 4]\n",
      " [8 9]]\n"
     ]
    }
   ],
   "source": [
    "#creating arr1 and arr2\n",
    "arr1 = np.array([[1,2],[3,4]])\n",
    "arr2 = np.array([[8,9]])\n",
    "\n",
    "#concatinating arr1 and arr2\n",
    "combined = np.concatenate((arr1, arr2), axis=0)\n",
    "print(combined)"
   ]
  },
  {
   "cell_type": "markdown",
   "id": "56feb113-21f6-4d0e-8cd8-20f989ede6cb",
   "metadata": {},
   "source": [
    "------------------------------------------------------------------------------------------------------------------------------------------------"
   ]
  },
  {
   "cell_type": "markdown",
   "id": "f29d92f4-ecc4-45df-b91c-5a3e7fd130d9",
   "metadata": {},
   "source": [
    "**Appending with a Different Array Type**\n",
    "\n",
    "In this example, a 1D integer array arr and a 1D float array arr_float are appended together using np.append(), resulting in an upcasted float array as the output."
   ]
  },
  {
   "cell_type": "code",
   "execution_count": 54,
   "id": "e74ece4f-4e9d-4854-959b-e46dfa6ca830",
   "metadata": {},
   "outputs": [
    {
     "name": "stdout",
     "output_type": "stream",
     "text": [
      "[1. 2. 3. 4. 5.]\n"
     ]
    }
   ],
   "source": [
    "# importing the module\n",
    "import numpy as np\n",
    "\n",
    "arr = np.array([1, 2, 3])\n",
    "arr_float = np.array([4.0, 5.0])\n",
    "\n",
    "combined = np.append(arr, arr_float)\n",
    "print(combined) # Output: [1. 2. 3. 4. 5.]\n"
   ]
  },
  {
   "cell_type": "markdown",
   "id": "9399f592-550e-4966-bfd9-c15bc7386d3b",
   "metadata": {},
   "source": [
    "----------------"
   ]
  },
  {
   "cell_type": "markdown",
   "id": "8818ae64-afdf-449f-a7eb-64a2d3df167e",
   "metadata": {},
   "source": [
    "**Appending Using List Comprehension and numpy.concatenate**"
   ]
  },
  {
   "cell_type": "code",
   "execution_count": 56,
   "id": "230cbdd1-0b9a-48e1-901b-cd4a2a9a91d6",
   "metadata": {},
   "outputs": [
    {
     "name": "stdout",
     "output_type": "stream",
     "text": [
      "[1 2 3 4 5 6 7 8 9]\n"
     ]
    }
   ],
   "source": [
    "# importing the module\n",
    "import numpy as np\n",
    "\n",
    "arr = np.array([1, 2, 3, 4, 5])\n",
    "values_to_append = [np.array([6, 7]), np.array([8, 9])]\n",
    "combined = np.concatenate([arr] + values_to_append)\n",
    "print(combined)\n"
   ]
  },
  {
   "cell_type": "markdown",
   "id": "108bf403-4c57-4cb5-a1d7-708c27ed0e79",
   "metadata": {},
   "source": [
    "**Appending Values at the End of the N-Dimensional Array**\n",
    "    \n",
    "It is important that the dimensions of both the array matches otherwise it will give an error."
   ]
  },
  {
   "cell_type": "code",
   "execution_count": 68,
   "id": "2c268c85-5669-457a-affa-abadf73f25d6",
   "metadata": {},
   "outputs": [
    {
     "name": "stdout",
     "output_type": "stream",
     "text": [
      "Original array:\n",
      " [[ 1  2  3  4  5  6]\n",
      " [ 7  8  9 10 11 12]]\n",
      "\n",
      "array to be added row wise:\n",
      " [[ 5  6  7  8  9 10]]\n",
      "\n",
      "appended arr and arr1 column wise:\n",
      " [[ 1  2  3  4  5  6]\n",
      " [ 7  8  9 10 11 12]\n",
      " [ 5  6  7  8  9 10]]\n",
      "\n",
      "array to be added column wise:\n",
      " [[1]\n",
      " [2]]\n",
      "\n",
      "appended arr and arr1 row wise:\n",
      " [[ 1  2  3  4  5  6  1]\n",
      " [ 7  8  9 10 11 12  2]]\n"
     ]
    }
   ],
   "source": [
    "# importing the module\n",
    "import numpy as np\n",
    "\n",
    "# create an array\n",
    "arr = np.arange(1,13).reshape(2,6)\n",
    "print(\"Original array:\\n\",arr)\n",
    "\n",
    "#create array to be added column wise\n",
    "arr1 = np.arange(5,11).reshape(1,6)\n",
    "print(\"\\narray to be added row wise:\\n\",arr1)\n",
    "\n",
    "#append arr and arr1 column wise\n",
    "arr_col = np.concatenate((arr,arr1),axis=0)\n",
    "print(\"\\nappended arr and arr1 column wise:\\n\",arr_col)\n",
    "\n",
    "#create array to be added row wise\n",
    "arr2 = np.arange(1,3).reshape(2,1)\n",
    "print(\"\\narray to be added column wise:\\n\",arr2)\n",
    "\n",
    "#append arr and arr2 row wise\n",
    "arr_row = np.concatenate((arr,arr2),axis=1)\n",
    "print(\"\\nappended arr and arr1 row wise:\\n\",arr_row)\n"
   ]
  },
  {
   "cell_type": "markdown",
   "id": "66b6e353-5594-47ef-bddc-2518e470cfcd",
   "metadata": {},
   "source": [
    "###################################################################################################################################"
   ]
  },
  {
   "cell_type": "markdown",
   "id": "b952cf1e-5323-4cd6-8931-b28027455c85",
   "metadata": {},
   "source": [
    "# swap columns of a given NumPy array"
   ]
  },
  {
   "cell_type": "markdown",
   "id": "cc050d5f-1292-43b4-bd41-a402102ab2cd",
   "metadata": {},
   "source": [
    "**Approach :**\n",
    "\n",
    "- Import NumPy module\n",
    "- Create a NumPy array\n",
    "- Swap the column with Index\n",
    "- Print the Final array"
   ]
  },
  {
   "cell_type": "code",
   "execution_count": 88,
   "id": "e11a33b8-d9bd-45fc-9a85-6fd02ab35065",
   "metadata": {},
   "outputs": [
    {
     "name": "stdout",
     "output_type": "stream",
     "text": [
      "Original array:\n",
      " [[ 0  1  2]\n",
      " [ 3  4  5]\n",
      " [ 6  7  8]\n",
      " [ 9 10 11]]\n",
      "\n",
      "After swapping arrays the last column and first column:\n",
      " [[ 2  1  0]\n",
      " [ 5  4  3]\n",
      " [ 8  7  6]\n",
      " [11 10  9]]\n"
     ]
    }
   ],
   "source": [
    "#Example 1: Swapping the column of an array. \n",
    "arr = np.arange(12).reshape(4,3)\n",
    "print(\"Original array:\\n\",arr)\n",
    "\n",
    "# swapping the column with index of \n",
    "arr[:,[2,0]] = arr[:,[0,2]]\n",
    "\n",
    "print(\"\\nAfter swapping arrays the last column and first column:\\n\",arr)"
   ]
  },
  {
   "cell_type": "markdown",
   "id": "68db9ca0-154c-43da-92c4-5107a9326da6",
   "metadata": {},
   "source": [
    "---"
   ]
  },
  {
   "cell_type": "code",
   "execution_count": 100,
   "id": "3b1fc0c2-0f62-42d6-b72d-4f5230cac8df",
   "metadata": {},
   "outputs": [
    {
     "name": "stdout",
     "output_type": "stream",
     "text": [
      "Original array:\n",
      " [[ 0  1  2]\n",
      " [ 3  4  5]\n",
      " [ 6  7  8]\n",
      " [ 9 10 11]]\n",
      "\n",
      "array after swapping:\n",
      " [[ 0  2  1]\n",
      " [ 3  5  4]\n",
      " [ 6  8  7]\n",
      " [ 9 11 10]]\n"
     ]
    }
   ],
   "source": [
    "#Example 2: Swapping the column of an array with the user chooses.\n",
    "def swap_array(arr,start_index,last_index):\n",
    "    arr[:,[start_index,last_index]] = arr[:,[last_index,start_index]]\n",
    "\n",
    "\n",
    "\n",
    "arr = np.arange(12).reshape(4,3)\n",
    "print(\"Original array:\\n\",arr)\n",
    "swap_array(arr, 1,2)\n",
    "print(\"\\narray after swapping:\\n\",arr)"
   ]
  },
  {
   "cell_type": "markdown",
   "id": "e8eaf646-38b3-4747-a5c1-c43cc45d9fb5",
   "metadata": {},
   "source": [
    "##################################################################################################################################################"
   ]
  },
  {
   "cell_type": "markdown",
   "id": "a3cc5f48-949a-42ac-8d1b-2cbe4df7f898",
   "metadata": {},
   "source": [
    "**This post deals with the ways to increase the dimension of an array in NumPy. NumPy provides us with two different built-in functions to increase the dimension of an array i.e.**\n",
    "\n",
    "- 1D array will become 2D array\n",
    "- 2D array will become 3D array\n",
    "- 3D array will become 4D array\n",
    "- 4D array will become 5D array\n",
    "- \n",
    "**Add a New Axis to a Numpy Array**\n",
    "  \n",
    "There are various ways to add a new axis to a NumPy array, here we are discussing some generally used methods for adding a new axis to a numpy array those are following.\n",
    "\n",
    "- Using numpy.newaxis()\n",
    "- Using numpy.expand_dims()\n",
    "\n",
    "- Simultaneously insert many axes in the array\n",
    "- Using numpy.reshape() a Single Axis\n",
    "-----------------------------------------------------------------------------------------------------------------------------------------------------\n",
    "  \n",
    "**1) Using numpy.newaxis()**\n",
    "  \n",
    "The first method is to use **numpy.newaxis** object. This object is equivalent to use None as a parameter while declaring the array. The trick is to use the numpy.newaxis object as a parameter at the index location in which you want to add the new axis.\n",
    "\n",
    "In this example This code uses NumPy to create a 2D array ‘arr’ with shape (5, 5) containing sequential values. It then transforms ‘arr’ into a 5D array ‘arr_5D’ by adding dimensions using indexing with ‘np.newaxis’. The resulting shape of ‘arr_5D’ is (1, 5, 5, 1, 1)."
   ]
  },
  {
   "cell_type": "code",
   "execution_count": 118,
   "id": "08cba28f-66df-4d77-8de5-061fca2f6c6a",
   "metadata": {},
   "outputs": [
    {
     "name": "stdout",
     "output_type": "stream",
     "text": [
      "Original array:\n",
      " [[ 0  1  2  3  4]\n",
      " [ 5  6  7  8  9]\n",
      " [10 11 12 13 14]\n",
      " [15 16 17 18 19]\n",
      " [20 21 22 23 24]]\n",
      "Shape of arr:  (5, 5)\n",
      "\n",
      "2D to 3D array:\n",
      " [[[ 0  1  2  3  4]]\n",
      "\n",
      " [[ 5  6  7  8  9]]\n",
      "\n",
      " [[10 11 12 13 14]]\n",
      "\n",
      " [[15 16 17 18 19]]\n",
      "\n",
      " [[20 21 22 23 24]]]\n",
      "shape of arr_3d: (5, 1, 5)\n",
      "\n",
      "3D to 4D array:\n",
      " [[[[ 0  1  2  3  4]]]\n",
      "\n",
      "\n",
      " [[[ 5  6  7  8  9]]]\n",
      "\n",
      "\n",
      " [[[10 11 12 13 14]]]\n",
      "\n",
      "\n",
      " [[[15 16 17 18 19]]]\n",
      "\n",
      "\n",
      " [[[20 21 22 23 24]]]]\n",
      "shape of arr_4d: (5, 1, 1, 5)\n"
     ]
    }
   ],
   "source": [
    "#example 1\n",
    "#create 2D array with shape 5x5\n",
    "arr = np.arange(25).reshape(5,5)\n",
    "print(\"Original array:\\n\",arr)\n",
    "print(\"Shape of arr: \",arr.shape)\n",
    "\n",
    "#adding new axis\n",
    "arr_3d = arr[:,np.newaxis]\n",
    "print(\"\\n2D to 3D array:\\n\",arr_3d)\n",
    "print(\"shape of arr_3d:\",arr_3d.shape)\n",
    "\n",
    "arr_4d = arr_3d[:,np.newaxis]\n",
    "print(\"\\n3D to 4D array:\\n\",arr_4d)\n",
    "print(\"shape of arr_4d:\",arr_4d.shape)"
   ]
  },
  {
   "cell_type": "markdown",
   "id": "fd6075bd-d5a7-4dfc-93c3-ea0aac521090",
   "metadata": {},
   "source": [
    "###########################################################################################################################################"
   ]
  },
  {
   "cell_type": "markdown",
   "id": "ec0d3498-b6aa-4e10-b4b5-089749cbb4a9",
   "metadata": {},
   "source": [
    "# numpy.hstack() in Python"
   ]
  },
  {
   "cell_type": "markdown",
   "id": "062b327e-fc7c-4802-a83f-598a506e1a13",
   "metadata": {},
   "source": [
    "numpy.hstack() function is used to stack the sequence of input arrays horizontally (i.e. column wise) to make a single array."
   ]
  },
  {
   "cell_type": "code",
   "execution_count": 127,
   "id": "479b8cd7-b29e-49fa-8a83-9d9cf4cbe980",
   "metadata": {},
   "outputs": [
    {
     "name": "stdout",
     "output_type": "stream",
     "text": [
      "1st Input array : \n",
      " [1 2 3]\n",
      "2nd Input array : \n",
      " [4 5 6]\n",
      "Output horizontally stacked array:\n",
      "  [1 2 3 4 5 6]\n"
     ]
    }
   ],
   "source": [
    "# Python program explaining \n",
    "# hstack() function ----------horizontal stack\n",
    "\n",
    "# input array \n",
    "in_arr1 = np.array([ 1, 2, 3] ) \n",
    "print (\"1st Input array : \\n\", in_arr1) \n",
    "\n",
    "in_arr2 = np.array([ 4, 5, 6] ) \n",
    "print (\"2nd Input array : \\n\", in_arr2) \n",
    "\n",
    "# Stacking the two arrays horizontally \n",
    "out_arr = np.hstack((in_arr1, in_arr2)) \n",
    "print (\"Output horizontally stacked array:\\n \", out_arr) \n"
   ]
  },
  {
   "cell_type": "code",
   "execution_count": 128,
   "id": "8cb2d9f5-013c-4206-a6ff-8dcda4ccc0ca",
   "metadata": {},
   "outputs": [
    {
     "name": "stdout",
     "output_type": "stream",
     "text": [
      "1st Input array : \n",
      " [[ 1  2  3]\n",
      " [-1 -2 -3]]\n",
      "2nd Input array : \n",
      " [[ 4  5  6]\n",
      " [-4 -5 -6]]\n",
      "Output horizontally stacked array:\n",
      "  [[ 1  2  3  4  5  6]\n",
      " [-1 -2 -3 -4 -5 -6]]\n"
     ]
    }
   ],
   "source": [
    "#Example 2\n",
    "# input array \n",
    "in_arr1 = geek.array([[ 1, 2, 3], [ -1, -2, -3]] ) \n",
    "print (\"1st Input array : \\n\", in_arr1)  \n",
    "  \n",
    "in_arr2 = geek.array([[ 4, 5, 6], [ -4, -5, -6]] ) \n",
    "print (\"2nd Input array : \\n\", in_arr2) \n",
    "\n",
    "# Stacking the two arrays horizontally \n",
    "out_arr = np.hstack((in_arr1, in_arr2)) \n",
    "print (\"Output horizontally stacked array:\\n \", out_arr) "
   ]
  },
  {
   "cell_type": "markdown",
   "id": "4eaa9ce2-8d8e-4878-9b42-1f80c02d8963",
   "metadata": {},
   "source": [
    "###############################################################################################################################################"
   ]
  },
  {
   "cell_type": "markdown",
   "id": "899c7eb0-5bbd-4174-bb61-a7e793fb46a7",
   "metadata": {},
   "source": [
    "# numpy.vstack() in python\n",
    "\n",
    "numpy.vstack() function is used to stack the sequence of input arrays vertically to make a single array."
   ]
  },
  {
   "cell_type": "code",
   "execution_count": 131,
   "id": "6916f9e9-6451-40df-a4a9-3c0c44a6b42b",
   "metadata": {},
   "outputs": [
    {
     "name": "stdout",
     "output_type": "stream",
     "text": [
      "1st Input array : \n",
      " [1 2 3]\n",
      "2nd Input array : \n",
      " [4 5 6]\n",
      "Output vertically stacked array:\n",
      "  [[1 2 3]\n",
      " [4 5 6]]\n"
     ]
    }
   ],
   "source": [
    "#Example 1\n",
    "# input array \n",
    "in_arr1 = np.array([ 1, 2, 3] ) \n",
    "print (\"1st Input array : \\n\", in_arr1) \n",
    "\n",
    "in_arr2 = np.array([ 4, 5, 6] ) \n",
    "print (\"2nd Input array : \\n\", in_arr2)\n",
    "\n",
    "out_arr = np.vstack((in_arr1,in_arr2))\n",
    "print (\"Output vertically stacked array:\\n \", out_arr) "
   ]
  },
  {
   "cell_type": "code",
   "execution_count": 132,
   "id": "d9153384-50aa-451e-971d-b457b5ac04fa",
   "metadata": {},
   "outputs": [
    {
     "name": "stdout",
     "output_type": "stream",
     "text": [
      "1st Input array : \n",
      " [[ 1  2  3]\n",
      " [-1 -2 -3]]\n",
      "2nd Input array : \n",
      " [[ 4  5  6]\n",
      " [-4 -5 -6]]\n",
      "Output vertically stacked array:\n",
      "  [[ 1  2  3]\n",
      " [-1 -2 -3]\n",
      " [ 4  5  6]\n",
      " [-4 -5 -6]]\n"
     ]
    }
   ],
   "source": [
    "#Example 2\n",
    "# input array \n",
    "in_arr1 = geek.array([[ 1, 2, 3], [ -1, -2, -3]] ) \n",
    "print (\"1st Input array : \\n\", in_arr1)  \n",
    "  \n",
    "in_arr2 = geek.array([[ 4, 5, 6], [ -4, -5, -6]] ) \n",
    "print (\"2nd Input array : \\n\", in_arr2) \n",
    "\n",
    "out_arr = np.vstack((in_arr1,in_arr2))\n",
    "print (\"Output vertically stacked array:\\n \", out_arr) "
   ]
  },
  {
   "cell_type": "markdown",
   "id": "1ae654c9-5d46-4fce-8f3c-071087838ba6",
   "metadata": {},
   "source": [
    "##########################################################################################################################################"
   ]
  },
  {
   "cell_type": "markdown",
   "id": "b1d50946-f2dd-4a76-ae6a-8cf29d1a1b58",
   "metadata": {},
   "source": [
    "# Joining NumPy Array\n",
    "\n",
    "NumPy provides various functions to combine arrays. In this article, we will discuss some of the major ones.\n",
    "\n",
    "- numpy.concatenate\n",
    "- numpy.stack\n",
    "- numpy.block"
   ]
  },
  {
   "cell_type": "markdown",
   "id": "5ac1e788-a8eb-4d73-a763-fb5e1b50182c",
   "metadata": {},
   "source": [
    "**Method 1: Using numpy.concatenate()**\n",
    "\n",
    "The concatenate function in NumPy joins two or more arrays along a specified axis. "
   ]
  },
  {
   "cell_type": "code",
   "execution_count": 134,
   "id": "e298d773-b9ec-40bc-93b4-984d56ce4e5d",
   "metadata": {},
   "outputs": [
    {
     "name": "stdout",
     "output_type": "stream",
     "text": [
      "[1 2 3 4]\n"
     ]
    }
   ],
   "source": [
    "#example 1\n",
    "Earray_1 = np.array([1, 2]) \n",
    "array_2 = np.array([3, 4]) \n",
    "  \n",
    "array_new = np.concatenate((array_1, array_2)) \n",
    "print(array_new) \n",
    "\n",
    "#By default, the value of the axis is set to 0. You can change it by specifying a value for the axis in the second argument. "
   ]
  },
  {
   "cell_type": "code",
   "execution_count": 137,
   "id": "daacb926-426e-4e35-a805-b682079e3851",
   "metadata": {},
   "outputs": [
    {
     "name": "stdout",
     "output_type": "stream",
     "text": [
      "joins two arrays along rows:\n",
      " [[1 2 5 6]\n",
      " [3 4 7 8]]\n"
     ]
    }
   ],
   "source": [
    "#example 2: The following code joins two arrays along rows.\n",
    "array_1 = np.array([[1, 2], [3, 4]]) \n",
    "array_2 = np.array([[5, 6], [7, 8]]) \n",
    "\n",
    "array_new = np.concatenate((array_1, array_2),axis =1)\n",
    "print(\"joins two arrays along rows:\\n\",array_new) "
   ]
  },
  {
   "cell_type": "markdown",
   "id": "1f6acb0b-d6c8-48d7-b03c-6634861657e1",
   "metadata": {},
   "source": [
    "**Method 2: Using numpy.stack()**\n",
    "\n",
    "Syntax: numpy.stack(arrays, axis=0)"
   ]
  },
  {
   "cell_type": "code",
   "execution_count": 142,
   "id": "2d8143b0-d0d7-44fb-b837-24dd763739e4",
   "metadata": {},
   "outputs": [
    {
     "name": "stdout",
     "output_type": "stream",
     "text": [
      "[[1 5]\n",
      " [2 6]\n",
      " [3 7]\n",
      " [4 8]]\n"
     ]
    }
   ],
   "source": [
    "#example 1\n",
    "array_1 = np.array([1, 2, 3, 4]) \n",
    "array_2 = np.array([5, 6, 7, 8]) \n",
    "\n",
    "array_new = np.stack((array_1, array_2), axis=1) \n",
    "print(array_new) "
   ]
  },
  {
   "cell_type": "markdown",
   "id": "dbfe3edb-6c4c-47f2-85e5-1e0909f015d8",
   "metadata": {},
   "source": [
    "**Method 3: numpy.block()**\n",
    "\n",
    "numpy.block is used to create nd-arrays from nested blocks of lists.\n",
    "\n",
    "Syntax: numpy.block(arrays)\r\n"
   ]
  },
  {
   "cell_type": "code",
   "execution_count": 144,
   "id": "e9c6225d-a5d6-468e-9618-3e22006762db",
   "metadata": {},
   "outputs": [
    {
     "name": "stdout",
     "output_type": "stream",
     "text": [
      "[[1 1 2 2 2]\n",
      " [1 1 2 2 2]\n",
      " [3 3 4 4 4]\n",
      " [3 3 4 4 4]\n",
      " [3 3 4 4 4]]\n"
     ]
    }
   ],
   "source": [
    "#example 1\n",
    "block_1 = np.array([[1, 1], [1, 1]]) \n",
    "block_2 = np.array([[2, 2, 2], [2, 2, 2]]) \n",
    "block_3 = np.array([[3, 3], [3, 3], [3, 3]]) \n",
    "block_4 = np.array([[4, 4, 4], [4, 4, 4], [4, 4, 4]]) \n",
    "  \n",
    "block_new = np.block([ \n",
    "    [block_1, block_2], \n",
    "    [block_3, block_4] \n",
    "]) \n",
    "  \n",
    "print(block_new) "
   ]
  },
  {
   "cell_type": "code",
   "execution_count": null,
   "id": "9cdd4e6d-4bda-4c0c-a7b2-08a5ae71d469",
   "metadata": {},
   "outputs": [],
   "source": []
  }
 ],
 "metadata": {
  "kernelspec": {
   "display_name": "Python 3 (ipykernel)",
   "language": "python",
   "name": "python3"
  },
  "language_info": {
   "codemirror_mode": {
    "name": "ipython",
    "version": 3
   },
   "file_extension": ".py",
   "mimetype": "text/x-python",
   "name": "python",
   "nbconvert_exporter": "python",
   "pygments_lexer": "ipython3",
   "version": "3.11.7"
  }
 },
 "nbformat": 4,
 "nbformat_minor": 5
}
