{
 "cells": [
  {
   "cell_type": "markdown",
   "id": "50db60b9-3fd9-4a76-8854-b49b7d41aa43",
   "metadata": {},
   "source": [
    "## NumPy Tasks\n",
    "\n",
    "#### Basic Operations\n",
    "\n",
    "* Create a 5×5 NumPy array filled with random numbers between 0 and 1.\n",
    "* Normalize an array (i.e., scale values between 0 and 1).\n",
    "* Replace all even numbers in an array with -1.\n",
    "* Generate a 10×10 identity matrix.\n",
    "* Find the mean, median, variance, and standard deviation of a NumPy array.\n",
    "#### Indexing & Manipulation\n",
    "* Extract all odd numbers from a NumPy array.\n",
    "* Reshape a 1D array into a 3D array.\n",
    "* Find the indices where a NumPy array’s values are greater than a given threshold.\n",
    "* Stack two NumPy arrays horizontally and vertically.\n",
    "* Flatten a multi-dimensional array.\n",
    "#### Performance Optimization\n",
    "* Vectorize a function to replace a for-loop operation.\n",
    "* Use NumPy’s broadcasting to compute the row-wise mean of a 2D array.\n",
    "* Compute the dot product and element-wise multiplication of two matrices.\n",
    "* Find the unique elements in an array and their counts.\n",
    "* Implement k-means clustering using only NumPy (without Scikit-learn)."
   ]
  },
  {
   "cell_type": "code",
   "execution_count": 2,
   "id": "3f75d9df-b2a1-4f8c-a14f-e3b044d06c6a",
   "metadata": {},
   "outputs": [],
   "source": [
    "import numpy as np"
   ]
  },
  {
   "cell_type": "code",
   "execution_count": 25,
   "id": "b211ab70-20b9-4727-b03b-828635693405",
   "metadata": {},
   "outputs": [
    {
     "data": {
      "text/plain": [
       "array([[0.37454012, 0.95071431, 0.73199394, 0.59865848, 0.15601864],\n",
       "       [0.15599452, 0.05808361, 0.86617615, 0.60111501, 0.70807258],\n",
       "       [0.02058449, 0.96990985, 0.83244264, 0.21233911, 0.18182497],\n",
       "       [0.18340451, 0.30424224, 0.52475643, 0.43194502, 0.29122914],\n",
       "       [0.61185289, 0.13949386, 0.29214465, 0.36636184, 0.45606998]])"
      ]
     },
     "execution_count": 25,
     "metadata": {},
     "output_type": "execute_result"
    }
   ],
   "source": [
    "# Create a 5×5 NumPy array filled with random numbers between 0 and 1.\n",
    "np.random.seed(42)\n",
    "np.random.rand(5,5)"
   ]
  },
  {
   "cell_type": "code",
   "execution_count": null,
   "id": "f3bbd504-19f5-43e3-8225-cde41414a7cf",
   "metadata": {},
   "outputs": [],
   "source": []
  }
 ],
 "metadata": {
  "kernelspec": {
   "display_name": "Python 3 (ipykernel)",
   "language": "python",
   "name": "python3"
  },
  "language_info": {
   "codemirror_mode": {
    "name": "ipython",
    "version": 3
   },
   "file_extension": ".py",
   "mimetype": "text/x-python",
   "name": "python",
   "nbconvert_exporter": "python",
   "pygments_lexer": "ipython3",
   "version": "3.11.7"
  }
 },
 "nbformat": 4,
 "nbformat_minor": 5
}
