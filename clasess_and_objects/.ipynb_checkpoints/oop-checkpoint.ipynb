{
 "cells": [
  {
   "cell_type": "markdown",
   "id": "a1a084e2-cffb-4119-b8c8-827f5c4e80b4",
   "metadata": {},
   "source": [
    "# Part 1\n",
    "\n",
    "# python objects/classes\n",
    "\n",
    "* python is an object oriented programming langauge\n",
    "* A class is like an object constructor or a 'blueprint' for creating objects\n",
    "\n",
    "* The pillers of classes\n",
    "    * Abstaction\n",
    " \n",
    "    * Encapsulation\n",
    " \n",
    "    * Inheritance\n",
    " \n",
    "    * Polymorphism"
   ]
  },
  {
   "cell_type": "code",
   "execution_count": 1,
   "id": "128b8527-906f-4244-9c23-f538aa653297",
   "metadata": {},
   "outputs": [],
   "source": [
    "#Example\n",
    "class Student:\n",
    "    name = 'Karan'"
   ]
  },
  {
   "cell_type": "code",
   "execution_count": 4,
   "id": "0dc00327-8b5a-418d-aca7-b7cbd21b14d5",
   "metadata": {},
   "outputs": [
    {
     "name": "stdout",
     "output_type": "stream",
     "text": [
      "Karan\n",
      "Karan\n"
     ]
    }
   ],
   "source": [
    "s1 = Student()\n",
    "print(s1.name)\n",
    "\n",
    "s2 = Student()\n",
    "print(s2.name)"
   ]
  },
  {
   "cell_type": "markdown",
   "id": "271ca5ea-97f8-4195-a9c6-edc05444ee3c",
   "metadata": {},
   "source": [
    "* __init__ is a constructor\n",
    "* All classes have function called __init__ ,which is allways executed when class being initiated\n",
    "* The self parameter is an reference the current instances of a class, and it is used to access variables belong to that instance or object"
   ]
  },
  {
   "cell_type": "code",
   "execution_count": 9,
   "id": "341bd5fd-ac09-41fa-8d99-c6e6b9861296",
   "metadata": {},
   "outputs": [
    {
     "name": "stdout",
     "output_type": "stream",
     "text": [
      "adding new student\n",
      "<__main__.Student object at 0x0000017E1354F6D0>\n"
     ]
    }
   ],
   "source": [
    "class Student:\n",
    "    def __init__(self):\n",
    "        print(\"adding new student\")\n",
    "\n",
    "s3 = Student()\n",
    "print(s3)"
   ]
  },
  {
   "cell_type": "code",
   "execution_count": 16,
   "id": "767ab6b4-44aa-438a-a490-f757199e1a8e",
   "metadata": {},
   "outputs": [
    {
     "name": "stdout",
     "output_type": "stream",
     "text": [
      "Karan\n",
      "<__main__.Student object at 0x0000017E144BFB90>\n"
     ]
    }
   ],
   "source": [
    "class Student:\n",
    "    def __init__(self, full_name):\n",
    "        self.name = full_name\n",
    "        print(self.name)\n",
    "\n",
    "s4 = Student('Karan')\n",
    "print(s4)"
   ]
  },
  {
   "cell_type": "markdown",
   "id": "fabc8df7-96e0-4989-b247-207bafdddf13",
   "metadata": {},
   "source": [
    "# class attributes and object attributes"
   ]
  },
  {
   "cell_type": "code",
   "execution_count": 22,
   "id": "72bfe66a-b64d-4f13-80b1-04a173bd520e",
   "metadata": {},
   "outputs": [
    {
     "name": "stdout",
     "output_type": "stream",
     "text": [
      "sham\n",
      "<__main__.Student object at 0x0000017E14516E90>\n"
     ]
    }
   ],
   "source": [
    "class Student:\n",
    "    sudent_name = 'Bob' #class attribute or variable common in all the objects\n",
    "    def __init__(self, full_name):\n",
    "        self.name = full_name #object attribute different for different objects\n",
    "        print(self.name)\n",
    "\n",
    "s4 = Student('sham')\n",
    "print(s4)"
   ]
  },
  {
   "cell_type": "markdown",
   "id": "7a7cf52b-06db-431c-b266-4cb8d2bb1d47",
   "metadata": {},
   "source": [
    "# Methods\n",
    "\n",
    "* Methods are basically are functions are belongs to objects.\n",
    "* inside the class data or attributes and methods are stored\n",
    "* Inside method first parameter is self\n",
    "\n"
   ]
  },
  {
   "cell_type": "code",
   "execution_count": 48,
   "id": "f7387864-1a1b-4b3b-b86a-0c8aea94d353",
   "metadata": {},
   "outputs": [
    {
     "name": "stdout",
     "output_type": "stream",
     "text": [
      "This is the Samsung mobile, model is S25, color is Red and price is 129000\n",
      "The total price for 100 mobile is:  12900000\n"
     ]
    }
   ],
   "source": [
    "class Mobile:\n",
    "    def __init__(self, color,model,brand,price):\n",
    "        self.color = color\n",
    "        self.model = model\n",
    "        self.brand = brand\n",
    "        self.price = price\n",
    "    def get_phone(self):\n",
    "        print(f\"This is the {self.brand} mobile, model is {self.model}, color is {self.color} and price is {self.price}\")\n",
    "\n",
    "    def get_total(self):\n",
    "        return int(self.price) * 100\n",
    "\n",
    "m1 = Mobile(\"Red\", \"S25\",\"Samsung\",\"129000\")\n",
    "m1.get_phone()   #if you want to print the print statement\n",
    "print(\"The total price for 100 mobile is: \",m1.get_total())  # if you want print the return statement"
   ]
  },
  {
   "cell_type": "code",
   "execution_count": null,
   "id": "a5f49fe6-06ac-43b3-b9d3-3727e728b25d",
   "metadata": {},
   "outputs": [],
   "source": []
  },
  {
   "cell_type": "code",
   "execution_count": 66,
   "id": "b2df0445-4253-4313-931a-c04d693eefb5",
   "metadata": {},
   "outputs": [
    {
     "name": "stdout",
     "output_type": "stream",
     "text": [
      "Hi ram your average score is: 27.99\n"
     ]
    }
   ],
   "source": [
    "# Create a Student class that takes name & marks of 3 subjects as arguments in constructor. then create a method to return avg\n",
    "class Student:\n",
    "    def __init__(self, name,marks):\n",
    "        self.name = name\n",
    "        self.marks = marks\n",
    "\n",
    "    def get_avg(self):\n",
    "        total = sum(self.marks)  # Use built-in sum() for efficiency\n",
    "        return total/len(self.marks)\n",
    "\n",
    "student = Student(\"ram\",[20,35.98])\n",
    "print(f\"Hi {student.name} your average score is: {student.get_avg()}\")"
   ]
  },
  {
   "cell_type": "code",
   "execution_count": 67,
   "id": "5877f452-af73-499b-bb15-f1248b496e58",
   "metadata": {},
   "outputs": [
    {
     "name": "stdout",
     "output_type": "stream",
     "text": [
      "Hi Bob your average score is: 27.99\n"
     ]
    }
   ],
   "source": [
    "#chage attributes\n",
    "student.name = 'Bob'\n",
    "print(f\"Hi {student.name} your average score is: {student.get_avg()}\")"
   ]
  },
  {
   "cell_type": "markdown",
   "id": "38ed1a80-b1b3-40d8-916f-b1abb71c9e6c",
   "metadata": {},
   "source": [
    "# Static method\n",
    "\n",
    "decoreator\n",
    "\n",
    "* methods that dont use self parameter (work at class level)"
   ]
  },
  {
   "cell_type": "code",
   "execution_count": 69,
   "id": "65a8fb9c-aca6-4a95-9133-93d662f90e39",
   "metadata": {},
   "outputs": [
    {
     "name": "stdout",
     "output_type": "stream",
     "text": [
      "Hey Hello\n"
     ]
    }
   ],
   "source": [
    "class Bus:\n",
    "    @staticmethod   #decorator\n",
    "    def hello():\n",
    "        print(\"Hey Hello\")\n",
    "\n",
    "b1 = Bus()\n",
    "b1.hello()"
   ]
  },
  {
   "cell_type": "markdown",
   "id": "fb6c4b81-dde2-4b24-8fe1-452a2e0279d6",
   "metadata": {},
   "source": [
    "# Important\n",
    "\n",
    "* Abstarction - hiding the implementation details of the class and showing essential features to the user\n",
    "\n",
    "* Encapsulation - Wraping data and functions into a single unit (objects)"
   ]
  },
  {
   "cell_type": "code",
   "execution_count": 28,
   "id": "593d4916-300d-4179-9bc2-6585c91e790d",
   "metadata": {},
   "outputs": [],
   "source": [
    "# Create a Account class with 2 Attributes-balance and account number.\n",
    "# create methods for debit, credit, print balance\n",
    "\n",
    "class Account:\n",
    "    def __init__(self,balance,account_number):\n",
    "        self.balance = balance\n",
    "        self.account_number = account_number\n",
    "    def debit(self, amount):\n",
    "        self.balance -= amount\n",
    "        print(f\"Rupees {amount} was debited from account: {self.account_number}\")\n",
    "        print(\"Balance after debit is = \", a1.get_balance())\n",
    "    def credit(self,amount):\n",
    "        self.balance += amount\n",
    "        print(f\"Rupees {amount} was credited to account: {self.account_number}\")\n",
    "        print(\"Balance after credit = \", a1.get_balance())\n",
    "    def get_balance(self):\n",
    "        return self.balance\n",
    "        \n",
    "        "
   ]
  },
  {
   "cell_type": "code",
   "execution_count": 29,
   "id": "2774a924-eaa4-4fa1-89ae-c82d002ad344",
   "metadata": {},
   "outputs": [
    {
     "name": "stdout",
     "output_type": "stream",
     "text": [
      "Rupees 5000 was debited from account: 1010245788\n",
      "Balance after debit is =  20000\n",
      "Rupees 10000 was credited to account: 1010245788\n",
      "Balance after credit =  30000\n",
      "The total account balance =  30000\n"
     ]
    }
   ],
   "source": [
    "a1 = Account(25000,1010245788)\n",
    "a1.debit(5000)\n",
    "a1.credit(10000)\n",
    "print(\"The total account balance = \",a1.get_balance())"
   ]
  },
  {
   "cell_type": "code",
   "execution_count": null,
   "id": "033a3792-6f06-47d8-9296-d3441ce1bf20",
   "metadata": {},
   "outputs": [],
   "source": []
  },
  {
   "cell_type": "markdown",
   "id": "67e77605-f740-4c07-9e4f-a25c4f7b15c3",
   "metadata": {},
   "source": [
    "# Part 2"
   ]
  },
  {
   "cell_type": "markdown",
   "id": "9cfc387e-cfb4-4586-bc6a-0861036f033f",
   "metadata": {},
   "source": [
    "## del keyword\n",
    "\n",
    "* Used to delete object properties or object itself\n",
    "\n",
    "    * del s1.name   # delete object property\n",
    "    * del s1        # delete object\n",
    " \n",
    "## private attributes and methods\n",
    "\n",
    "* private attributes and methods are meant to be used within the class and can't be accessed outside of class.\n",
    "\n",
    "    *  use __ befor method name or a attribute name to make them private.\n",
    " \n",
    "    *  def __student(self):# private method\n",
    "    *  self.__name #Private attribute  "
   ]
  },
  {
   "cell_type": "code",
   "execution_count": null,
   "id": "865fcc33-b53b-4823-9252-8377d0336617",
   "metadata": {},
   "outputs": [],
   "source": []
  },
  {
   "cell_type": "markdown",
   "id": "ff3cb7bf-53d1-4544-a882-9906521e281e",
   "metadata": {},
   "source": [
    "# Inheritance\n",
    "\n",
    "When class (child/derived) uses the methods and properties of another class(parent) is called as inheritance\n",
    "\n",
    "Types:\n",
    "\n",
    "* Single inheritance\n",
    "    * parent -> child\n",
    " \n",
    "* multi-level inheritance\n",
    "    * parent(p1) -> child(p2) -> child(p3) -> child\n",
    "\n",
    "* Multiple inheritances\n",
    "    * parent1 -> child <- parent2"
   ]
  },
  {
   "cell_type": "code",
   "execution_count": null,
   "id": "9f42d226-5a75-467e-90f6-c242941f719e",
   "metadata": {},
   "outputs": [],
   "source": []
  },
  {
   "cell_type": "markdown",
   "id": "fc844b61-7542-4533-b415-225c222a9c9c",
   "metadata": {},
   "source": [
    "# Super() method\n",
    "\n",
    "super() method used to access methods or attributes from parent class super().__init__(type)"
   ]
  },
  {
   "cell_type": "markdown",
   "id": "244155df-25b7-4a40-b9a1-2bd0c4bf78d6",
   "metadata": {},
   "source": [
    "# Class method\n",
    "\n",
    "decoreator\n",
    "\n",
    "* Static metod cant access or modify class attributes or state generaly for utility so we use class method\n",
    "\n",
    "* A class method is bound to the class and recieve the class as an implicit first argument\n",
    "\n"
   ]
  },
  {
   "cell_type": "markdown",
   "id": "43f8359d-740d-4da2-9a31-f1a6cca8aeb6",
   "metadata": {},
   "source": [
    "# property method\n",
    "\n",
    "decorator\n",
    "\n",
    "* we use @property decorator on any method in the class to use the method as property"
   ]
  },
  {
   "cell_type": "code",
   "execution_count": 20,
   "id": "f69dd66e-c71d-46b6-a31a-0047d8e9f121",
   "metadata": {},
   "outputs": [
    {
     "data": {
      "text/plain": [
       "98.0"
      ]
     },
     "execution_count": 20,
     "metadata": {},
     "output_type": "execute_result"
    }
   ],
   "source": [
    "class Student:\n",
    "    def __init__(self,phy,chem,math):\n",
    "        self.phy = phy\n",
    "        self.chem = chem\n",
    "        self.math = math\n",
    "\n",
    "    @property\n",
    "    def percentage(self):\n",
    "        return (self.phy + self.chem + self.math) / 3\n",
    "\n",
    "s1 = Student(98,97,99)\n",
    "s1.phy = 98   # if we change any value if attribute it will automatically change percentage if we use @property\n",
    "s1.percentage\n"
   ]
  },
  {
   "cell_type": "markdown",
   "id": "4527028e-51b4-40e3-a323-5b144c7ba1df",
   "metadata": {},
   "source": [
    "# Polymorphism : Operator Overloading\n",
    "\n",
    "* when same operator allowed to produce different meanings on the basis of context\n",
    "\n",
    "* Example using + operator in different situations\n",
    "\n",
    "* Operators and Dunder functions(where _ _ used before func called as dunder or double underscore functions)\n",
    "\n",
    "    * a + b #addition ------------->  a._ _add_ _(b)\n",
    " \n",
    "    * a - b #substraction --------->  a._ _sub- _(b)\n",
    " \n",
    "    * a * b #multiplication -------> a._ _mul_ _(b)\n",
    " \n",
    "    * a / b #division -------------> a._ _truediv_ _(b)\n"
   ]
  },
  {
   "cell_type": "code",
   "execution_count": 22,
   "id": "52a13e62-47e7-4b6e-8cc8-cf97e54cb51d",
   "metadata": {},
   "outputs": [
    {
     "name": "stdout",
     "output_type": "stream",
     "text": [
      "3\n",
      "classes objects\n",
      "[1, 2, 3, 4, 5, 6]\n"
     ]
    }
   ],
   "source": [
    "print(1+2)\n",
    "\n",
    "print(\"classes \" + \"objects\")\n",
    "\n",
    "print([1,2,3] + [4,5,6])"
   ]
  },
  {
   "cell_type": "code",
   "execution_count": 56,
   "id": "6149c63d-a5c7-4993-ab85-a4d81521f4d1",
   "metadata": {},
   "outputs": [
    {
     "name": "stdout",
     "output_type": "stream",
     "text": [
      "num1     : 1 + 3j\n",
      "num2     : 4 + 5j\n",
      "\n",
      "after addition     : 5 + 8j\n",
      "after substracting : 3 + 2j\n"
     ]
    }
   ],
   "source": [
    "class Complex:\n",
    "    def __init__(self, real, img):\n",
    "        self.real = real\n",
    "        self.img = img\n",
    "        \n",
    "    def showNum(self):\n",
    "        print(f\"{self.real} + {self.img}j\")\n",
    "\n",
    "    # Overloading the + operator\n",
    "    def __add__(self, num2):\n",
    "        newReal = self.real + num2.real\n",
    "        newImg = self.img + num2.img\n",
    "        return Complex(newReal, newImg)\n",
    "\n",
    "    def __sub__(self, num2):\n",
    "        newReal = num2.real - self.real\n",
    "        newImg = num2.img - self.img\n",
    "        return Complex(newReal, newImg)\n",
    "\n",
    "\n",
    "# Creating complex numbers\n",
    "num1 = Complex(1, 3)\n",
    "print(\"num1     : \",end = \"\")\n",
    "num1.showNum()\n",
    "\n",
    "num2 = Complex(4, 5)\n",
    "print(\"num2     : \",end = \"\")\n",
    "\n",
    "num2.showNum()\n",
    "\n",
    "# Performing addition\n",
    "num3 = num1 + num2  \n",
    "print(\"\\nafter addition     : \",end = \"\")\n",
    "num3.showNum()  \n",
    "\n",
    "# Performing subtraction\n",
    "num4 = num1 - num2  \n",
    "print(\"after substracting : \",end = \"\")\n",
    "num4.showNum()  \n"
   ]
  },
  {
   "cell_type": "code",
   "execution_count": null,
   "id": "095c10f0-0176-4a5f-a193-e53fe7161e23",
   "metadata": {},
   "outputs": [],
   "source": []
  }
 ],
 "metadata": {
  "kernelspec": {
   "display_name": "Python 3 (ipykernel)",
   "language": "python",
   "name": "python3"
  },
  "language_info": {
   "codemirror_mode": {
    "name": "ipython",
    "version": 3
   },
   "file_extension": ".py",
   "mimetype": "text/x-python",
   "name": "python",
   "nbconvert_exporter": "python",
   "pygments_lexer": "ipython3",
   "version": "3.11.7"
  }
 },
 "nbformat": 4,
 "nbformat_minor": 5
}
