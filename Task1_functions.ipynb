{
 "cells": [
  {
   "cell_type": "code",
   "execution_count": 3,
   "metadata": {},
   "outputs": [],
   "source": [
    "#TASK1\n",
    "\n",
    "#string functions,"
   ]
  },
  {
   "cell_type": "code",
   "execution_count": 4,
   "metadata": {},
   "outputs": [
    {
     "name": "stdout",
     "output_type": "stream",
     "text": [
      "Hello and welcome to my place\n"
     ]
    }
   ],
   "source": [
    "# 1) capitalize()\n",
    "\n",
    "a = \"hello and welcome to my place\"\n",
    "print(a.capitalize())"
   ]
  },
  {
   "cell_type": "code",
   "execution_count": 5,
   "metadata": {},
   "outputs": [
    {
     "name": "stdout",
     "output_type": "stream",
     "text": [
      "hello and welcome to my place\n"
     ]
    }
   ],
   "source": [
    "# 2) casefold()\n",
    "\n",
    "print(a.casefold())"
   ]
  },
  {
   "cell_type": "code",
   "execution_count": 6,
   "metadata": {},
   "outputs": [
    {
     "name": "stdout",
     "output_type": "stream",
     "text": [
      " hello and welcome to my place \n",
      "  My name is Pavan \n"
     ]
    }
   ],
   "source": [
    "# 3) center()\n",
    "b = \"My name is Pavan\"\n",
    "print(a.center(31))\n",
    "print(b.center(19))"
   ]
  },
  {
   "cell_type": "code",
   "execution_count": 7,
   "metadata": {},
   "outputs": [
    {
     "name": "stdout",
     "output_type": "stream",
     "text": [
      "3\n"
     ]
    }
   ],
   "source": [
    "# 4) count()\n",
    "\n",
    "fruit = \"I love mango and mangos are sweet so i eat mango\"\n",
    "print(fruit.count(\"mango\"))"
   ]
  },
  {
   "cell_type": "code",
   "execution_count": 8,
   "metadata": {},
   "outputs": [
    {
     "name": "stdout",
     "output_type": "stream",
     "text": [
      "True\n"
     ]
    }
   ],
   "source": [
    "# 5) endswith()\n",
    "\n",
    "print(b.endswith(\"Pavan\"))"
   ]
  },
  {
   "cell_type": "code",
   "execution_count": 9,
   "metadata": {},
   "outputs": [
    {
     "name": "stdout",
     "output_type": "stream",
     "text": [
      "h         e         l         l         o\n"
     ]
    }
   ],
   "source": [
    "# 6) expandtabs()\n",
    "\n",
    "t = \"h\\te\\tl\\tl\\to\"\n",
    "print(t.expandtabs(10))"
   ]
  },
  {
   "cell_type": "code",
   "execution_count": 10,
   "metadata": {},
   "outputs": [
    {
     "name": "stdout",
     "output_type": "stream",
     "text": [
      "11\n"
     ]
    }
   ],
   "source": [
    "# 7)find()\n",
    "\n",
    "a1 = \"welcom to my world\"\n",
    "print(a1.find(\"y\"))"
   ]
  },
  {
   "cell_type": "code",
   "execution_count": 11,
   "metadata": {},
   "outputs": [
    {
     "name": "stdout",
     "output_type": "stream",
     "text": [
      "for 1000 Rs i bought 12 mangos\n"
     ]
    }
   ],
   "source": [
    "# 8) format()\n",
    "\n",
    "a2 = 12\n",
    "b2 = 1000\n",
    "print(\"for {} Rs i bought {} mangos\".format(b2,a2))"
   ]
  },
  {
   "cell_type": "code",
   "execution_count": 12,
   "metadata": {},
   "outputs": [
    {
     "name": "stdout",
     "output_type": "stream",
     "text": [
      "7\n"
     ]
    }
   ],
   "source": [
    "# 9) index()\n",
    "\n",
    "b1 = \"i like python\"\n",
    "print(b1.index(\"p\"))\n",
    "\n"
   ]
  },
  {
   "cell_type": "code",
   "execution_count": 13,
   "metadata": {},
   "outputs": [
    {
     "name": "stdout",
     "output_type": "stream",
     "text": [
      "True\n"
     ]
    }
   ],
   "source": [
    "# 10) isalnum()\n",
    "\n",
    "a3 = \"pavan1996\"\n",
    "print(a3.isalnum())"
   ]
  },
  {
   "cell_type": "code",
   "execution_count": 14,
   "metadata": {},
   "outputs": [
    {
     "name": "stdout",
     "output_type": "stream",
     "text": [
      "True\n"
     ]
    }
   ],
   "source": [
    "# 11) isalpha()\n",
    "\n",
    "a4 = \"python\"\n",
    "print(a4.isalpha())"
   ]
  },
  {
   "cell_type": "code",
   "execution_count": 15,
   "metadata": {},
   "outputs": [
    {
     "name": "stdout",
     "output_type": "stream",
     "text": [
      "True\n"
     ]
    }
   ],
   "source": [
    "# 12) isdecimal()\n",
    "\n",
    "a5 = \"\\u0030\"\n",
    "print(a5.isdecimal())"
   ]
  },
  {
   "cell_type": "code",
   "execution_count": 16,
   "metadata": {},
   "outputs": [
    {
     "name": "stdout",
     "output_type": "stream",
     "text": [
      "True\n"
     ]
    }
   ],
   "source": [
    "# 13) isdigit()\n",
    "\n",
    "a6 = \"1\"\n",
    "print(a6.isdigit())"
   ]
  },
  {
   "cell_type": "code",
   "execution_count": 17,
   "metadata": {},
   "outputs": [
    {
     "name": "stdout",
     "output_type": "stream",
     "text": [
      "True\n",
      "True\n",
      "False\n",
      "False\n"
     ]
    }
   ],
   "source": [
    "# 14) isidentifier()      identifiers: contains (A-Z) and (0-9) or (_),never starts with numbers and doest contains spaces\n",
    "\n",
    "a = \"world\"\n",
    "b = \"pavan1996\"\n",
    "c = \"00world\"\n",
    "d = \"heelo world\"\n",
    "\n",
    "print(a.isidentifier())  \n",
    "print(b.isidentifier())\n",
    "print(c.isidentifier())\n",
    "print(d.isidentifier())"
   ]
  },
  {
   "cell_type": "code",
   "execution_count": 18,
   "metadata": {},
   "outputs": [
    {
     "name": "stdout",
     "output_type": "stream",
     "text": [
      "True\n"
     ]
    }
   ],
   "source": [
    "# 15) islower()\n",
    "\n",
    "b = \"hello\"\n",
    "print(b.islower())"
   ]
  },
  {
   "cell_type": "code",
   "execution_count": 19,
   "metadata": {},
   "outputs": [
    {
     "name": "stdout",
     "output_type": "stream",
     "text": [
      "True\n"
     ]
    }
   ],
   "source": [
    "# 16) isnumeric()\n",
    "\n",
    "b1 = \"20000\"\n",
    "print(b1.isnumeric())"
   ]
  },
  {
   "cell_type": "code",
   "execution_count": 20,
   "metadata": {},
   "outputs": [
    {
     "name": "stdout",
     "output_type": "stream",
     "text": [
      "True\n",
      "False\n"
     ]
    }
   ],
   "source": [
    "# 17) isprintable()\n",
    "\n",
    "b2 = \"my world\"\n",
    "b3 = \"my \\nname is pavan\"\n",
    "print(b2.isprintable())\n",
    "print(b3.isprintable())"
   ]
  },
  {
   "cell_type": "code",
   "execution_count": 21,
   "metadata": {},
   "outputs": [
    {
     "name": "stdout",
     "output_type": "stream",
     "text": [
      "True\n",
      "False\n"
     ]
    }
   ],
   "source": [
    "# 18) isspace()\n",
    "\n",
    "b4 = \"      \"\n",
    "b5 = \"  s   \"\n",
    "print(b4.isspace())\n",
    "print(b5.isspace())"
   ]
  },
  {
   "cell_type": "code",
   "execution_count": 22,
   "metadata": {},
   "outputs": [
    {
     "name": "stdout",
     "output_type": "stream",
     "text": [
      "False\n",
      "True\n",
      "True\n",
      "True\n"
     ]
    }
   ],
   "source": [
    "# 19) istitle()\n",
    "\n",
    "a = \"HELLO\"\n",
    "b = \"Hello\"\n",
    "c = \"1996 Pk\"\n",
    "d = \"This Is @!?\"\n",
    "\n",
    "print(a.istitle())\n",
    "print(b.istitle())\n",
    "print(c.istitle())\n",
    "print(d.istitle())\n"
   ]
  },
  {
   "cell_type": "code",
   "execution_count": 23,
   "metadata": {},
   "outputs": [
    {
     "name": "stdout",
     "output_type": "stream",
     "text": [
      "True\n"
     ]
    }
   ],
   "source": [
    "# 20) isupper()\n",
    "k = \"PAVAN\"\n",
    "print(k.isupper())"
   ]
  },
  {
   "cell_type": "code",
   "execution_count": 24,
   "metadata": {},
   "outputs": [
    {
     "name": "stdout",
     "output_type": "stream",
     "text": [
      "john@raj@kunal\n"
     ]
    }
   ],
   "source": [
    "# 21) join()\n",
    "\n",
    "j = (\"john\", \"raj\", \"kunal\")\n",
    "print(\"@\".join(j))"
   ]
  },
  {
   "cell_type": "code",
   "execution_count": 25,
   "metadata": {},
   "outputs": [
    {
     "name": "stdout",
     "output_type": "stream",
     "text": [
      "happy new year\n"
     ]
    }
   ],
   "source": [
    "mydict = {\"happy\":\"begin\",\"year\":\"2021\"}\n",
    "print(\" new \".join(mydict))"
   ]
  },
  {
   "cell_type": "code",
   "execution_count": 26,
   "metadata": {},
   "outputs": [
    {
     "name": "stdout",
     "output_type": "stream",
     "text": [
      "mango                is my fav food\n"
     ]
    }
   ],
   "source": [
    "# 22) ljust()\n",
    "\n",
    "l = \"mango\"\n",
    "print(l.ljust(20),\"is my fav food\")"
   ]
  },
  {
   "cell_type": "code",
   "execution_count": 27,
   "metadata": {},
   "outputs": [
    {
     "name": "stdout",
     "output_type": "stream",
     "text": [
      "mango\n"
     ]
    }
   ],
   "source": [
    "# 23) lstrip()\n",
    "\n",
    "x1 = \"!!,,,,...vvkswww...,mango\"\n",
    "\n",
    "print(x1.lstrip(\"!,.vvksw\"))"
   ]
  },
  {
   "cell_type": "code",
   "execution_count": 28,
   "metadata": {},
   "outputs": [
    {
     "name": "stdout",
     "output_type": "stream",
     "text": [
      "hello sam how are you\n"
     ]
    }
   ],
   "source": [
    "# 24) maketranse()\n",
    "\n",
    "t = \"hello jam how are you\"\n",
    "print(t.translate(t.maketrans(\"jam\",\"sam\")))"
   ]
  },
  {
   "cell_type": "code",
   "execution_count": 29,
   "metadata": {},
   "outputs": [
    {
     "name": "stdout",
     "output_type": "stream",
     "text": [
      "he jae hw are yu\n"
     ]
    }
   ],
   "source": [
    "print(t.translate(t.maketrans(\"mja\",\"eja\",\"oll\")))"
   ]
  },
  {
   "cell_type": "code",
   "execution_count": 30,
   "metadata": {},
   "outputs": [
    {
     "name": "stdout",
     "output_type": "stream",
     "text": [
      "{109: 101, 106: 106, 97: 97, 111: None, 108: None}\n"
     ]
    }
   ],
   "source": [
    "print(t.maketrans(\"mja\",\"eja\",\"oll\"))"
   ]
  },
  {
   "cell_type": "code",
   "execution_count": 31,
   "metadata": {},
   "outputs": [
    {
     "name": "stdout",
     "output_type": "stream",
     "text": [
      "('i play ', 'cricket', ' everyday')\n",
      "('i play cricket everyday', '', '')\n"
     ]
    }
   ],
   "source": [
    "# 25) partition()\n",
    "p1 = \"i play cricket everyday\"\n",
    "print(p1.partition(\"cricket\"))\n",
    "print(p1.partition(\"foot ball\"))"
   ]
  },
  {
   "cell_type": "code",
   "execution_count": 32,
   "metadata": {},
   "outputs": [
    {
     "name": "stdout",
     "output_type": "stream",
     "text": [
      "i like cricket\n"
     ]
    }
   ],
   "source": [
    "# 26) replace()\n",
    "\n",
    "p2 = \"i like football\"\n",
    "print(p2.replace(\"football\",\"cricket\"))"
   ]
  },
  {
   "cell_type": "code",
   "execution_count": 33,
   "metadata": {},
   "outputs": [
    {
     "name": "stdout",
     "output_type": "stream",
     "text": [
      "three three apple are good for healt, two two are enough.\n"
     ]
    }
   ],
   "source": [
    "p3 = \"one one apple are good for healt, two two are enough.\"\n",
    "print(p3.replace(\"one\",\"three\"))"
   ]
  },
  {
   "cell_type": "code",
   "execution_count": 34,
   "metadata": {},
   "outputs": [
    {
     "name": "stdout",
     "output_type": "stream",
     "text": [
      "14\n",
      "14\n"
     ]
    }
   ],
   "source": [
    "# 27) rfind(),rindex()\n",
    "\n",
    "p4 = \"hello my name is Pavan\"\n",
    "print(p4.rfind(\"is\"))\n",
    "print(p4.rindex(\"is\"))"
   ]
  },
  {
   "cell_type": "code",
   "execution_count": 35,
   "metadata": {},
   "outputs": [
    {
     "name": "stdout",
     "output_type": "stream",
     "text": [
      "               mango is my favorite fruit\n",
      "000000000000000mango\n"
     ]
    }
   ],
   "source": [
    "# 28) rjust()\n",
    "\n",
    "f = \"mango\"\n",
    "print(f.rjust(20),\"is my favorite fruit\" )\n",
    "print(f.rjust(20,\"0\"))"
   ]
  },
  {
   "cell_type": "code",
   "execution_count": 36,
   "metadata": {},
   "outputs": [
    {
     "name": "stdout",
     "output_type": "stream",
     "text": [
      "('i love mangos, i have two ', 'mangos', ', one mango is so sweet ')\n",
      "('', '', 'i love mangos, i have two mangos, one mango is so sweet ')\n"
     ]
    }
   ],
   "source": [
    "# 29) rpartition()\n",
    "\n",
    "f1 = \"i love mangos, i have two mangos, one mango is so sweet \"\n",
    "print(f1.rpartition(\"mangos\"))\n",
    "print(f1.rpartition(\"apple\"))"
   ]
  },
  {
   "cell_type": "code",
   "execution_count": 37,
   "metadata": {},
   "outputs": [
    {
     "name": "stdout",
     "output_type": "stream",
     "text": [
      "apple,banana,mango are my favorite fruits\n"
     ]
    }
   ],
   "source": [
    "# 30) strip() ---removes spaces at beginning and at the end of the string.\n",
    "\n",
    "f2 = \"     apple,banana,mango     \"\n",
    "print(f2.strip(),\"are my favorite fruits\")"
   ]
  },
  {
   "cell_type": "code",
   "execution_count": 38,
   "metadata": {},
   "outputs": [
    {
     "name": "stdout",
     "output_type": "stream",
     "text": [
      "apple   ,   banana   ,   mango are my favorite fruits\n"
     ]
    }
   ],
   "source": [
    "f3 =  \"     apple   ,   banana   ,   mango     \"\n",
    "print(f3.strip(),\"are my favorite fruits\")"
   ]
  },
  {
   "cell_type": "code",
   "execution_count": 39,
   "metadata": {},
   "outputs": [
    {
     "name": "stdout",
     "output_type": "stream",
     "text": [
      "mango\n"
     ]
    }
   ],
   "source": [
    "f4 = \",,,..!!mango...,,,??\"\n",
    "print(f4.strip(\"!,.?\"))"
   ]
  },
  {
   "cell_type": "code",
   "execution_count": 40,
   "metadata": {},
   "outputs": [
    {
     "name": "stdout",
     "output_type": "stream",
     "text": [
      "    mango is my favorite fruit\n"
     ]
    }
   ],
   "source": [
    "# 31) rstrip()\n",
    "\n",
    "f5 = \"    mango    \"\n",
    "print(f5.rstrip(),\"is my favorite fruit\")"
   ]
  },
  {
   "cell_type": "code",
   "execution_count": 41,
   "metadata": {},
   "outputs": [
    {
     "name": "stdout",
     "output_type": "stream",
     "text": [
      "['welcom', 'to,', 'the,', 'world']\n",
      "['welcom to', ' the, world']\n"
     ]
    }
   ],
   "source": [
    "# 32) split()\n",
    "\n",
    "s = \"welcom to, the, world\"\n",
    "print(s.split())\n",
    "print(s.split(\",\",1))"
   ]
  },
  {
   "cell_type": "code",
   "execution_count": 42,
   "metadata": {},
   "outputs": [
    {
     "name": "stdout",
     "output_type": "stream",
     "text": [
      "['apple', 'banana', 'mango']\n",
      "['apple,banana', 'mango']\n"
     ]
    }
   ],
   "source": [
    "# 33) rsplit()\n",
    "\n",
    "s1 = \"apple,banana,mango\"\n",
    "print(s1.rsplit(\",\"))\n",
    "print(s1.rsplit(\",\",1))"
   ]
  },
  {
   "cell_type": "code",
   "execution_count": 43,
   "metadata": {},
   "outputs": [
    {
     "name": "stdout",
     "output_type": "stream",
     "text": [
      "['Thank you', ' for the ', 'music', 'Welcome to the party']\n",
      "['Thank you\\n', ' for the \\n', 'music\\n', 'Welcome to the party']\n"
     ]
    }
   ],
   "source": [
    "# 34) splitlines()\n",
    "\n",
    "sl = \"Thank you\\n for the \\nmusic\\nWelcome to the party\"\n",
    "print(sl.splitlines())\n",
    "print(sl.splitlines(True))"
   ]
  },
  {
   "cell_type": "code",
   "execution_count": 44,
   "metadata": {},
   "outputs": [
    {
     "name": "stdout",
     "output_type": "stream",
     "text": [
      "True\n",
      "True\n"
     ]
    }
   ],
   "source": [
    "# 35) startwith()\n",
    "\n",
    "s2 = \"python is easy to learn\"\n",
    "print(s2.startswith(\"python\"))\n",
    "print(s2.startswith(\"i\",7))"
   ]
  },
  {
   "cell_type": "code",
   "execution_count": 45,
   "metadata": {},
   "outputs": [
    {
     "name": "stdout",
     "output_type": "stream",
     "text": [
      " My NAME IS pavan\n"
     ]
    }
   ],
   "source": [
    "# 36) swapcase()\n",
    "\n",
    "s3 = \" mY name is PAVAN\"\n",
    "print(s3.swapcase())"
   ]
  },
  {
   "cell_type": "code",
   "execution_count": 46,
   "metadata": {},
   "outputs": [
    {
     "name": "stdout",
     "output_type": "stream",
     "text": [
      " My Name Is Pavan\n"
     ]
    }
   ],
   "source": [
    "# 37) title()\n",
    "\n",
    "print(s3.title())"
   ]
  },
  {
   "cell_type": "code",
   "execution_count": 47,
   "metadata": {},
   "outputs": [
    {
     "name": "stdout",
     "output_type": "stream",
     "text": [
      "Year B2B2B2 \n"
     ]
    }
   ],
   "source": [
    "s4 = \"year b2b2b2 \"\n",
    "print(s4.title())"
   ]
  },
  {
   "cell_type": "code",
   "execution_count": 48,
   "metadata": {},
   "outputs": [
    {
     "name": "stdout",
     "output_type": "stream",
     "text": [
      "00000pavan\n"
     ]
    }
   ],
   "source": [
    "# 38) zfill()\n",
    "\n",
    "z = \"pavan\"\n",
    "print(z.zfill(10))"
   ]
  },
  {
   "cell_type": "code",
   "execution_count": 49,
   "metadata": {},
   "outputs": [
    {
     "name": "stdout",
     "output_type": "stream",
     "text": [
      "IM HAPPY\n"
     ]
    }
   ],
   "source": [
    "# 39) upper()\n",
    "\n",
    "u = \"im happy\"\n",
    "print(u.upper())"
   ]
  },
  {
   "cell_type": "code",
   "execution_count": 50,
   "metadata": {},
   "outputs": [],
   "source": [
    "\n",
    "\n",
    "\n",
    "# List functions __________________________________________________________________________________________________"
   ]
  },
  {
   "cell_type": "code",
   "execution_count": 51,
   "metadata": {},
   "outputs": [
    {
     "name": "stdout",
     "output_type": "stream",
     "text": [
      "['joe', 'sam', 200, 10.5, 'ram']\n"
     ]
    }
   ],
   "source": [
    "# 40) append()\n",
    "\n",
    "l1 = [\"joe\",\"sam\",200,10.5,]\n",
    "l1.append(\"ram\")\n",
    "print(l1)"
   ]
  },
  {
   "cell_type": "code",
   "execution_count": 52,
   "metadata": {},
   "outputs": [
    {
     "name": "stdout",
     "output_type": "stream",
     "text": [
      "['joe', 'sam', 200, 10.5, 'ram', [200, 25, 42, 87, 10, 'pavan']]\n"
     ]
    }
   ],
   "source": [
    "l2 = [200,25,42,87,10,\"pavan\"]\n",
    "l1.append(l2)\n",
    "print(l1)"
   ]
  },
  {
   "cell_type": "code",
   "execution_count": 53,
   "metadata": {},
   "outputs": [
    {
     "name": "stdout",
     "output_type": "stream",
     "text": [
      "[]\n"
     ]
    }
   ],
   "source": [
    "# 41) clear()\n",
    "\n",
    "l1.clear()\n",
    "print(l1)"
   ]
  },
  {
   "cell_type": "code",
   "execution_count": 54,
   "metadata": {},
   "outputs": [
    {
     "name": "stdout",
     "output_type": "stream",
     "text": [
      "[]\n"
     ]
    }
   ],
   "source": [
    "# 42) copy()\n",
    "\n",
    "l1.copy()\n",
    "print(l1)"
   ]
  },
  {
   "cell_type": "code",
   "execution_count": 55,
   "metadata": {},
   "outputs": [
    {
     "name": "stdout",
     "output_type": "stream",
     "text": [
      "0\n"
     ]
    }
   ],
   "source": [
    "# 43) count()\n",
    "\n",
    "print(l1.count(\"sam\"))"
   ]
  },
  {
   "cell_type": "code",
   "execution_count": 56,
   "metadata": {},
   "outputs": [
    {
     "name": "stdout",
     "output_type": "stream",
     "text": [
      "['apple', 'banana', 'mango', 'grapes', 'red', 'yellow', 'orange', 'green']\n"
     ]
    }
   ],
   "source": [
    "# 44) extend()\n",
    "\n",
    "fruits = [\"apple\",\"banana\",\"mango\",\"grapes\"]\n",
    "colors = [\"red\",\"yellow\",\"orange\",\"green\"]\n",
    "fruits.extend(colors)\n",
    "print(fruits)"
   ]
  },
  {
   "cell_type": "code",
   "execution_count": 57,
   "metadata": {
    "scrolled": true
   },
   "outputs": [
    {
     "name": "stdout",
     "output_type": "stream",
     "text": [
      "2\n"
     ]
    }
   ],
   "source": [
    "# 45) index()\n",
    "\n",
    "print(fruits.index(\"mango\"))"
   ]
  },
  {
   "cell_type": "code",
   "execution_count": 58,
   "metadata": {},
   "outputs": [
    {
     "name": "stdout",
     "output_type": "stream",
     "text": [
      "[1, 32, 2, 3, 4, 5, 6]\n"
     ]
    }
   ],
   "source": [
    "# 46) insert()\n",
    "l3 = [1,2,3,4,5,6]\n",
    "l3.insert(1,32)\n",
    "print(l3)"
   ]
  },
  {
   "cell_type": "code",
   "execution_count": 59,
   "metadata": {},
   "outputs": [
    {
     "name": "stdout",
     "output_type": "stream",
     "text": [
      "[1, 2, 3, 4, 5, 6]\n"
     ]
    }
   ],
   "source": [
    "# 47) pop()\n",
    "\n",
    "l3.pop(1)\n",
    "print(l3)"
   ]
  },
  {
   "cell_type": "code",
   "execution_count": 60,
   "metadata": {},
   "outputs": [
    {
     "name": "stdout",
     "output_type": "stream",
     "text": [
      "[1, 5, 6, 9]\n"
     ]
    }
   ],
   "source": [
    "# 48) remove()\n",
    "\n",
    "l4 = [1,5,6,78,9,]\n",
    "l4.remove(78)\n",
    "print(l4)"
   ]
  },
  {
   "cell_type": "code",
   "execution_count": 61,
   "metadata": {},
   "outputs": [
    {
     "name": "stdout",
     "output_type": "stream",
     "text": [
      "[9, 6, 5, 1]\n"
     ]
    }
   ],
   "source": [
    "# 49) reverse()\n",
    "l4.reverse()\n",
    "print(l4)"
   ]
  },
  {
   "cell_type": "code",
   "execution_count": 62,
   "metadata": {},
   "outputs": [
    {
     "name": "stdout",
     "output_type": "stream",
     "text": [
      "[1, 5, 6, 9]\n"
     ]
    }
   ],
   "source": [
    "# 50) sort()\n",
    "\n",
    "l4.sort()\n",
    "print(l4)"
   ]
  },
  {
   "cell_type": "code",
   "execution_count": null,
   "metadata": {},
   "outputs": [],
   "source": [
    "\n",
    "\n",
    "# dictionary functions _________________________________________________________________________________________________"
   ]
  },
  {
   "cell_type": "code",
   "execution_count": 74,
   "metadata": {},
   "outputs": [
    {
     "name": "stdout",
     "output_type": "stream",
     "text": [
      "{}\n"
     ]
    }
   ],
   "source": [
    "# 51) clear()\n",
    "\n",
    "d1 = {\"sam\":25,\"joe\":22,\"ronny\":24,\"lucky\":28}\n",
    "d1.clear()\n",
    "print(d1)"
   ]
  },
  {
   "cell_type": "code",
   "execution_count": 75,
   "metadata": {},
   "outputs": [
    {
     "data": {
      "text/plain": [
       "{'ram': 25, 'joe': 22, 'ronny': 24, 'lucky': 28}"
      ]
     },
     "execution_count": 75,
     "metadata": {},
     "output_type": "execute_result"
    }
   ],
   "source": [
    "# 52) copy()\n",
    "\n",
    "d2 = d1 = {\"ram\":25,\"joe\":22,\"ronny\":24,\"lucky\":28}\n",
    "d2.copy()"
   ]
  },
  {
   "cell_type": "code",
   "execution_count": 80,
   "metadata": {},
   "outputs": [
    {
     "name": "stdout",
     "output_type": "stream",
     "text": [
      "{'key1': 0, 'key2': 0, 'key3': 0}\n"
     ]
    }
   ],
   "source": [
    "# 53) fromkeys()\n",
    "d3 = (\"key1\",\"key2\",\"key3\")\n",
    "y = 0\n",
    "print(dict.fromkeys(d3,y))"
   ]
  },
  {
   "cell_type": "code",
   "execution_count": 81,
   "metadata": {},
   "outputs": [
    {
     "name": "stdout",
     "output_type": "stream",
     "text": [
      "{'key1': None, 'key2': None, 'key3': None}\n"
     ]
    }
   ],
   "source": [
    "print(dict.fromkeys(d3))"
   ]
  },
  {
   "cell_type": "code",
   "execution_count": 82,
   "metadata": {},
   "outputs": [
    {
     "name": "stdout",
     "output_type": "stream",
     "text": [
      "mango\n"
     ]
    }
   ],
   "source": [
    "# 54) get()\n",
    "\n",
    "d4 = {\"car\":\"xuv\",\"bike\":\"thunder bird\",\"fruit\":\"mango\"}\n",
    "print(d4.get(\"fruit\"))"
   ]
  },
  {
   "cell_type": "code",
   "execution_count": 84,
   "metadata": {},
   "outputs": [
    {
     "name": "stdout",
     "output_type": "stream",
     "text": [
      "dict_items([('car', 'xuv'), ('bike', 'thunder bird'), ('fruit', 'mango')])\n"
     ]
    }
   ],
   "source": [
    "# 55) items()\n",
    "\n",
    "print(d4.items())"
   ]
  },
  {
   "cell_type": "code",
   "execution_count": 86,
   "metadata": {},
   "outputs": [
    {
     "name": "stdout",
     "output_type": "stream",
     "text": [
      "{'car': 'benz', 'bike': 'thunder bird', 'fruit': 'mango'}\n"
     ]
    }
   ],
   "source": [
    "# to replace the the value corresponding to the key\n",
    "\n",
    "d4[\"car\"] = \"benz\"\n",
    "print(d4)"
   ]
  },
  {
   "cell_type": "code",
   "execution_count": 87,
   "metadata": {},
   "outputs": [
    {
     "name": "stdout",
     "output_type": "stream",
     "text": [
      "{'car': 'benz', 'bike': 'thunder bird', 'fruit': 'orange'}\n"
     ]
    }
   ],
   "source": [
    "d4[\"fruit\"] = \"orange\"\n",
    "print(d4)"
   ]
  },
  {
   "cell_type": "code",
   "execution_count": 88,
   "metadata": {},
   "outputs": [
    {
     "name": "stdout",
     "output_type": "stream",
     "text": [
      "dict_keys(['car', 'bike', 'fruit'])\n"
     ]
    }
   ],
   "source": [
    "# 56) keys()\n",
    "\n",
    "print(d4.keys())"
   ]
  },
  {
   "cell_type": "code",
   "execution_count": 90,
   "metadata": {},
   "outputs": [
    {
     "name": "stdout",
     "output_type": "stream",
     "text": [
      "{'car': 'benz', 'bike': 'thunder bird', 'fruit': 'orange', 'mobile': 'one+'}\n"
     ]
    }
   ],
   "source": [
    "# to add new key and value pair\n",
    "\n",
    "d4[\"mobile\"] = \"one+\"\n",
    "print(d4)"
   ]
  },
  {
   "cell_type": "code",
   "execution_count": 91,
   "metadata": {},
   "outputs": [
    {
     "name": "stdout",
     "output_type": "stream",
     "text": [
      "{'car': 'benz', 'bike': 'thunder bird', 'fruit': 'orange', 'mobile': 'one+', 'laptop': 'lenovo'}\n"
     ]
    }
   ],
   "source": [
    "d4[\"laptop\"] = \"lenovo\"\n",
    "print(d4)"
   ]
  },
  {
   "cell_type": "code",
   "execution_count": 97,
   "metadata": {},
   "outputs": [
    {
     "name": "stdout",
     "output_type": "stream",
     "text": [
      "{'car': 'benz', 'mobile': 'one+', 'laptop': 'lenovo'}\n"
     ]
    }
   ],
   "source": [
    "# 57) pop()\n",
    "\n",
    "d4.pop(\"bike\")\n",
    "print(d4)"
   ]
  },
  {
   "cell_type": "code",
   "execution_count": 98,
   "metadata": {},
   "outputs": [
    {
     "name": "stdout",
     "output_type": "stream",
     "text": [
      "{'car': 'benz', 'mobile': 'one+'}\n"
     ]
    }
   ],
   "source": [
    "# 58) popitem() removes last added item\n",
    "\n",
    "d4.popitem()\n",
    "print(d4)"
   ]
  },
  {
   "cell_type": "code",
   "execution_count": 103,
   "metadata": {},
   "outputs": [
    {
     "name": "stdout",
     "output_type": "stream",
     "text": [
      "benz\n"
     ]
    }
   ],
   "source": [
    "# 59) setdefault() get value of key \n",
    "\n",
    "print(d4.setdefault(\"car\"))\n"
   ]
  },
  {
   "cell_type": "code",
   "execution_count": 104,
   "metadata": {},
   "outputs": [
    {
     "name": "stdout",
     "output_type": "stream",
     "text": [
      "{'car': 'benz', 'mobile': 'one+', 'color': 'red'}\n"
     ]
    }
   ],
   "source": [
    "d4.setdefault(\"color\",\"red\") #added new key value\n",
    "print(d4)"
   ]
  },
  {
   "cell_type": "code",
   "execution_count": 105,
   "metadata": {},
   "outputs": [
    {
     "name": "stdout",
     "output_type": "stream",
     "text": [
      "{'car': 'benz', 'mobile': 'one+', 'color': 'red', 'price': 25000}\n"
     ]
    }
   ],
   "source": [
    "# 60) update()\n",
    "\n",
    "d4.update({\"price\":25000})\n",
    "print(d4)"
   ]
  },
  {
   "cell_type": "code",
   "execution_count": 106,
   "metadata": {},
   "outputs": [
    {
     "name": "stdout",
     "output_type": "stream",
     "text": [
      "dict_values(['benz', 'one+', 'red', 25000])\n"
     ]
    }
   ],
   "source": [
    "# 61) values()\n",
    "\n",
    "print(d4.values())"
   ]
  },
  {
   "cell_type": "code",
   "execution_count": 107,
   "metadata": {},
   "outputs": [],
   "source": [
    "\n",
    "\n",
    "# Tuple functions ___________________________________________________________________________________________________________"
   ]
  },
  {
   "cell_type": "code",
   "execution_count": 110,
   "metadata": {},
   "outputs": [
    {
     "name": "stdout",
     "output_type": "stream",
     "text": [
      "2\n"
     ]
    }
   ],
   "source": [
    "# 62) count()\n",
    "\n",
    "tup1 = (1,3,5,7,9,11,5,15,17)\n",
    "print(tup1.count(5))"
   ]
  },
  {
   "cell_type": "code",
   "execution_count": 111,
   "metadata": {},
   "outputs": [
    {
     "name": "stdout",
     "output_type": "stream",
     "text": [
      "5\n"
     ]
    }
   ],
   "source": [
    "# 63) index()\n",
    "\n",
    "print(tup1.index(11))"
   ]
  },
  {
   "cell_type": "code",
   "execution_count": 112,
   "metadata": {},
   "outputs": [],
   "source": [
    "\n",
    "\n",
    "# Set functions________________________________________________________________________________________________________________"
   ]
  },
  {
   "cell_type": "code",
   "execution_count": 121,
   "metadata": {},
   "outputs": [
    {
     "name": "stdout",
     "output_type": "stream",
     "text": [
      "{'ram', 'sam', 'joe', 'son'}\n"
     ]
    }
   ],
   "source": [
    "# 64) add()\n",
    "\n",
    "set1 = {\"joe\",\"sam\",\"son\"}\n",
    "set1.add(\"ram\",)\n",
    "print(set1)"
   ]
  },
  {
   "cell_type": "code",
   "execution_count": 122,
   "metadata": {},
   "outputs": [
    {
     "name": "stdout",
     "output_type": "stream",
     "text": [
      "set()\n"
     ]
    }
   ],
   "source": [
    "# 65) clear()\n",
    "set2 = {1,2,3,4,5,6}\n",
    "set2.clear()\n",
    "print(set2)"
   ]
  },
  {
   "cell_type": "code",
   "execution_count": 128,
   "metadata": {},
   "outputs": [
    {
     "name": "stdout",
     "output_type": "stream",
     "text": [
      "{'ram', 'sam', 'joe', 'son'}\n"
     ]
    }
   ],
   "source": [
    "# 66) copy()\n",
    "\n",
    "print(set1.copy())"
   ]
  },
  {
   "cell_type": "code",
   "execution_count": 134,
   "metadata": {},
   "outputs": [
    {
     "name": "stdout",
     "output_type": "stream",
     "text": [
      "{'joe', 'sam', 'son'}\n",
      "{'one+', 'samsung', 'redmi'}\n"
     ]
    }
   ],
   "source": [
    "# 67) diffrence()\n",
    "set1 = {'ram', 'sam', 'joe', 'son'}\n",
    "set4 = {\"samsung\",\"one+\",\"redmi\",\"ram\"}\n",
    "print(set1.difference(set4))\n",
    "print(set4.difference(set1))"
   ]
  },
  {
   "cell_type": "code",
   "execution_count": 136,
   "metadata": {},
   "outputs": [
    {
     "name": "stdout",
     "output_type": "stream",
     "text": [
      "{'son', 'sam', 'joe'}\n"
     ]
    }
   ],
   "source": [
    "# 68) difference_update() removes the item from set 1, which is common in both the sets.\n",
    "set1.difference_update(set4)\n",
    "print(set1)"
   ]
  },
  {
   "cell_type": "code",
   "execution_count": 137,
   "metadata": {},
   "outputs": [
    {
     "name": "stdout",
     "output_type": "stream",
     "text": [
      "{'grapes', 'mango', 'banana'}\n"
     ]
    }
   ],
   "source": [
    "# 69) discard()---remove element from set\n",
    "\n",
    "fruits = {\"banana\",\"mango\",\"orange\",\"grapes\"}\n",
    "fruits.discard(\"orange\")\n",
    "print(fruits)"
   ]
  },
  {
   "cell_type": "code",
   "execution_count": 141,
   "metadata": {},
   "outputs": [
    {
     "name": "stdout",
     "output_type": "stream",
     "text": [
      "{'mango'}\n"
     ]
    }
   ],
   "source": [
    "# 70) intersection()\n",
    "\n",
    "fruits1 = {\"banana\",\"mango\",\"orange\",\"grapes\"}\n",
    "fruits2 = {\"mango\",\"blueberry\",\"coconut\"}\n",
    "print(fruits1.intersection(fruits2))"
   ]
  },
  {
   "cell_type": "code",
   "execution_count": 144,
   "metadata": {},
   "outputs": [
    {
     "name": "stdout",
     "output_type": "stream",
     "text": [
      "{'c'}\n"
     ]
    }
   ],
   "source": [
    "x = {\"a\",\"b\",\"c\"}\n",
    "y = {\"d\",\"c\",\"e\"}\n",
    "z = {\"f\",\"d\",\"g\"}\n",
    "\n",
    "print(x.intersection(y))"
   ]
  },
  {
   "cell_type": "code",
   "execution_count": 146,
   "metadata": {},
   "outputs": [
    {
     "name": "stdout",
     "output_type": "stream",
     "text": [
      "{'grapes', 'mango', 'banana'}\n"
     ]
    }
   ],
   "source": [
    "# 71) pop()--removes last element in set\n",
    "\n",
    "fruits1.pop()\n",
    "print(fruits1)"
   ]
  },
  {
   "cell_type": "code",
   "execution_count": 147,
   "metadata": {},
   "outputs": [
    {
     "name": "stdout",
     "output_type": "stream",
     "text": [
      "{'coconut', 'mango'}\n"
     ]
    }
   ],
   "source": [
    "# 72) remove()\n",
    "\n",
    "fruits2.remove(\"blueberry\")\n",
    "print(fruits2)"
   ]
  },
  {
   "cell_type": "code",
   "execution_count": 149,
   "metadata": {},
   "outputs": [
    {
     "name": "stdout",
     "output_type": "stream",
     "text": [
      "{1, 2, 3, 100, 4, 5, 6, 200, 300, 400}\n"
     ]
    }
   ],
   "source": [
    "# 73) union()\n",
    "\n",
    "x1 = {100,200,300,400}\n",
    "y1 = {1,2,3,4,5,6}\n",
    "print(x1.union(y1))"
   ]
  },
  {
   "cell_type": "code",
   "execution_count": null,
   "metadata": {},
   "outputs": [],
   "source": []
  }
 ],
 "metadata": {
  "kernelspec": {
   "display_name": "Python 3",
   "language": "python",
   "name": "python3"
  },
  "language_info": {
   "codemirror_mode": {
    "name": "ipython",
    "version": 3
   },
   "file_extension": ".py",
   "mimetype": "text/x-python",
   "name": "python",
   "nbconvert_exporter": "python",
   "pygments_lexer": "ipython3",
   "version": "3.8.5"
  }
 },
 "nbformat": 4,
 "nbformat_minor": 4
}
