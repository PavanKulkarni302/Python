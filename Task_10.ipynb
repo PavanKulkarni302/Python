{
  "nbformat": 4,
  "nbformat_minor": 0,
  "metadata": {
    "colab": {
      "name": "Task 10.ipynb",
      "provenance": []
    },
    "kernelspec": {
      "name": "python3",
      "display_name": "Python 3"
    }
  },
  "cells": [
    {
      "cell_type": "markdown",
      "metadata": {
        "id": "Bd_PKWMQaifT"
      },
      "source": [
        "**10.1**\r\n",
        "Usage of continue.-\r\n",
        "The continue keyword is used to end the current iteration in a for loop or a while loop ,and continues to the next iteration.\r\n",
        "in the below example when i is 5 it will skip it and continue with next iteration."
      ]
    },
    {
      "cell_type": "code",
      "metadata": {
        "colab": {
          "base_uri": "https://localhost:8080/"
        },
        "id": "-zomYMtxZyx1",
        "outputId": "2db7d447-8540-4805-f8e2-afcb2401e098"
      },
      "source": [
        "for i in range(11):\r\n",
        "  if i == 5:\r\n",
        "    continue\r\n",
        "  print(i)"
      ],
      "execution_count": null,
      "outputs": [
        {
          "output_type": "stream",
          "text": [
            "0\n",
            "1\n",
            "2\n",
            "3\n",
            "4\n",
            "6\n",
            "7\n",
            "8\n",
            "9\n",
            "10\n"
          ],
          "name": "stdout"
        }
      ]
    },
    {
      "cell_type": "markdown",
      "metadata": {
        "id": "Mj6uMYEed3vC"
      },
      "source": [
        "**Task 10.2 -**\r\n",
        "The pass statement is used as a placeholder for future code.When the pass statement is executed, **nothing happens**, but you avoid getting an error when empty code is not allowed.Empty code is not allowed in loops, function definitions, class definitions, or in if statements.\r\n",
        "\r\n"
      ]
    },
    {
      "cell_type": "code",
      "metadata": {
        "id": "b9iCe_8bgJqR"
      },
      "source": [
        ""
      ],
      "execution_count": null,
      "outputs": []
    },
    {
      "cell_type": "markdown",
      "metadata": {
        "id": "rjq13CNcf19x"
      },
      "source": [
        "**Task 10.3- a)**\r\n",
        "print from 10 to 1."
      ]
    },
    {
      "cell_type": "code",
      "metadata": {
        "colab": {
          "base_uri": "https://localhost:8080/"
        },
        "id": "JZRwYeSPiI1B",
        "outputId": "d5c9069a-86d0-4d68-c24b-1e04c8cd4db7"
      },
      "source": [
        "a = 10\r\n",
        "while a > 0:\r\n",
        "  print(a)\r\n",
        "  a = a-1"
      ],
      "execution_count": null,
      "outputs": [
        {
          "output_type": "stream",
          "text": [
            "10\n",
            "9\n",
            "8\n",
            "7\n",
            "6\n",
            "5\n",
            "4\n",
            "3\n",
            "2\n",
            "1\n"
          ],
          "name": "stdout"
        }
      ]
    },
    {
      "cell_type": "markdown",
      "metadata": {
        "id": "s1H5N10bsR1i"
      },
      "source": [
        "b)10.3- b)\r\n",
        "using for loop over tuples,sets and dictionaries "
      ]
    },
    {
      "cell_type": "markdown",
      "metadata": {
        "id": "tT0G5UYbtABh"
      },
      "source": [
        "* tuples"
      ]
    },
    {
      "cell_type": "markdown",
      "metadata": {
        "id": "ibyE6sSOs-Ah"
      },
      "source": [
        ""
      ]
    },
    {
      "cell_type": "code",
      "metadata": {
        "colab": {
          "base_uri": "https://localhost:8080/"
        },
        "id": "wTU2zuzRsnR6",
        "outputId": "3bd824bb-e5f8-423c-ef86-30683d1787ad"
      },
      "source": [
        "tup1 = (1,2,3,\"apple\",\"banana\")\r\n",
        "for x in tup1:\r\n",
        "  print(x)"
      ],
      "execution_count": null,
      "outputs": [
        {
          "output_type": "stream",
          "text": [
            "1\n",
            "2\n",
            "3\n",
            "apple\n",
            "banana\n"
          ],
          "name": "stdout"
        }
      ]
    },
    {
      "cell_type": "code",
      "metadata": {
        "colab": {
          "base_uri": "https://localhost:8080/"
        },
        "id": "1edIdPn6u-Nk",
        "outputId": "fad98b4d-0806-4dd0-d3f9-a083ed4b4c36"
      },
      "source": [
        "tup2 = (\"apple\")\r\n",
        "for a in tup2:\r\n",
        "  print(a)"
      ],
      "execution_count": null,
      "outputs": [
        {
          "output_type": "stream",
          "text": [
            "a\n",
            "p\n",
            "p\n",
            "l\n",
            "e\n"
          ],
          "name": "stdout"
        }
      ]
    },
    {
      "cell_type": "markdown",
      "metadata": {
        "id": "jK-1Xl-KvMhT"
      },
      "source": [
        "* sets."
      ]
    },
    {
      "cell_type": "code",
      "metadata": {
        "colab": {
          "base_uri": "https://localhost:8080/"
        },
        "id": "54_swE6qvRkH",
        "outputId": "4ec2a3ea-5bcb-40af-89ec-af68dfcb981a"
      },
      "source": [
        "set1 = {1,2,3,4,5,6}\r\n",
        "for a1 in set1:\r\n",
        "  print(a1)"
      ],
      "execution_count": null,
      "outputs": [
        {
          "output_type": "stream",
          "text": [
            "1\n",
            "2\n",
            "3\n",
            "4\n",
            "5\n",
            "6\n"
          ],
          "name": "stdout"
        }
      ]
    },
    {
      "cell_type": "code",
      "metadata": {
        "colab": {
          "base_uri": "https://localhost:8080/"
        },
        "id": "SJPnzcs2vuFb",
        "outputId": "427c6230-16be-4fd9-dfa4-418d28b9a7f3"
      },
      "source": [
        "set2 = {\"apple\"}\r\n",
        "for a2 in set2:\r\n",
        "  print(a2)"
      ],
      "execution_count": null,
      "outputs": [
        {
          "output_type": "stream",
          "text": [
            "apple\n"
          ],
          "name": "stdout"
        }
      ]
    },
    {
      "cell_type": "markdown",
      "metadata": {
        "id": "4NCEhS3Xv7FM"
      },
      "source": [
        ""
      ]
    },
    {
      "cell_type": "markdown",
      "metadata": {
        "id": "JjFgOdUkv7o7"
      },
      "source": [
        "* dictionaries "
      ]
    },
    {
      "cell_type": "code",
      "metadata": {
        "colab": {
          "base_uri": "https://localhost:8080/"
        },
        "id": "LPtS3ej-wH9k",
        "outputId": "7d28bb78-172d-4826-a6be-377ab8ddcf41"
      },
      "source": [
        "dict1 = {\"game\":\"cricket\",\"player\":\"dhoni\",}\r\n",
        "for a3 in dict1.values():\r\n",
        "  print(a3)"
      ],
      "execution_count": null,
      "outputs": [
        {
          "output_type": "stream",
          "text": [
            "cricket\n",
            "dhoni\n"
          ],
          "name": "stdout"
        }
      ]
    },
    {
      "cell_type": "code",
      "metadata": {
        "colab": {
          "base_uri": "https://localhost:8080/"
        },
        "id": "oeQP8RbkwlYH",
        "outputId": "9d913955-d279-4566-cd16-c6b91fafdad5"
      },
      "source": [
        "dict1 = {\"game\":\"cricket\",\"player\":\"dhoni\",}\r\n",
        "for a3 in dict1.keys():\r\n",
        "  print(a3)"
      ],
      "execution_count": null,
      "outputs": [
        {
          "output_type": "stream",
          "text": [
            "game\n",
            "player\n"
          ],
          "name": "stdout"
        }
      ]
    },
    {
      "cell_type": "code",
      "metadata": {
        "id": "rJceHL7NxOKP"
      },
      "source": [
        ""
      ],
      "execution_count": null,
      "outputs": []
    }
  ]
}