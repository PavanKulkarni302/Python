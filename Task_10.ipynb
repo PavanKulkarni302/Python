{
  "nbformat": 4,
  "nbformat_minor": 0,
  "metadata": {
    "colab": {
      "name": "Task 10.ipynb",
      "provenance": []
    },
    "kernelspec": {
      "name": "python3",
      "display_name": "Python 3"
    }
  },
  "cells": [
    {
      "cell_type": "markdown",
      "metadata": {
        "id": "Bd_PKWMQaifT"
      },
      "source": [
        "**10.1**\r\n",
        "Usage of continue.-\r\n",
        "The continue keyword is used to end the current iteration in a for loop or a while loop ,and continues to the next iteration.\r\n",
        "in the below example when i is 5 it will skip it and continue with next iteration."
      ]
    },
    {
      "cell_type": "code",
      "metadata": {
        "colab": {
          "base_uri": "https://localhost:8080/"
        },
        "id": "-zomYMtxZyx1",
        "outputId": "2db7d447-8540-4805-f8e2-afcb2401e098"
      },
      "source": [
        "for i in range(11):\r\n",
        "  if i == 5:\r\n",
        "    continue\r\n",
        "  print(i)"
      ],
      "execution_count": 9,
      "outputs": [
        {
          "output_type": "stream",
          "text": [
            "0\n",
            "1\n",
            "2\n",
            "3\n",
            "4\n",
            "6\n",
            "7\n",
            "8\n",
            "9\n",
            "10\n"
          ],
          "name": "stdout"
        }
      ]
    },
    {
      "cell_type": "markdown",
      "metadata": {
        "id": "Mj6uMYEed3vC"
      },
      "source": [
        "**Task 10.2 -**\r\n",
        "The pass statement is used as a placeholder for future code.When the pass statement is executed, **nothing happens**, but you avoid getting an error when empty code is not allowed.Empty code is not allowed in loops, function definitions, class definitions, or in if statements.\r\n",
        "\r\n"
      ]
    },
    {
      "cell_type": "code",
      "metadata": {
        "id": "b9iCe_8bgJqR"
      },
      "source": [
        ""
      ],
      "execution_count": null,
      "outputs": []
    },
    {
      "cell_type": "markdown",
      "metadata": {
        "id": "rjq13CNcf19x"
      },
      "source": [
        "**Task 10.3-**\r\n",
        "print from 0 to 1."
      ]
    },
    {
      "cell_type": "code",
      "metadata": {
        "colab": {
          "base_uri": "https://localhost:8080/"
        },
        "id": "JZRwYeSPiI1B",
        "outputId": "d5c9069a-86d0-4d68-c24b-1e04c8cd4db7"
      },
      "source": [
        "a = 10\r\n",
        "while a > 0:\r\n",
        "  print(a)\r\n",
        "  a = a-1"
      ],
      "execution_count": 18,
      "outputs": [
        {
          "output_type": "stream",
          "text": [
            "10\n",
            "9\n",
            "8\n",
            "7\n",
            "6\n",
            "5\n",
            "4\n",
            "3\n",
            "2\n",
            "1\n"
          ],
          "name": "stdout"
        }
      ]
    }
  ]
}