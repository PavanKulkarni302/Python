{
 "cells": [
  {
   "cell_type": "markdown",
   "metadata": {
    "id": "Bd_PKWMQaifT"
   },
   "source": [
    "**10.1**\n",
    "Usage of continue.-\n",
    "The continue keyword is used to end the current iteration in a for loop or a while loop ,and continues to the next iteration.\n",
    "in the below example when i is 5 it will skip it and continue with next iteration."
   ]
  },
  {
   "cell_type": "code",
   "execution_count": 9,
   "metadata": {
    "colab": {
     "base_uri": "https://localhost:8080/"
    },
    "id": "-zomYMtxZyx1",
    "outputId": "2db7d447-8540-4805-f8e2-afcb2401e098"
   },
   "outputs": [
    {
     "name": "stdout",
     "output_type": "stream",
     "text": [
      "0\n",
      "1\n",
      "2\n",
      "3\n",
      "4\n",
      "6\n",
      "7\n",
      "8\n",
      "9\n",
      "10\n"
     ]
    }
   ],
   "source": [
    "for i in range(11):\n",
    "  if i == 5:\n",
    "    continue\n",
    "  print(i)"
   ]
  },
  {
   "cell_type": "markdown",
   "metadata": {
    "id": "Mj6uMYEed3vC"
   },
   "source": [
    "**Task 10.2 -**\n",
    "The pass statement is used as a placeholder for future code.When the pass statement is executed, **nothing happens**, but you avoid getting an error when empty code is not allowed.Empty code is not allowed in loops, function definitions, class definitions, or in if statements.\n",
    "\n"
   ]
  },
  {
   "cell_type": "code",
   "execution_count": null,
   "metadata": {
    "id": "b9iCe_8bgJqR"
   },
   "outputs": [],
   "source": []
  },
  {
   "cell_type": "markdown",
   "metadata": {
    "id": "rjq13CNcf19x"
   },
   "source": [
    "**Task 10.3-**\n",
    "print from 10 to 1."
   ]
  },
  {
   "cell_type": "code",
   "execution_count": 18,
   "metadata": {
    "colab": {
     "base_uri": "https://localhost:8080/"
    },
    "id": "JZRwYeSPiI1B",
    "outputId": "d5c9069a-86d0-4d68-c24b-1e04c8cd4db7"
   },
   "outputs": [
    {
     "name": "stdout",
     "output_type": "stream",
     "text": [
      "10\n",
      "9\n",
      "8\n",
      "7\n",
      "6\n",
      "5\n",
      "4\n",
      "3\n",
      "2\n",
      "1\n"
     ]
    }
   ],
   "source": [
    "a = 10\n",
    "while a > 0:\n",
    "  print(a)\n",
    "  a = a-1"
   ]
  },
  {
   "cell_type": "code",
   "execution_count": null,
   "metadata": {},
   "outputs": [],
   "source": []
  }
 ],
 "metadata": {
  "colab": {
   "name": "Task 10.ipynb",
   "provenance": []
  },
  "kernelspec": {
   "display_name": "Python 3",
   "language": "python",
   "name": "python3"
  },
  "language_info": {
   "codemirror_mode": {
    "name": "ipython",
    "version": 3
   },
   "file_extension": ".py",
   "mimetype": "text/x-python",
   "name": "python",
   "nbconvert_exporter": "python",
   "pygments_lexer": "ipython3",
   "version": "3.8.5"
  }
 },
 "nbformat": 4,
 "nbformat_minor": 1
}
