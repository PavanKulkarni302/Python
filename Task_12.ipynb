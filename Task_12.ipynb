{
 "cells": [
  {
   "cell_type": "markdown",
   "metadata": {},
   "source": [
    "## Task10 :reduce()\n",
    "\n",
    "The reduce(fun,seq) function is used to apply a particular function passed in its argument to all of the list elements mentioned in the sequence passed along.This function is defined in “functools” module.\n",
    "\n"
   ]
  },
  {
   "cell_type": "code",
   "execution_count": 12,
   "metadata": {},
   "outputs": [],
   "source": [
    "import functools \n",
    "l1 = [1,2,3,4,5,6]"
   ]
  },
  {
   "cell_type": "code",
   "execution_count": 13,
   "metadata": {},
   "outputs": [
    {
     "name": "stdout",
     "output_type": "stream",
     "text": [
      "the sum of the list eliments is:  21\n"
     ]
    }
   ],
   "source": [
    "print(\"the sum of the list eliments is: \",end = \" \")\n",
    "print(functools.reduce(lambda a,b: a+b,l1))"
   ]
  },
  {
   "cell_type": "code",
   "execution_count": 14,
   "metadata": {},
   "outputs": [
    {
     "name": "stdout",
     "output_type": "stream",
     "text": [
      " the maximum element of the list is:  6\n"
     ]
    }
   ],
   "source": [
    "print(\" the maximum element of the list is: \",end=\" \")\n",
    "print(functools.reduce(lambda a,b: a if a > b else b,l1))"
   ]
  },
  {
   "cell_type": "markdown",
   "metadata": {},
   "source": [
    "## zip()\n",
    "1.Join two tuples together\n",
    "\n",
    "2.If one tuple contains more items, these items are ignored."
   ]
  },
  {
   "cell_type": "code",
   "execution_count": 15,
   "metadata": {},
   "outputs": [],
   "source": [
    "tup1 = (\"ram\",\"laxman\",\"bharat\")\n",
    "tup2 = (\"ravan\",\"kumbhkaran\",\"indrajeet\")"
   ]
  },
  {
   "cell_type": "code",
   "execution_count": 16,
   "metadata": {},
   "outputs": [
    {
     "name": "stdout",
     "output_type": "stream",
     "text": [
      "(('ram', 'ravan'), ('laxman', 'kumbhkaran'), ('bharat', 'indrajeet'))\n"
     ]
    }
   ],
   "source": [
    "print(tuple(zip(tup1, tup2)))"
   ]
  },
  {
   "cell_type": "code",
   "execution_count": 17,
   "metadata": {},
   "outputs": [],
   "source": [
    "tup3 = (\"sparta\",\"lamda\",\"delta\",\"omega\")\n",
    "tup4 = (\"alphs\",\"bita\",\"gama\")"
   ]
  },
  {
   "cell_type": "code",
   "execution_count": 18,
   "metadata": {},
   "outputs": [
    {
     "name": "stdout",
     "output_type": "stream",
     "text": [
      "(('sparta', 'alphs'), ('lamda', 'bita'), ('delta', 'gama'))\n"
     ]
    }
   ],
   "source": [
    "print(tuple(zip(tup3 , tup4)))"
   ]
  },
  {
   "cell_type": "code",
   "execution_count": null,
   "metadata": {},
   "outputs": [],
   "source": []
  },
  {
   "cell_type": "markdown",
   "metadata": {},
   "source": [
    "## enumerate()\n",
    "A lot of times when dealing with iterators, we also get a need to keep a count of iterations. Python eases the programmers’ task by providing a built-in function enumerate() for this task."
   ]
  },
  {
   "cell_type": "code",
   "execution_count": 19,
   "metadata": {},
   "outputs": [],
   "source": [
    "l3 = [\"eat\",\"sleep\",\"wakeup\"]\n",
    "l4 = \"goodnight\"\n",
    "\n",
    "obj1 = enumerate(l3)\n",
    "obj2 = enumerate(l4)\n"
   ]
  },
  {
   "cell_type": "code",
   "execution_count": 21,
   "metadata": {},
   "outputs": [
    {
     "name": "stdout",
     "output_type": "stream",
     "text": [
      "return type: <class 'enumerate'>\n"
     ]
    }
   ],
   "source": [
    "print(\"return type:\",type(obj1))"
   ]
  },
  {
   "cell_type": "code",
   "execution_count": 23,
   "metadata": {},
   "outputs": [
    {
     "name": "stdout",
     "output_type": "stream",
     "text": [
      "[(0, 'eat'), (1, 'sleep'), (2, 'wakeup')]\n"
     ]
    }
   ],
   "source": [
    "print(list(enumerate(l3)))"
   ]
  },
  {
   "cell_type": "code",
   "execution_count": 24,
   "metadata": {},
   "outputs": [
    {
     "name": "stdout",
     "output_type": "stream",
     "text": [
      "[(2, 'g'), (3, 'o'), (4, 'o'), (5, 'd'), (6, 'n'), (7, 'i'), (8, 'g'), (9, 'h'), (10, 't')]\n"
     ]
    }
   ],
   "source": [
    "print(list(enumerate(l4,2)))"
   ]
  },
  {
   "cell_type": "code",
   "execution_count": null,
   "metadata": {},
   "outputs": [],
   "source": []
  }
 ],
 "metadata": {
  "kernelspec": {
   "display_name": "Python 3",
   "language": "python",
   "name": "python3"
  },
  "language_info": {
   "codemirror_mode": {
    "name": "ipython",
    "version": 3
   },
   "file_extension": ".py",
   "mimetype": "text/x-python",
   "name": "python",
   "nbconvert_exporter": "python",
   "pygments_lexer": "ipython3",
   "version": "3.8.5"
  }
 },
 "nbformat": 4,
 "nbformat_minor": 4
}
