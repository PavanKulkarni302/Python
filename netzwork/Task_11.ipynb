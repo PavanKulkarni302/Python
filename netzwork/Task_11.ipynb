{
 "cells": [
  {
   "cell_type": "markdown",
   "metadata": {},
   "source": [
    "## Task 11.1\n",
    "Return function- To let a function return a value, use the return statement"
   ]
  },
  {
   "cell_type": "code",
   "execution_count": 1,
   "metadata": {},
   "outputs": [
    {
     "name": "stdout",
     "output_type": "stream",
     "text": [
      "125\n"
     ]
    }
   ],
   "source": [
    "\n",
    "def my_number(num3):\n",
    "    return num3**3\n",
    "print(my_number(5))\n"
   ]
  },
  {
   "cell_type": "markdown",
   "metadata": {},
   "source": [
    "## Task 11.2"
   ]
  },
  {
   "cell_type": "code",
   "execution_count": 8,
   "metadata": {},
   "outputs": [
    {
     "name": "stdout",
     "output_type": "stream",
     "text": [
      "enter the num 1:  25\n",
      "enter the num 2:  100\n",
      "Enter the choice\n",
      "1) + \n",
      "2) - \n",
      "3)* \n",
      "4) / \n",
      "Enter operator to use1\n",
      "25 + 100 = 125\n"
     ]
    }
   ],
   "source": [
    "num1 = int(input(\"enter the num 1:  \"))\n",
    "num2 = int(input(\"enter the num 2:  \"))\n",
    "def add(num1,num2):\n",
    "    return num1+num2\n",
    "def sub(num1,num2):\n",
    "    return num1-num2\n",
    "def multiply(num1,num2):\n",
    "    return num1**num2\n",
    "def devide(num,num2):\n",
    "    return num1/num2\n",
    "print(\"Enter the choice\")\n",
    "print(\"1) + \")\n",
    "print(\"2) - \")\n",
    "print(\"3)* \")\n",
    "print(\"4) / \")\n",
    "choice = input(\"Enter operator to use\")\n",
    "if choice == \"1\":\n",
    "    print(num1,\"+\",num2,\"=\",add(num1,num2))\n",
    "elif choice == \"2\":\n",
    "    print(num1,\"-\",num2,\"=\",sub(num1,num2))\n",
    "elif choice == \"3\":\n",
    "    print(num1,\"*\",num2,\"=\",multiply(num1,num2))\n",
    "elif choice == \"4\":\n",
    "    print(num1,\"/\",num2,\"=\",devide(num1,num2))"
   ]
  },
  {
   "cell_type": "code",
   "execution_count": null,
   "metadata": {},
   "outputs": [],
   "source": []
  },
  {
   "cell_type": "code",
   "execution_count": null,
   "metadata": {},
   "outputs": [],
   "source": []
  }
 ],
 "metadata": {
  "kernelspec": {
   "display_name": "Python 3",
   "language": "python",
   "name": "python3"
  },
  "language_info": {
   "codemirror_mode": {
    "name": "ipython",
    "version": 3
   },
   "file_extension": ".py",
   "mimetype": "text/x-python",
   "name": "python",
   "nbconvert_exporter": "python",
   "pygments_lexer": "ipython3",
   "version": "3.8.5"
  }
 },
 "nbformat": 4,
 "nbformat_minor": 4
}
