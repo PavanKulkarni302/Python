{
 "cells": [
  {
   "cell_type": "code",
   "execution_count": 1,
   "metadata": {},
   "outputs": [
    {
     "name": "stdout",
     "output_type": "stream",
     "text": [
      "Choose operator\n",
      "+\n",
      "-\n",
      "*\n",
      "/\n",
      "Enter operator to use+\n",
      "Enter first number100\n",
      "Eneter second number150\n",
      "100 + 150 = 250\n"
     ]
    }
   ],
   "source": [
    "# Task9 \n",
    "def add(a,b):\n",
    "    return a+b\n",
    "def substract(a,b):\n",
    "    return a-b\n",
    "def multiply(a,b):\n",
    "    return a*b\n",
    "def devide(a,b):\n",
    "    return a/b\n",
    "print(\"Choose operator\")\n",
    "print(\"+\")\n",
    "print(\"-\")\n",
    "print(\"*\")\n",
    "print(\"/\")\n",
    "choice = input(\"Enter operator to use\")\n",
    "a = int(input(\"Enter first number\"))\n",
    "b = int(input(\"Eneter second number\"))\n",
    "if choice == \"+\":\n",
    "    print(a,\"+\",b,\"=\",add(a,b))\n",
    "elif choice == \"-\":\n",
    "    print(a,\"-\",b,\"-\",substract(a,b))\n",
    "elif choice == \"*\":\n",
    "    print(a,\"*\",\"b\",multiply(a,b))\n",
    "elif choice == \"/\":\n",
    "    print(a,\"/\",b,\"=\",devide(a,b))\n",
    "else:\n",
    "    print(\"wrong choice\")"
   ]
  },
  {
   "cell_type": "code",
   "execution_count": null,
   "metadata": {},
   "outputs": [],
   "source": []
  }
 ],
 "metadata": {
  "kernelspec": {
   "display_name": "Python 3",
   "language": "python",
   "name": "python3"
  },
  "language_info": {
   "codemirror_mode": {
    "name": "ipython",
    "version": 3
   },
   "file_extension": ".py",
   "mimetype": "text/x-python",
   "name": "python",
   "nbconvert_exporter": "python",
   "pygments_lexer": "ipython3",
   "version": "3.8.5"
  }
 },
 "nbformat": 4,
 "nbformat_minor": 4
}
