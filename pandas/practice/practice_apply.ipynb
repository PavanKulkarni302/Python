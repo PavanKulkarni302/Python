{
 "cells": [
  {
   "cell_type": "code",
   "execution_count": 41,
   "id": "49fe7675-cdc8-40be-8055-13e2d490137d",
   "metadata": {},
   "outputs": [],
   "source": [
    "import pandas as pd\n",
    "import numpy as np"
   ]
  },
  {
   "cell_type": "code",
   "execution_count": 2,
   "id": "917d5469-0650-413f-9cc8-b5ba9766f33b",
   "metadata": {},
   "outputs": [],
   "source": [
    "#Basic Level\n",
    "# Apply a Function to a Column\n",
    "# Create a DataFrame with a column of numbers and use apply to square each number.\n",
    "# Apply a Function to Multiple Columns\n",
    "# Create a DataFrame with two numeric columns and use apply to compute their sum row-wise."
   ]
  },
  {
   "cell_type": "code",
   "execution_count": 36,
   "id": "a9800213-2439-4eb5-9681-b13d450fe0a9",
   "metadata": {},
   "outputs": [
    {
     "name": "stdout",
     "output_type": "stream",
     "text": [
      "   col1  col2\n",
      "0     1    10\n",
      "1     2    20\n",
      "2     3    30\n",
      "3     4    40\n",
      "4     5    50\n",
      "5     6    60\n",
      "6     7    70\n",
      "\n",
      "squred_df:\n",
      " 0     1\n",
      "1     4\n",
      "2     9\n",
      "3    16\n",
      "4    25\n",
      "5    36\n",
      "6    49\n",
      "Name: col1, dtype: int64\n"
     ]
    }
   ],
   "source": [
    "#create sample datafarem with 2 columns\n",
    "data = [[1, 10], [2, 20], [3, 30], [4, 40], [5, 50], [6, 60], [7, 70]]\n",
    "columns = ['col1', 'col2']\n",
    "\n",
    "df = pd.DataFrame(data=data, columns=columns)\n",
    "print(df)\n",
    "\n",
    "squred_df = df['col1'].apply(lambda X:X**2) #on single column\n",
    "print(\"\\nsqured_df:\\n\",squred_df)"
   ]
  },
  {
   "cell_type": "code",
   "execution_count": 46,
   "id": "0d851ca0-a184-4397-ae7f-c0aa9b90be1a",
   "metadata": {},
   "outputs": [],
   "source": [
    "def sum_of_col(df):\n",
    "    return np.sum(df, axis = 1)"
   ]
  },
  {
   "cell_type": "code",
   "execution_count": 47,
   "id": "1106d75d-770d-4341-bbea-bd2dfe45050b",
   "metadata": {},
   "outputs": [
    {
     "data": {
      "text/plain": [
       "0    11\n",
       "1    22\n",
       "2    33\n",
       "3    44\n",
       "4    55\n",
       "5    66\n",
       "6    77\n",
       "dtype: int64"
      ]
     },
     "execution_count": 47,
     "metadata": {},
     "output_type": "execute_result"
    }
   ],
   "source": [
    "sum_of_col(df)"
   ]
  },
  {
   "cell_type": "code",
   "execution_count": 56,
   "id": "e3b4d4ba-8bf8-46bf-a50d-51ff4fcb4f50",
   "metadata": {},
   "outputs": [
    {
     "data": {
      "text/html": [
       "<div>\n",
       "<style scoped>\n",
       "    .dataframe tbody tr th:only-of-type {\n",
       "        vertical-align: middle;\n",
       "    }\n",
       "\n",
       "    .dataframe tbody tr th {\n",
       "        vertical-align: top;\n",
       "    }\n",
       "\n",
       "    .dataframe thead th {\n",
       "        text-align: right;\n",
       "    }\n",
       "</style>\n",
       "<table border=\"1\" class=\"dataframe\">\n",
       "  <thead>\n",
       "    <tr style=\"text-align: right;\">\n",
       "      <th></th>\n",
       "      <th>c1</th>\n",
       "      <th>c2</th>\n",
       "    </tr>\n",
       "  </thead>\n",
       "  <tbody>\n",
       "    <tr>\n",
       "      <th>0</th>\n",
       "      <td>A</td>\n",
       "      <td>B</td>\n",
       "    </tr>\n",
       "    <tr>\n",
       "      <th>1</th>\n",
       "      <td>C</td>\n",
       "      <td>D</td>\n",
       "    </tr>\n",
       "  </tbody>\n",
       "</table>\n",
       "</div>"
      ],
      "text/plain": [
       "  c1 c2\n",
       "0  A  B\n",
       "1  C  D"
      ]
     },
     "execution_count": 56,
     "metadata": {},
     "output_type": "execute_result"
    }
   ],
   "source": [
    "#Create a column with text values and use apply with a lambda function to convert them to uppercase.\n",
    "df = pd.DataFrame(data = [['a','b'],['c','d']], columns = ['c1','c2'])\n",
    "new_df = df.apply(lambda x:x.str.upper())\n",
    "new_df"
   ]
  },
  {
   "cell_type": "code",
   "execution_count": 106,
   "id": "73af59ef-0cb3-4509-9f2f-c69990ca6916",
   "metadata": {},
   "outputs": [
    {
     "name": "stdout",
     "output_type": "stream",
     "text": [
      "    age category\n",
      "0     5    Child\n",
      "1     8    Child\n",
      "2    11    Child\n",
      "3    14    Child\n",
      "4    17     Teen\n",
      "5    20    Adult\n",
      "6    23    Adult\n",
      "7    26    Adult\n",
      "8    29    Adult\n",
      "9    32   Senior\n",
      "10   35   Senior\n",
      "11   38   Senior\n",
      "12   41   Senior\n",
      "13   44   Senior\n",
      "14   47   Senior\n"
     ]
    }
   ],
   "source": [
    "#Define a function that categorizes ages into \"Child,\" \"Teen,\" \"Adult,\" and \"Senior,\" then use apply to apply it to an \"Age\" column.\n",
    "def categorize_age(age):\n",
    "    if age < 15:\n",
    "        return 'Child'\n",
    "    elif 15 < age < 20:\n",
    "        return 'Teen'\n",
    "    elif 20 <= age < 30:\n",
    "        return 'Adult'\n",
    "    else:\n",
    "        return 'Senior'\n",
    "        \n",
    "\n",
    "ages = np.arange(5,50,3)\n",
    "df = pd.DataFrame(ages,columns=['age'])\n",
    "\n",
    "df['category'] = df['age'].apply(categorize_age)\n",
    "print(df.sort_values(by='age',ascending = True))"
   ]
  },
  {
   "cell_type": "code",
   "execution_count": 112,
   "id": "9c41682a-2b73-452b-b19d-ee28bb5d80dc",
   "metadata": {},
   "outputs": [
    {
     "data": {
      "text/html": [
       "<div>\n",
       "<style scoped>\n",
       "    .dataframe tbody tr th:only-of-type {\n",
       "        vertical-align: middle;\n",
       "    }\n",
       "\n",
       "    .dataframe tbody tr th {\n",
       "        vertical-align: top;\n",
       "    }\n",
       "\n",
       "    .dataframe thead th {\n",
       "        text-align: right;\n",
       "    }\n",
       "</style>\n",
       "<table border=\"1\" class=\"dataframe\">\n",
       "  <thead>\n",
       "    <tr style=\"text-align: right;\">\n",
       "      <th></th>\n",
       "      <th>maths</th>\n",
       "      <th>science</th>\n",
       "      <th>english</th>\n",
       "      <th>physics</th>\n",
       "      <th>total</th>\n",
       "    </tr>\n",
       "  </thead>\n",
       "  <tbody>\n",
       "    <tr>\n",
       "      <th>0</th>\n",
       "      <td>95</td>\n",
       "      <td>93</td>\n",
       "      <td>65</td>\n",
       "      <td>76</td>\n",
       "      <td>329</td>\n",
       "    </tr>\n",
       "    <tr>\n",
       "      <th>1</th>\n",
       "      <td>92</td>\n",
       "      <td>99</td>\n",
       "      <td>55</td>\n",
       "      <td>70</td>\n",
       "      <td>316</td>\n",
       "    </tr>\n",
       "    <tr>\n",
       "      <th>2</th>\n",
       "      <td>35</td>\n",
       "      <td>91</td>\n",
       "      <td>69</td>\n",
       "      <td>78</td>\n",
       "      <td>273</td>\n",
       "    </tr>\n",
       "    <tr>\n",
       "      <th>3</th>\n",
       "      <td>75</td>\n",
       "      <td>53</td>\n",
       "      <td>85</td>\n",
       "      <td>77</td>\n",
       "      <td>290</td>\n",
       "    </tr>\n",
       "  </tbody>\n",
       "</table>\n",
       "</div>"
      ],
      "text/plain": [
       "   maths  science  english  physics  total\n",
       "0     95       93       65       76    329\n",
       "1     92       99       55       70    316\n",
       "2     35       91       69       78    273\n",
       "3     75       53       85       77    290"
      ]
     },
     "execution_count": 112,
     "metadata": {},
     "output_type": "execute_result"
    }
   ],
   "source": [
    "#Create a DataFrame of students' scores and use apply along axis=1 to calculate the total marks for each student.\n",
    "def total_score(df):\n",
    "    return np.sum(df)\n",
    "\n",
    "\n",
    "data = [[95,93,65,76],[92,99,55,70],[35,91,69,78],[75,53,85,77]]\n",
    "df = pd.DataFrame(data = data, columns = ['maths','science','english','physics'])\n",
    "df['total'] = df.apply(total_score, axis = 1)\n",
    "df"
   ]
  },
  {
   "cell_type": "code",
   "execution_count": 138,
   "id": "dde903ba-57fe-459f-937e-8235affc7a6e",
   "metadata": {},
   "outputs": [
    {
     "data": {
      "text/html": [
       "<div>\n",
       "<style scoped>\n",
       "    .dataframe tbody tr th:only-of-type {\n",
       "        vertical-align: middle;\n",
       "    }\n",
       "\n",
       "    .dataframe tbody tr th {\n",
       "        vertical-align: top;\n",
       "    }\n",
       "\n",
       "    .dataframe thead th {\n",
       "        text-align: right;\n",
       "    }\n",
       "</style>\n",
       "<table border=\"1\" class=\"dataframe\">\n",
       "  <thead>\n",
       "    <tr style=\"text-align: right;\">\n",
       "      <th></th>\n",
       "      <th>Values</th>\n",
       "      <th>mul</th>\n",
       "      <th>add</th>\n",
       "    </tr>\n",
       "  </thead>\n",
       "  <tbody>\n",
       "    <tr>\n",
       "      <th>0</th>\n",
       "      <td>10</td>\n",
       "      <td>100</td>\n",
       "      <td>30</td>\n",
       "    </tr>\n",
       "    <tr>\n",
       "      <th>1</th>\n",
       "      <td>20</td>\n",
       "      <td>200</td>\n",
       "      <td>40</td>\n",
       "    </tr>\n",
       "    <tr>\n",
       "      <th>2</th>\n",
       "      <td>30</td>\n",
       "      <td>300</td>\n",
       "      <td>50</td>\n",
       "    </tr>\n",
       "    <tr>\n",
       "      <th>3</th>\n",
       "      <td>40</td>\n",
       "      <td>400</td>\n",
       "      <td>60</td>\n",
       "    </tr>\n",
       "  </tbody>\n",
       "</table>\n",
       "</div>"
      ],
      "text/plain": [
       "   Values  mul  add\n",
       "0      10  100   30\n",
       "1      20  200   40\n",
       "2      30  300   50\n",
       "3      40  400   60"
      ]
     },
     "execution_count": 138,
     "metadata": {},
     "output_type": "execute_result"
    }
   ],
   "source": [
    "#Write a function that takes additional arguments (e.g., a multiplier) and apply it with apply(args=(x, y)).\n",
    "# Sample DataFrame\n",
    "def multiply(value,multplier,addition):\n",
    "    return value * multplier, value + addition\n",
    "    \n",
    "df = pd.DataFrame({'Values': [10, 20, 30, 40]})\n",
    "# result = df['Values'].apply(multiply,args=(3,3))\n",
    "df[['mul','add']] = list(df['Values'].apply(multiply,args=(10,20)))\n",
    "df"
   ]
  },
  {
   "cell_type": "code",
   "execution_count": null,
   "id": "de0efc33-848d-48be-ba5e-a207c9605a30",
   "metadata": {},
   "outputs": [],
   "source": []
  },
  {
   "cell_type": "code",
   "execution_count": 175,
   "id": "cfb081fd-63bc-4c25-97a1-456b188f4c3d",
   "metadata": {},
   "outputs": [],
   "source": [
    "#pip install swifter -- use for faster pandas operations in .apply "
   ]
  },
  {
   "cell_type": "code",
   "execution_count": null,
   "id": "eb278359-e3cd-4300-af3c-1ce7523d7d40",
   "metadata": {},
   "outputs": [],
   "source": []
  }
 ],
 "metadata": {
  "kernelspec": {
   "display_name": "Python 3 (ipykernel)",
   "language": "python",
   "name": "python3"
  },
  "language_info": {
   "codemirror_mode": {
    "name": "ipython",
    "version": 3
   },
   "file_extension": ".py",
   "mimetype": "text/x-python",
   "name": "python",
   "nbconvert_exporter": "python",
   "pygments_lexer": "ipython3",
   "version": "3.11.7"
  }
 },
 "nbformat": 4,
 "nbformat_minor": 5
}
