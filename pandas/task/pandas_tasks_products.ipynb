{
 "cells": [
  {
   "cell_type": "code",
   "execution_count": 179,
   "id": "f469e4b6-0aa2-4de5-99f6-e85ca0133a51",
   "metadata": {},
   "outputs": [
    {
     "name": "stdout",
     "output_type": "stream",
     "text": [
      "   transaction_id product  quantity  price_per_unit        date\n",
      "0               1       A        10             100  2021-01-01\n",
      "1               2       B        20             150  2021-01-02\n",
      "2               3       A        30             100  2021-01-02\n",
      "3               4       C        40             200  2021-01-04\n",
      "4               5       B        50             150  2021-01-05\n",
      "5               6       A        50             110  2021-02-06\n"
     ]
    }
   ],
   "source": [
    "import pandas as pd\n",
    "\n",
    "# Sample dataset\n",
    "data = {\n",
    "    'transaction_id': [1, 2, 3, 4, 5,6],\n",
    "    'product': ['A', 'B', 'A', 'C', 'B','A'],\n",
    "    'quantity': [10, 20, 30, 40, 50,50],\n",
    "    'price_per_unit': [100, 150, 100, 200, 150,110],\n",
    "    'date': ['2021-01-01', '2021-01-02', '2021-01-02', '2021-01-04', '2021-01-05','2021-02-06']\n",
    "}\n",
    "\n",
    "df = pd.DataFrame(data)\n",
    "\n",
    "# Task 1: Calculate the total revenue for each product.\n",
    "# Task 2: Add a new column 'total_revenue' which is the product of 'quantity' and 'price_per_unit'.\n",
    "# Task 3: Filter the dataframe to include only transactions with a total price greater than 2000.\n",
    "# Task 4: Group the data by product and calculate the total quantity sold for each product.\n",
    "# Task 5: Convert the 'date' column to datetime format and set it as the index of the dataframe.\n",
    "\n",
    "print(df)\n"
   ]
  },
  {
   "cell_type": "markdown",
   "id": "51eca799-8d1f-4c42-af89-1da121f47a27",
   "metadata": {},
   "source": [
    "### **Task 1: Calculate the total revenue for each product.**"
   ]
  },
  {
   "cell_type": "code",
   "execution_count": 180,
   "id": "859be071-43e0-4fec-9fc3-60d65b8cd715",
   "metadata": {},
   "outputs": [
    {
     "data": {
      "text/html": [
       "<div>\n",
       "<style scoped>\n",
       "    .dataframe tbody tr th:only-of-type {\n",
       "        vertical-align: middle;\n",
       "    }\n",
       "\n",
       "    .dataframe tbody tr th {\n",
       "        vertical-align: top;\n",
       "    }\n",
       "\n",
       "    .dataframe thead th {\n",
       "        text-align: right;\n",
       "    }\n",
       "</style>\n",
       "<table border=\"1\" class=\"dataframe\">\n",
       "  <thead>\n",
       "    <tr style=\"text-align: right;\">\n",
       "      <th></th>\n",
       "      <th>transaction_id</th>\n",
       "      <th>product</th>\n",
       "      <th>quantity</th>\n",
       "      <th>price_per_unit</th>\n",
       "      <th>date</th>\n",
       "      <th>total_price</th>\n",
       "    </tr>\n",
       "  </thead>\n",
       "  <tbody>\n",
       "    <tr>\n",
       "      <th>0</th>\n",
       "      <td>1</td>\n",
       "      <td>A</td>\n",
       "      <td>10</td>\n",
       "      <td>100</td>\n",
       "      <td>2021-01-01</td>\n",
       "      <td>1000</td>\n",
       "    </tr>\n",
       "    <tr>\n",
       "      <th>1</th>\n",
       "      <td>2</td>\n",
       "      <td>B</td>\n",
       "      <td>20</td>\n",
       "      <td>150</td>\n",
       "      <td>2021-01-02</td>\n",
       "      <td>3000</td>\n",
       "    </tr>\n",
       "    <tr>\n",
       "      <th>2</th>\n",
       "      <td>3</td>\n",
       "      <td>A</td>\n",
       "      <td>30</td>\n",
       "      <td>100</td>\n",
       "      <td>2021-01-02</td>\n",
       "      <td>3000</td>\n",
       "    </tr>\n",
       "    <tr>\n",
       "      <th>3</th>\n",
       "      <td>4</td>\n",
       "      <td>C</td>\n",
       "      <td>40</td>\n",
       "      <td>200</td>\n",
       "      <td>2021-01-04</td>\n",
       "      <td>8000</td>\n",
       "    </tr>\n",
       "    <tr>\n",
       "      <th>4</th>\n",
       "      <td>5</td>\n",
       "      <td>B</td>\n",
       "      <td>50</td>\n",
       "      <td>150</td>\n",
       "      <td>2021-01-05</td>\n",
       "      <td>7500</td>\n",
       "    </tr>\n",
       "    <tr>\n",
       "      <th>5</th>\n",
       "      <td>6</td>\n",
       "      <td>A</td>\n",
       "      <td>50</td>\n",
       "      <td>110</td>\n",
       "      <td>2021-02-06</td>\n",
       "      <td>5500</td>\n",
       "    </tr>\n",
       "  </tbody>\n",
       "</table>\n",
       "</div>"
      ],
      "text/plain": [
       "   transaction_id product  quantity  price_per_unit        date  total_price\n",
       "0               1       A        10             100  2021-01-01         1000\n",
       "1               2       B        20             150  2021-01-02         3000\n",
       "2               3       A        30             100  2021-01-02         3000\n",
       "3               4       C        40             200  2021-01-04         8000\n",
       "4               5       B        50             150  2021-01-05         7500\n",
       "5               6       A        50             110  2021-02-06         5500"
      ]
     },
     "execution_count": 180,
     "metadata": {},
     "output_type": "execute_result"
    }
   ],
   "source": [
    "df[\"total_price\"] = df[\"quantity\"] * df[\"price_per_unit\"]\n",
    "df"
   ]
  },
  {
   "cell_type": "code",
   "execution_count": 181,
   "id": "1e3b9b20-b230-4114-8382-151cd0c2b0ac",
   "metadata": {},
   "outputs": [
    {
     "data": {
      "text/plain": [
       "product\n",
       "A     9500\n",
       "B    10500\n",
       "C     8000\n",
       "Name: total_price, dtype: int64"
      ]
     },
     "execution_count": 181,
     "metadata": {},
     "output_type": "execute_result"
    }
   ],
   "source": [
    "total_revenue_for_eachprod = df.groupby(\"product\")[\"total_price\"].sum()\n",
    "total_revenue_for_eachprod"
   ]
  },
  {
   "cell_type": "code",
   "execution_count": null,
   "id": "f771f52b-74ea-41ea-86de-df753b03b211",
   "metadata": {},
   "outputs": [],
   "source": []
  },
  {
   "cell_type": "markdown",
   "id": "babd9f72-50dd-4a17-8bc8-e22123f9669b",
   "metadata": {},
   "source": [
    "### **Task 3: Filter the dataframe to include only transactions with a total price greater than 2000.**"
   ]
  },
  {
   "cell_type": "code",
   "execution_count": 182,
   "id": "b38007ed-af32-4bee-958c-5a52a8f499ed",
   "metadata": {},
   "outputs": [
    {
     "data": {
      "text/html": [
       "<div>\n",
       "<style scoped>\n",
       "    .dataframe tbody tr th:only-of-type {\n",
       "        vertical-align: middle;\n",
       "    }\n",
       "\n",
       "    .dataframe tbody tr th {\n",
       "        vertical-align: top;\n",
       "    }\n",
       "\n",
       "    .dataframe thead th {\n",
       "        text-align: right;\n",
       "    }\n",
       "</style>\n",
       "<table border=\"1\" class=\"dataframe\">\n",
       "  <thead>\n",
       "    <tr style=\"text-align: right;\">\n",
       "      <th></th>\n",
       "      <th>transaction_id</th>\n",
       "      <th>product</th>\n",
       "      <th>quantity</th>\n",
       "      <th>price_per_unit</th>\n",
       "      <th>date</th>\n",
       "      <th>total_price</th>\n",
       "    </tr>\n",
       "  </thead>\n",
       "  <tbody>\n",
       "    <tr>\n",
       "      <th>1</th>\n",
       "      <td>2</td>\n",
       "      <td>B</td>\n",
       "      <td>20</td>\n",
       "      <td>150</td>\n",
       "      <td>2021-01-02</td>\n",
       "      <td>3000</td>\n",
       "    </tr>\n",
       "    <tr>\n",
       "      <th>2</th>\n",
       "      <td>3</td>\n",
       "      <td>A</td>\n",
       "      <td>30</td>\n",
       "      <td>100</td>\n",
       "      <td>2021-01-02</td>\n",
       "      <td>3000</td>\n",
       "    </tr>\n",
       "    <tr>\n",
       "      <th>3</th>\n",
       "      <td>4</td>\n",
       "      <td>C</td>\n",
       "      <td>40</td>\n",
       "      <td>200</td>\n",
       "      <td>2021-01-04</td>\n",
       "      <td>8000</td>\n",
       "    </tr>\n",
       "    <tr>\n",
       "      <th>4</th>\n",
       "      <td>5</td>\n",
       "      <td>B</td>\n",
       "      <td>50</td>\n",
       "      <td>150</td>\n",
       "      <td>2021-01-05</td>\n",
       "      <td>7500</td>\n",
       "    </tr>\n",
       "    <tr>\n",
       "      <th>5</th>\n",
       "      <td>6</td>\n",
       "      <td>A</td>\n",
       "      <td>50</td>\n",
       "      <td>110</td>\n",
       "      <td>2021-02-06</td>\n",
       "      <td>5500</td>\n",
       "    </tr>\n",
       "  </tbody>\n",
       "</table>\n",
       "</div>"
      ],
      "text/plain": [
       "   transaction_id product  quantity  price_per_unit        date  total_price\n",
       "1               2       B        20             150  2021-01-02         3000\n",
       "2               3       A        30             100  2021-01-02         3000\n",
       "3               4       C        40             200  2021-01-04         8000\n",
       "4               5       B        50             150  2021-01-05         7500\n",
       "5               6       A        50             110  2021-02-06         5500"
      ]
     },
     "execution_count": 182,
     "metadata": {},
     "output_type": "execute_result"
    }
   ],
   "source": [
    "filtered_df = df[df[\"total_price\"] > 2000]\n",
    "filtered_df"
   ]
  },
  {
   "cell_type": "markdown",
   "id": "578281fd-7148-4aa6-b91d-76b21759a457",
   "metadata": {},
   "source": [
    "### **Task 4: Group the data by product and calculate the total quantity sold for each product.**"
   ]
  },
  {
   "cell_type": "code",
   "execution_count": 183,
   "id": "5bba51e8-06ff-438c-af4c-4d6825f2bb02",
   "metadata": {},
   "outputs": [
    {
     "data": {
      "text/plain": [
       "product\n",
       "A    90\n",
       "B    70\n",
       "C    40\n",
       "Name: quantity, dtype: int64"
      ]
     },
     "execution_count": 183,
     "metadata": {},
     "output_type": "execute_result"
    }
   ],
   "source": [
    "tot_quantity_for_eachprod = df.groupby(\"product\")[\"quantity\"].sum()\n",
    "tot_quantity_for_eachprod"
   ]
  },
  {
   "cell_type": "markdown",
   "id": "b3191a94-bed5-494c-89ee-4efc6c501e65",
   "metadata": {},
   "source": [
    "### **Task 5: Convert the 'date' column to datetime format and set it as the index of the dataframe.**"
   ]
  },
  {
   "cell_type": "code",
   "execution_count": 184,
   "id": "c35353dd-d012-4370-a83f-611d07eaeede",
   "metadata": {},
   "outputs": [
    {
     "data": {
      "text/html": [
       "<div>\n",
       "<style scoped>\n",
       "    .dataframe tbody tr th:only-of-type {\n",
       "        vertical-align: middle;\n",
       "    }\n",
       "\n",
       "    .dataframe tbody tr th {\n",
       "        vertical-align: top;\n",
       "    }\n",
       "\n",
       "    .dataframe thead th {\n",
       "        text-align: right;\n",
       "    }\n",
       "</style>\n",
       "<table border=\"1\" class=\"dataframe\">\n",
       "  <thead>\n",
       "    <tr style=\"text-align: right;\">\n",
       "      <th></th>\n",
       "      <th>transaction_id</th>\n",
       "      <th>product</th>\n",
       "      <th>quantity</th>\n",
       "      <th>price_per_unit</th>\n",
       "      <th>total_price</th>\n",
       "    </tr>\n",
       "    <tr>\n",
       "      <th>date</th>\n",
       "      <th></th>\n",
       "      <th></th>\n",
       "      <th></th>\n",
       "      <th></th>\n",
       "      <th></th>\n",
       "    </tr>\n",
       "  </thead>\n",
       "  <tbody>\n",
       "    <tr>\n",
       "      <th>2021-01-01</th>\n",
       "      <td>1</td>\n",
       "      <td>A</td>\n",
       "      <td>10</td>\n",
       "      <td>100</td>\n",
       "      <td>1000</td>\n",
       "    </tr>\n",
       "    <tr>\n",
       "      <th>2021-01-02</th>\n",
       "      <td>2</td>\n",
       "      <td>B</td>\n",
       "      <td>20</td>\n",
       "      <td>150</td>\n",
       "      <td>3000</td>\n",
       "    </tr>\n",
       "    <tr>\n",
       "      <th>2021-01-02</th>\n",
       "      <td>3</td>\n",
       "      <td>A</td>\n",
       "      <td>30</td>\n",
       "      <td>100</td>\n",
       "      <td>3000</td>\n",
       "    </tr>\n",
       "    <tr>\n",
       "      <th>2021-01-04</th>\n",
       "      <td>4</td>\n",
       "      <td>C</td>\n",
       "      <td>40</td>\n",
       "      <td>200</td>\n",
       "      <td>8000</td>\n",
       "    </tr>\n",
       "    <tr>\n",
       "      <th>2021-01-05</th>\n",
       "      <td>5</td>\n",
       "      <td>B</td>\n",
       "      <td>50</td>\n",
       "      <td>150</td>\n",
       "      <td>7500</td>\n",
       "    </tr>\n",
       "    <tr>\n",
       "      <th>2021-02-06</th>\n",
       "      <td>6</td>\n",
       "      <td>A</td>\n",
       "      <td>50</td>\n",
       "      <td>110</td>\n",
       "      <td>5500</td>\n",
       "    </tr>\n",
       "  </tbody>\n",
       "</table>\n",
       "</div>"
      ],
      "text/plain": [
       "            transaction_id product  quantity  price_per_unit  total_price\n",
       "date                                                                     \n",
       "2021-01-01               1       A        10             100         1000\n",
       "2021-01-02               2       B        20             150         3000\n",
       "2021-01-02               3       A        30             100         3000\n",
       "2021-01-04               4       C        40             200         8000\n",
       "2021-01-05               5       B        50             150         7500\n",
       "2021-02-06               6       A        50             110         5500"
      ]
     },
     "execution_count": 184,
     "metadata": {},
     "output_type": "execute_result"
    }
   ],
   "source": [
    "df[\"date\"] = pd.to_datetime(df[\"date\"])\n",
    "df.set_index(\"date\", inplace = True)\n",
    "df"
   ]
  },
  {
   "cell_type": "markdown",
   "id": "4b2f5add-c3be-40ff-be07-f8ffc2b17a7a",
   "metadata": {},
   "source": [
    "### **Task 6: Calculate the average price per unit for each product**"
   ]
  },
  {
   "cell_type": "code",
   "execution_count": 185,
   "id": "0c507d3d-8941-4ea8-ad36-487d995b1b0d",
   "metadata": {},
   "outputs": [
    {
     "data": {
      "text/plain": [
       "product\n",
       "A    103.333\n",
       "B    150.000\n",
       "C    200.000\n",
       "Name: price_per_unit, dtype: float64"
      ]
     },
     "execution_count": 185,
     "metadata": {},
     "output_type": "execute_result"
    }
   ],
   "source": [
    "avg_price_perunit_of_eachprod = (df.groupby(\"product\")[\"price_per_unit\"].mean()).round(3)\n",
    "avg_price_perunit_of_eachprod"
   ]
  },
  {
   "cell_type": "markdown",
   "id": "f7db40f0-e9ba-4dec-8b88-8e17c6ff4b1d",
   "metadata": {},
   "source": [
    "### **Task 7: Determine the day with the highest total revenue**"
   ]
  },
  {
   "cell_type": "code",
   "execution_count": 186,
   "id": "4758d2d7-6619-437c-a516-c3521d7bbfaa",
   "metadata": {},
   "outputs": [
    {
     "name": "stdout",
     "output_type": "stream",
     "text": [
      "2021-01-04 00:00:00\n"
     ]
    }
   ],
   "source": [
    "highest_tot_rev_day = df[\"total_price\"].idxmax()\n",
    "print(highest_tot_rev_day)"
   ]
  },
  {
   "cell_type": "code",
   "execution_count": 187,
   "id": "76fde1d7-3168-45d2-bde7-d73eb1d17cf6",
   "metadata": {},
   "outputs": [
    {
     "name": "stdout",
     "output_type": "stream",
     "text": [
      "date\n",
      "2021-01-04    8000\n",
      "2021-01-05    7500\n",
      "Name: total_price, dtype: int64\n"
     ]
    }
   ],
   "source": [
    "# top 2 highest\n",
    "highest_tot_rev_day = df[\"total_price\"].nlargest(2)\n",
    "print(highest_tot_rev_day)"
   ]
  },
  {
   "cell_type": "markdown",
   "id": "850fab41-54d0-4973-ac6e-2f763bd62078",
   "metadata": {},
   "source": [
    "### **Task 8: Calculate the cumulative revenue over time**"
   ]
  },
  {
   "cell_type": "code",
   "execution_count": 188,
   "id": "533e86c1-a898-4ed4-abc3-b44680daa63e",
   "metadata": {},
   "outputs": [
    {
     "data": {
      "text/html": [
       "<div>\n",
       "<style scoped>\n",
       "    .dataframe tbody tr th:only-of-type {\n",
       "        vertical-align: middle;\n",
       "    }\n",
       "\n",
       "    .dataframe tbody tr th {\n",
       "        vertical-align: top;\n",
       "    }\n",
       "\n",
       "    .dataframe thead th {\n",
       "        text-align: right;\n",
       "    }\n",
       "</style>\n",
       "<table border=\"1\" class=\"dataframe\">\n",
       "  <thead>\n",
       "    <tr style=\"text-align: right;\">\n",
       "      <th></th>\n",
       "      <th>transaction_id</th>\n",
       "      <th>product</th>\n",
       "      <th>quantity</th>\n",
       "      <th>price_per_unit</th>\n",
       "      <th>total_price</th>\n",
       "      <th>cumulative_revenue</th>\n",
       "    </tr>\n",
       "    <tr>\n",
       "      <th>date</th>\n",
       "      <th></th>\n",
       "      <th></th>\n",
       "      <th></th>\n",
       "      <th></th>\n",
       "      <th></th>\n",
       "      <th></th>\n",
       "    </tr>\n",
       "  </thead>\n",
       "  <tbody>\n",
       "    <tr>\n",
       "      <th>2021-01-01</th>\n",
       "      <td>1</td>\n",
       "      <td>A</td>\n",
       "      <td>10</td>\n",
       "      <td>100</td>\n",
       "      <td>1000</td>\n",
       "      <td>1000</td>\n",
       "    </tr>\n",
       "    <tr>\n",
       "      <th>2021-01-02</th>\n",
       "      <td>2</td>\n",
       "      <td>B</td>\n",
       "      <td>20</td>\n",
       "      <td>150</td>\n",
       "      <td>3000</td>\n",
       "      <td>4000</td>\n",
       "    </tr>\n",
       "    <tr>\n",
       "      <th>2021-01-02</th>\n",
       "      <td>3</td>\n",
       "      <td>A</td>\n",
       "      <td>30</td>\n",
       "      <td>100</td>\n",
       "      <td>3000</td>\n",
       "      <td>7000</td>\n",
       "    </tr>\n",
       "    <tr>\n",
       "      <th>2021-01-04</th>\n",
       "      <td>4</td>\n",
       "      <td>C</td>\n",
       "      <td>40</td>\n",
       "      <td>200</td>\n",
       "      <td>8000</td>\n",
       "      <td>15000</td>\n",
       "    </tr>\n",
       "    <tr>\n",
       "      <th>2021-01-05</th>\n",
       "      <td>5</td>\n",
       "      <td>B</td>\n",
       "      <td>50</td>\n",
       "      <td>150</td>\n",
       "      <td>7500</td>\n",
       "      <td>22500</td>\n",
       "    </tr>\n",
       "    <tr>\n",
       "      <th>2021-02-06</th>\n",
       "      <td>6</td>\n",
       "      <td>A</td>\n",
       "      <td>50</td>\n",
       "      <td>110</td>\n",
       "      <td>5500</td>\n",
       "      <td>28000</td>\n",
       "    </tr>\n",
       "  </tbody>\n",
       "</table>\n",
       "</div>"
      ],
      "text/plain": [
       "            transaction_id product  quantity  price_per_unit  total_price  \\\n",
       "date                                                                        \n",
       "2021-01-01               1       A        10             100         1000   \n",
       "2021-01-02               2       B        20             150         3000   \n",
       "2021-01-02               3       A        30             100         3000   \n",
       "2021-01-04               4       C        40             200         8000   \n",
       "2021-01-05               5       B        50             150         7500   \n",
       "2021-02-06               6       A        50             110         5500   \n",
       "\n",
       "            cumulative_revenue  \n",
       "date                            \n",
       "2021-01-01                1000  \n",
       "2021-01-02                4000  \n",
       "2021-01-02                7000  \n",
       "2021-01-04               15000  \n",
       "2021-01-05               22500  \n",
       "2021-02-06               28000  "
      ]
     },
     "execution_count": 188,
     "metadata": {},
     "output_type": "execute_result"
    }
   ],
   "source": [
    "df[\"cumulative_revenue\"] = df[\"total_price\"].cumsum()\n",
    "df"
   ]
  },
  {
   "cell_type": "markdown",
   "id": "93965d27-897a-42c9-ad5f-f5a260c9acd6",
   "metadata": {},
   "source": [
    "### **Task 9: Add a new column 'discounted_price' which is 90% of the 'total_price'**"
   ]
  },
  {
   "cell_type": "code",
   "execution_count": 189,
   "id": "84bff906-0acb-498c-b464-746663137c65",
   "metadata": {},
   "outputs": [
    {
     "data": {
      "text/html": [
       "<div>\n",
       "<style scoped>\n",
       "    .dataframe tbody tr th:only-of-type {\n",
       "        vertical-align: middle;\n",
       "    }\n",
       "\n",
       "    .dataframe tbody tr th {\n",
       "        vertical-align: top;\n",
       "    }\n",
       "\n",
       "    .dataframe thead th {\n",
       "        text-align: right;\n",
       "    }\n",
       "</style>\n",
       "<table border=\"1\" class=\"dataframe\">\n",
       "  <thead>\n",
       "    <tr style=\"text-align: right;\">\n",
       "      <th></th>\n",
       "      <th>transaction_id</th>\n",
       "      <th>product</th>\n",
       "      <th>quantity</th>\n",
       "      <th>price_per_unit</th>\n",
       "      <th>total_price</th>\n",
       "      <th>cumulative_revenue</th>\n",
       "      <th>discounted_price</th>\n",
       "    </tr>\n",
       "    <tr>\n",
       "      <th>date</th>\n",
       "      <th></th>\n",
       "      <th></th>\n",
       "      <th></th>\n",
       "      <th></th>\n",
       "      <th></th>\n",
       "      <th></th>\n",
       "      <th></th>\n",
       "    </tr>\n",
       "  </thead>\n",
       "  <tbody>\n",
       "    <tr>\n",
       "      <th>2021-01-01</th>\n",
       "      <td>1</td>\n",
       "      <td>A</td>\n",
       "      <td>10</td>\n",
       "      <td>100</td>\n",
       "      <td>1000</td>\n",
       "      <td>1000</td>\n",
       "      <td>900.0</td>\n",
       "    </tr>\n",
       "    <tr>\n",
       "      <th>2021-01-02</th>\n",
       "      <td>2</td>\n",
       "      <td>B</td>\n",
       "      <td>20</td>\n",
       "      <td>150</td>\n",
       "      <td>3000</td>\n",
       "      <td>4000</td>\n",
       "      <td>2700.0</td>\n",
       "    </tr>\n",
       "    <tr>\n",
       "      <th>2021-01-02</th>\n",
       "      <td>3</td>\n",
       "      <td>A</td>\n",
       "      <td>30</td>\n",
       "      <td>100</td>\n",
       "      <td>3000</td>\n",
       "      <td>7000</td>\n",
       "      <td>2700.0</td>\n",
       "    </tr>\n",
       "    <tr>\n",
       "      <th>2021-01-04</th>\n",
       "      <td>4</td>\n",
       "      <td>C</td>\n",
       "      <td>40</td>\n",
       "      <td>200</td>\n",
       "      <td>8000</td>\n",
       "      <td>15000</td>\n",
       "      <td>7200.0</td>\n",
       "    </tr>\n",
       "    <tr>\n",
       "      <th>2021-01-05</th>\n",
       "      <td>5</td>\n",
       "      <td>B</td>\n",
       "      <td>50</td>\n",
       "      <td>150</td>\n",
       "      <td>7500</td>\n",
       "      <td>22500</td>\n",
       "      <td>6750.0</td>\n",
       "    </tr>\n",
       "    <tr>\n",
       "      <th>2021-02-06</th>\n",
       "      <td>6</td>\n",
       "      <td>A</td>\n",
       "      <td>50</td>\n",
       "      <td>110</td>\n",
       "      <td>5500</td>\n",
       "      <td>28000</td>\n",
       "      <td>4950.0</td>\n",
       "    </tr>\n",
       "  </tbody>\n",
       "</table>\n",
       "</div>"
      ],
      "text/plain": [
       "            transaction_id product  quantity  price_per_unit  total_price  \\\n",
       "date                                                                        \n",
       "2021-01-01               1       A        10             100         1000   \n",
       "2021-01-02               2       B        20             150         3000   \n",
       "2021-01-02               3       A        30             100         3000   \n",
       "2021-01-04               4       C        40             200         8000   \n",
       "2021-01-05               5       B        50             150         7500   \n",
       "2021-02-06               6       A        50             110         5500   \n",
       "\n",
       "            cumulative_revenue  discounted_price  \n",
       "date                                              \n",
       "2021-01-01                1000             900.0  \n",
       "2021-01-02                4000            2700.0  \n",
       "2021-01-02                7000            2700.0  \n",
       "2021-01-04               15000            7200.0  \n",
       "2021-01-05               22500            6750.0  \n",
       "2021-02-06               28000            4950.0  "
      ]
     },
     "execution_count": 189,
     "metadata": {},
     "output_type": "execute_result"
    }
   ],
   "source": [
    "df['discounted_price'] = df['total_price'] * 0.9\n",
    "df"
   ]
  },
  {
   "cell_type": "markdown",
   "id": "11026022-36b4-437e-9392-4201df258a33",
   "metadata": {},
   "source": [
    "### **Task 10: Filter the DataFrame to include only transactions where the quantity sold is above the average quantity sold**"
   ]
  },
  {
   "cell_type": "code",
   "execution_count": 190,
   "id": "9b9d4b36-39b1-4d0c-a66e-b5e50db875be",
   "metadata": {},
   "outputs": [
    {
     "name": "stdout",
     "output_type": "stream",
     "text": [
      "avg_qut:  33.333\n"
     ]
    },
    {
     "data": {
      "text/html": [
       "<div>\n",
       "<style scoped>\n",
       "    .dataframe tbody tr th:only-of-type {\n",
       "        vertical-align: middle;\n",
       "    }\n",
       "\n",
       "    .dataframe tbody tr th {\n",
       "        vertical-align: top;\n",
       "    }\n",
       "\n",
       "    .dataframe thead th {\n",
       "        text-align: right;\n",
       "    }\n",
       "</style>\n",
       "<table border=\"1\" class=\"dataframe\">\n",
       "  <thead>\n",
       "    <tr style=\"text-align: right;\">\n",
       "      <th></th>\n",
       "      <th>transaction_id</th>\n",
       "      <th>product</th>\n",
       "      <th>quantity</th>\n",
       "      <th>price_per_unit</th>\n",
       "      <th>total_price</th>\n",
       "      <th>cumulative_revenue</th>\n",
       "      <th>discounted_price</th>\n",
       "    </tr>\n",
       "    <tr>\n",
       "      <th>date</th>\n",
       "      <th></th>\n",
       "      <th></th>\n",
       "      <th></th>\n",
       "      <th></th>\n",
       "      <th></th>\n",
       "      <th></th>\n",
       "      <th></th>\n",
       "    </tr>\n",
       "  </thead>\n",
       "  <tbody>\n",
       "    <tr>\n",
       "      <th>2021-01-04</th>\n",
       "      <td>4</td>\n",
       "      <td>C</td>\n",
       "      <td>40</td>\n",
       "      <td>200</td>\n",
       "      <td>8000</td>\n",
       "      <td>15000</td>\n",
       "      <td>7200.0</td>\n",
       "    </tr>\n",
       "    <tr>\n",
       "      <th>2021-01-05</th>\n",
       "      <td>5</td>\n",
       "      <td>B</td>\n",
       "      <td>50</td>\n",
       "      <td>150</td>\n",
       "      <td>7500</td>\n",
       "      <td>22500</td>\n",
       "      <td>6750.0</td>\n",
       "    </tr>\n",
       "    <tr>\n",
       "      <th>2021-02-06</th>\n",
       "      <td>6</td>\n",
       "      <td>A</td>\n",
       "      <td>50</td>\n",
       "      <td>110</td>\n",
       "      <td>5500</td>\n",
       "      <td>28000</td>\n",
       "      <td>4950.0</td>\n",
       "    </tr>\n",
       "  </tbody>\n",
       "</table>\n",
       "</div>"
      ],
      "text/plain": [
       "            transaction_id product  quantity  price_per_unit  total_price  \\\n",
       "date                                                                        \n",
       "2021-01-04               4       C        40             200         8000   \n",
       "2021-01-05               5       B        50             150         7500   \n",
       "2021-02-06               6       A        50             110         5500   \n",
       "\n",
       "            cumulative_revenue  discounted_price  \n",
       "date                                              \n",
       "2021-01-04               15000            7200.0  \n",
       "2021-01-05               22500            6750.0  \n",
       "2021-02-06               28000            4950.0  "
      ]
     },
     "execution_count": 190,
     "metadata": {},
     "output_type": "execute_result"
    }
   ],
   "source": [
    "avg_qut = df[\"quantity\"].mean()\n",
    "print(\"avg_qut: \",avg_qut.round(3))\n",
    "filterd_trx_above_avg_quantity = df[df[\"quantity\"] > avg_qut]\n",
    "filterd_trx_above_avg_quantity"
   ]
  },
  {
   "cell_type": "markdown",
   "id": "01749808-a88a-4cac-b519-79e6c0c8fc51",
   "metadata": {},
   "source": [
    "### **Task 11: Add a new column 'month' extracted from the 'date' column**"
   ]
  },
  {
   "cell_type": "code",
   "execution_count": 191,
   "id": "6bd34804-becc-47e1-90cf-3bb5af396e87",
   "metadata": {},
   "outputs": [
    {
     "data": {
      "text/html": [
       "<div>\n",
       "<style scoped>\n",
       "    .dataframe tbody tr th:only-of-type {\n",
       "        vertical-align: middle;\n",
       "    }\n",
       "\n",
       "    .dataframe tbody tr th {\n",
       "        vertical-align: top;\n",
       "    }\n",
       "\n",
       "    .dataframe thead th {\n",
       "        text-align: right;\n",
       "    }\n",
       "</style>\n",
       "<table border=\"1\" class=\"dataframe\">\n",
       "  <thead>\n",
       "    <tr style=\"text-align: right;\">\n",
       "      <th></th>\n",
       "      <th>transaction_id</th>\n",
       "      <th>product</th>\n",
       "      <th>quantity</th>\n",
       "      <th>price_per_unit</th>\n",
       "      <th>total_price</th>\n",
       "      <th>cumulative_revenue</th>\n",
       "      <th>discounted_price</th>\n",
       "      <th>month</th>\n",
       "    </tr>\n",
       "    <tr>\n",
       "      <th>date</th>\n",
       "      <th></th>\n",
       "      <th></th>\n",
       "      <th></th>\n",
       "      <th></th>\n",
       "      <th></th>\n",
       "      <th></th>\n",
       "      <th></th>\n",
       "      <th></th>\n",
       "    </tr>\n",
       "  </thead>\n",
       "  <tbody>\n",
       "    <tr>\n",
       "      <th>2021-01-01</th>\n",
       "      <td>1</td>\n",
       "      <td>A</td>\n",
       "      <td>10</td>\n",
       "      <td>100</td>\n",
       "      <td>1000</td>\n",
       "      <td>1000</td>\n",
       "      <td>900.0</td>\n",
       "      <td>1</td>\n",
       "    </tr>\n",
       "    <tr>\n",
       "      <th>2021-01-02</th>\n",
       "      <td>2</td>\n",
       "      <td>B</td>\n",
       "      <td>20</td>\n",
       "      <td>150</td>\n",
       "      <td>3000</td>\n",
       "      <td>4000</td>\n",
       "      <td>2700.0</td>\n",
       "      <td>1</td>\n",
       "    </tr>\n",
       "    <tr>\n",
       "      <th>2021-01-02</th>\n",
       "      <td>3</td>\n",
       "      <td>A</td>\n",
       "      <td>30</td>\n",
       "      <td>100</td>\n",
       "      <td>3000</td>\n",
       "      <td>7000</td>\n",
       "      <td>2700.0</td>\n",
       "      <td>1</td>\n",
       "    </tr>\n",
       "    <tr>\n",
       "      <th>2021-01-04</th>\n",
       "      <td>4</td>\n",
       "      <td>C</td>\n",
       "      <td>40</td>\n",
       "      <td>200</td>\n",
       "      <td>8000</td>\n",
       "      <td>15000</td>\n",
       "      <td>7200.0</td>\n",
       "      <td>1</td>\n",
       "    </tr>\n",
       "    <tr>\n",
       "      <th>2021-01-05</th>\n",
       "      <td>5</td>\n",
       "      <td>B</td>\n",
       "      <td>50</td>\n",
       "      <td>150</td>\n",
       "      <td>7500</td>\n",
       "      <td>22500</td>\n",
       "      <td>6750.0</td>\n",
       "      <td>1</td>\n",
       "    </tr>\n",
       "    <tr>\n",
       "      <th>2021-02-06</th>\n",
       "      <td>6</td>\n",
       "      <td>A</td>\n",
       "      <td>50</td>\n",
       "      <td>110</td>\n",
       "      <td>5500</td>\n",
       "      <td>28000</td>\n",
       "      <td>4950.0</td>\n",
       "      <td>2</td>\n",
       "    </tr>\n",
       "  </tbody>\n",
       "</table>\n",
       "</div>"
      ],
      "text/plain": [
       "            transaction_id product  quantity  price_per_unit  total_price  \\\n",
       "date                                                                        \n",
       "2021-01-01               1       A        10             100         1000   \n",
       "2021-01-02               2       B        20             150         3000   \n",
       "2021-01-02               3       A        30             100         3000   \n",
       "2021-01-04               4       C        40             200         8000   \n",
       "2021-01-05               5       B        50             150         7500   \n",
       "2021-02-06               6       A        50             110         5500   \n",
       "\n",
       "            cumulative_revenue  discounted_price  month  \n",
       "date                                                     \n",
       "2021-01-01                1000             900.0      1  \n",
       "2021-01-02                4000            2700.0      1  \n",
       "2021-01-02                7000            2700.0      1  \n",
       "2021-01-04               15000            7200.0      1  \n",
       "2021-01-05               22500            6750.0      1  \n",
       "2021-02-06               28000            4950.0      2  "
      ]
     },
     "execution_count": 191,
     "metadata": {},
     "output_type": "execute_result"
    }
   ],
   "source": [
    "df['month'] = df.index.month\n",
    "df"
   ]
  },
  {
   "cell_type": "markdown",
   "id": "325d8a08-a3ae-489c-8e06-0aee1f98518b",
   "metadata": {},
   "source": [
    "### **Task 12: Calculate the total revenue for each month**"
   ]
  },
  {
   "cell_type": "code",
   "execution_count": 192,
   "id": "16ea833e-b58f-4f4d-ba4c-0a12d741d2e0",
   "metadata": {},
   "outputs": [
    {
     "data": {
      "text/plain": [
       "month\n",
       "1    22500\n",
       "2     5500\n",
       "Name: total_price, dtype: int64"
      ]
     },
     "execution_count": 192,
     "metadata": {},
     "output_type": "execute_result"
    }
   ],
   "source": [
    "total_rev = df.groupby('month')[\"total_price\"].sum()\n",
    "total_rev"
   ]
  },
  {
   "cell_type": "markdown",
   "id": "d26d328b-0208-47cc-b3e2-70b32aa39109",
   "metadata": {},
   "source": [
    "### **Task 13: Create a pivot table showing the total revenue for each product for each day**"
   ]
  },
  {
   "cell_type": "code",
   "execution_count": 193,
   "id": "75c03578-e0b7-476c-8857-73e77a6bd46d",
   "metadata": {},
   "outputs": [
    {
     "data": {
      "text/html": [
       "<div>\n",
       "<style scoped>\n",
       "    .dataframe tbody tr th:only-of-type {\n",
       "        vertical-align: middle;\n",
       "    }\n",
       "\n",
       "    .dataframe tbody tr th {\n",
       "        vertical-align: top;\n",
       "    }\n",
       "\n",
       "    .dataframe thead th {\n",
       "        text-align: right;\n",
       "    }\n",
       "</style>\n",
       "<table border=\"1\" class=\"dataframe\">\n",
       "  <thead>\n",
       "    <tr style=\"text-align: right;\">\n",
       "      <th>product</th>\n",
       "      <th>A</th>\n",
       "      <th>B</th>\n",
       "      <th>C</th>\n",
       "    </tr>\n",
       "    <tr>\n",
       "      <th>date</th>\n",
       "      <th></th>\n",
       "      <th></th>\n",
       "      <th></th>\n",
       "    </tr>\n",
       "  </thead>\n",
       "  <tbody>\n",
       "    <tr>\n",
       "      <th>2021-01-01</th>\n",
       "      <td>1000.0</td>\n",
       "      <td>NaN</td>\n",
       "      <td>NaN</td>\n",
       "    </tr>\n",
       "    <tr>\n",
       "      <th>2021-01-02</th>\n",
       "      <td>3000.0</td>\n",
       "      <td>3000.0</td>\n",
       "      <td>NaN</td>\n",
       "    </tr>\n",
       "    <tr>\n",
       "      <th>2021-01-04</th>\n",
       "      <td>NaN</td>\n",
       "      <td>NaN</td>\n",
       "      <td>8000.0</td>\n",
       "    </tr>\n",
       "    <tr>\n",
       "      <th>2021-01-05</th>\n",
       "      <td>NaN</td>\n",
       "      <td>7500.0</td>\n",
       "      <td>NaN</td>\n",
       "    </tr>\n",
       "    <tr>\n",
       "      <th>2021-02-06</th>\n",
       "      <td>5500.0</td>\n",
       "      <td>NaN</td>\n",
       "      <td>NaN</td>\n",
       "    </tr>\n",
       "  </tbody>\n",
       "</table>\n",
       "</div>"
      ],
      "text/plain": [
       "product          A       B       C\n",
       "date                              \n",
       "2021-01-01  1000.0     NaN     NaN\n",
       "2021-01-02  3000.0  3000.0     NaN\n",
       "2021-01-04     NaN     NaN  8000.0\n",
       "2021-01-05     NaN  7500.0     NaN\n",
       "2021-02-06  5500.0     NaN     NaN"
      ]
     },
     "execution_count": 193,
     "metadata": {},
     "output_type": "execute_result"
    }
   ],
   "source": [
    "pivot_table = df.pivot_table(values='total_price', index=df.index, columns='product', aggfunc='sum')\n",
    "pivot_table"
   ]
  },
  {
   "cell_type": "markdown",
   "id": "8e2ec5b8-3569-452a-991e-d969c19b18b9",
   "metadata": {},
   "source": [
    "### **Task 10: Resample the DataFrame to show weekly total revenue**"
   ]
  },
  {
   "cell_type": "code",
   "execution_count": 200,
   "id": "75666469-02d9-42ed-ae03-155d62d57d47",
   "metadata": {},
   "outputs": [
    {
     "data": {
      "text/plain": [
       "date\n",
       "2021-01-03     7000\n",
       "2021-01-10    15500\n",
       "2021-01-17        0\n",
       "2021-01-24        0\n",
       "2021-01-31        0\n",
       "2021-02-07     5500\n",
       "Freq: W-SUN, Name: total_price, dtype: int64"
      ]
     },
     "execution_count": 200,
     "metadata": {},
     "output_type": "execute_result"
    }
   ],
   "source": [
    "weekly_rev = df.resample('w')[\"total_price\"].sum()\n",
    "weekly_rev"
   ]
  },
  {
   "cell_type": "code",
   "execution_count": null,
   "id": "131e6428-b4a8-42f5-bb86-64f66dec2be7",
   "metadata": {},
   "outputs": [],
   "source": []
  }
 ],
 "metadata": {
  "kernelspec": {
   "display_name": "Python 3 (ipykernel)",
   "language": "python",
   "name": "python3"
  },
  "language_info": {
   "codemirror_mode": {
    "name": "ipython",
    "version": 3
   },
   "file_extension": ".py",
   "mimetype": "text/x-python",
   "name": "python",
   "nbconvert_exporter": "python",
   "pygments_lexer": "ipython3",
   "version": "3.11.7"
  }
 },
 "nbformat": 4,
 "nbformat_minor": 5
}
