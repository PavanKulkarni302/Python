{
 "cells": [
  {
   "cell_type": "code",
   "execution_count": 1,
   "id": "10d318b4-71d3-47c4-a29f-cb676f4c0971",
   "metadata": {},
   "outputs": [],
   "source": [
    "import pandas as pd\n",
    "import numpy as np"
   ]
  },
  {
   "cell_type": "code",
   "execution_count": 2,
   "id": "f4bcf107-9085-42b2-8e3d-b1bf75293f03",
   "metadata": {},
   "outputs": [
    {
     "data": {
      "text/html": [
       "<div>\n",
       "<style scoped>\n",
       "    .dataframe tbody tr th:only-of-type {\n",
       "        vertical-align: middle;\n",
       "    }\n",
       "\n",
       "    .dataframe tbody tr th {\n",
       "        vertical-align: top;\n",
       "    }\n",
       "\n",
       "    .dataframe thead th {\n",
       "        text-align: right;\n",
       "    }\n",
       "</style>\n",
       "<table border=\"1\" class=\"dataframe\">\n",
       "  <thead>\n",
       "    <tr style=\"text-align: right;\">\n",
       "      <th></th>\n",
       "      <th>id</th>\n",
       "      <th>Name</th>\n",
       "      <th>Team</th>\n",
       "      <th>Number</th>\n",
       "      <th>Position</th>\n",
       "      <th>Age</th>\n",
       "      <th>Height</th>\n",
       "      <th>Weight</th>\n",
       "      <th>College</th>\n",
       "      <th>Salary</th>\n",
       "    </tr>\n",
       "  </thead>\n",
       "  <tbody>\n",
       "    <tr>\n",
       "      <th>0</th>\n",
       "      <td>1</td>\n",
       "      <td>Avery Bradley</td>\n",
       "      <td>Boston Celtics</td>\n",
       "      <td>0</td>\n",
       "      <td>PG</td>\n",
       "      <td>25</td>\n",
       "      <td>06-Feb</td>\n",
       "      <td>180</td>\n",
       "      <td>Texas</td>\n",
       "      <td>7730337.0</td>\n",
       "    </tr>\n",
       "    <tr>\n",
       "      <th>1</th>\n",
       "      <td>2</td>\n",
       "      <td>Jae Crowder</td>\n",
       "      <td>Boston Celtics</td>\n",
       "      <td>99</td>\n",
       "      <td>SF</td>\n",
       "      <td>25</td>\n",
       "      <td>06-Jun</td>\n",
       "      <td>235</td>\n",
       "      <td>Marquette</td>\n",
       "      <td>6796117.0</td>\n",
       "    </tr>\n",
       "    <tr>\n",
       "      <th>2</th>\n",
       "      <td>3</td>\n",
       "      <td>John Holland</td>\n",
       "      <td>Boston Celtics</td>\n",
       "      <td>30</td>\n",
       "      <td>SG</td>\n",
       "      <td>27</td>\n",
       "      <td>06-May</td>\n",
       "      <td>205</td>\n",
       "      <td>Boston University</td>\n",
       "      <td>NaN</td>\n",
       "    </tr>\n",
       "    <tr>\n",
       "      <th>3</th>\n",
       "      <td>4</td>\n",
       "      <td>R.J. Hunter</td>\n",
       "      <td>Boston Celtics</td>\n",
       "      <td>28</td>\n",
       "      <td>SG</td>\n",
       "      <td>22</td>\n",
       "      <td>06-May</td>\n",
       "      <td>185</td>\n",
       "      <td>Georgia State</td>\n",
       "      <td>1148640.0</td>\n",
       "    </tr>\n",
       "    <tr>\n",
       "      <th>4</th>\n",
       "      <td>5</td>\n",
       "      <td>Jonas Jerebko</td>\n",
       "      <td>Boston Celtics</td>\n",
       "      <td>8</td>\n",
       "      <td>PF</td>\n",
       "      <td>29</td>\n",
       "      <td>06-Oct</td>\n",
       "      <td>231</td>\n",
       "      <td>NaN</td>\n",
       "      <td>5000000.0</td>\n",
       "    </tr>\n",
       "  </tbody>\n",
       "</table>\n",
       "</div>"
      ],
      "text/plain": [
       "   id           Name            Team  Number Position  Age  Height  Weight  \\\n",
       "0   1  Avery Bradley  Boston Celtics       0       PG   25  06-Feb     180   \n",
       "1   2    Jae Crowder  Boston Celtics      99       SF   25  06-Jun     235   \n",
       "2   3   John Holland  Boston Celtics      30       SG   27  06-May     205   \n",
       "3   4    R.J. Hunter  Boston Celtics      28       SG   22  06-May     185   \n",
       "4   5  Jonas Jerebko  Boston Celtics       8       PF   29  06-Oct     231   \n",
       "\n",
       "             College     Salary  \n",
       "0              Texas  7730337.0  \n",
       "1          Marquette  6796117.0  \n",
       "2  Boston University        NaN  \n",
       "3      Georgia State  1148640.0  \n",
       "4                NaN  5000000.0  "
      ]
     },
     "execution_count": 2,
     "metadata": {},
     "output_type": "execute_result"
    }
   ],
   "source": [
    "df = pd.read_csv(\"E:/datasets/nba.csv\")\n",
    "df.head()"
   ]
  },
  {
   "cell_type": "markdown",
   "id": "2c30dc34-9a49-4ed0-98c5-52d94b0e9be4",
   "metadata": {},
   "source": [
    "**____________________________________________________________________________________________________________________________________________________**\n",
    "\n",
    "**Pandas.apply()**\n",
    "\n",
    "**1)Pandas.apply allow the users to pass a function and apply it on every single value of the Pandas series.**\n",
    "\n",
    "**2)It comes as a huge improvement for the pandas library as this function helps to segregate data according to the conditions required due to which it is efficiently used in data science and machine learning.**\n",
    "\n",
    "**____________________________________________________________________________________________________________________________________________________**\n"
   ]
  },
  {
   "cell_type": "code",
   "execution_count": 5,
   "id": "22108b15-110e-4769-a62b-867b9a3e1727",
   "metadata": {},
   "outputs": [
    {
     "name": "stdout",
     "output_type": "stream",
     "text": [
      "0       Low\n",
      "1    Normal\n",
      "2    Normal\n",
      "Name: Weight, dtype: object\n",
      "Normal Normal Low\n",
      "454       Low\n",
      "455    Normal\n",
      "456    Normal\n",
      "Name: Weight, dtype: object\n"
     ]
    }
   ],
   "source": [
    "# defining function to check price\n",
    "def fun(num):\n",
    " \n",
    "    if num<200:\n",
    "        return \"Low\"\n",
    " \n",
    "    elif num>= 200 and num<400:\n",
    "        return \"Normal\"\n",
    " \n",
    "    else:\n",
    "        return \"High\"\n",
    " \n",
    "# passing function to apply and storing returned series in new\n",
    "new = df[\"Weight\"].apply(fun)\n",
    " \n",
    "# printing first 3 element\n",
    "print(new.head(3))\n",
    " \n",
    "# printing elements somewhere near the middle of series\n",
    "print(new[14], new[15], new[16])\n",
    " \n",
    "# printing last 3 elements\n",
    "print(new.tail(3))"
   ]
  },
  {
   "cell_type": "code",
   "execution_count": 4,
   "id": "3c1d09d2-a9b8-4559-94e7-070c90d0227f",
   "metadata": {},
   "outputs": [
    {
     "data": {
      "text/plain": [
       "0        5\n",
       "1      104\n",
       "2       35\n",
       "3       33\n",
       "4       13\n",
       "      ... \n",
       "452     46\n",
       "453     13\n",
       "454     30\n",
       "455     26\n",
       "456     29\n",
       "Name: Number, Length: 457, dtype: int64"
      ]
     },
     "execution_count": 4,
     "metadata": {},
     "output_type": "execute_result"
    }
   ],
   "source": [
    "new = df[\"Number\"].apply(lambda num: num+5)\n",
    "new"
   ]
  },
  {
   "cell_type": "code",
   "execution_count": 7,
   "id": "61679f75-e781-4341-ab9e-d43fbde39eb5",
   "metadata": {},
   "outputs": [
    {
     "name": "stdout",
     "output_type": "stream",
     "text": [
      "Original DataFrame:\n",
      "    Age  Weight  Salary\n",
      "0    1       4       7\n",
      "1    2       5       8\n",
      "2    3       6       9\n",
      "\n",
      "DataFrame after adding values:\n",
      "    Age  Weight  Salary  add_values  add_values2\n",
      "0    1       4       7          12           24\n",
      "1    2       5       8          15           30\n",
      "2    3       6       9          18           36\n"
     ]
    }
   ],
   "source": [
    "data = {\n",
    "        'Age': [1, 2, 3],\n",
    "        'Weight': [4, 5, 6],\n",
    "        'Salary': [7, 8, 9]}\n",
    " \n",
    "# Convert the dictionary into DataFrame\n",
    "df = pd.DataFrame(data)\n",
    "print(\"Original DataFrame:\\n\", df)\n",
    "\n",
    "def add_values(df):\n",
    "    return df[\"Age\"] + df[\"Weight\"] + df[\"Salary\"] \n",
    "\n",
    "df[\"add_values\"] = df.apply(add_values, axis=1)\n",
    "df[\"add_values2\"] = df.apply(np.sum, axis=1)\n",
    "print(\"\\nDataFrame after adding values:\\n\", df)\n"
   ]
  },
  {
   "cell_type": "markdown",
   "id": "d0ac91e0-389d-4725-8b0b-a0885dbfd236",
   "metadata": {},
   "source": [
    "**Normalizing DataFrame Column Values Using Custom Function in Pandas**"
   ]
  },
  {
   "cell_type": "code",
   "execution_count": 26,
   "id": "0fa579d5-0d2e-49f3-ae89-9a5abf15f055",
   "metadata": {},
   "outputs": [
    {
     "name": "stdout",
     "output_type": "stream",
     "text": [
      "Original DataFrame:\n",
      "    X   Y\n",
      "0  1  45\n",
      "1  2  65\n",
      "2  3  89\n",
      "(x - np.mean([x, y]): -22.0\n",
      "max(x, y) - min(x, y): 44\n",
      "(x - np.mean([x, y]): -31.5\n",
      "max(x, y) - min(x, y): 63\n",
      "(x - np.mean([x, y]): -43.0\n",
      "max(x, y) - min(x, y): 86\n",
      "|Normalized dataset:\n",
      "      X   Y\n",
      "0 -0.5  45\n",
      "1 -0.5  65\n",
      "2 -0.5  89\n"
     ]
    }
   ],
   "source": [
    "import pandas as pd\n",
    "\n",
    "def normalize(x,y):\n",
    "    print(\"(x - np.mean([x, y]):\",(x - np.mean([x, y])))\n",
    "    print(\"max(x, y) - min(x, y):\", (max(x, y) - min(x, y)))\n",
    "    X_new = ((x - np.mean([x, y])) /(max(x, y) - min(x, y)))\n",
    "\n",
    "    return X_new\n",
    "\n",
    "def main():\n",
    "    # create a dictionary with three fields each\n",
    "    data = {\n",
    "        'X': [1, 2, 3],\n",
    "        'Y': [45, 65, 89]}\n",
    " \n",
    "    # Convert the dictionary into DataFrame\n",
    "    df = pd.DataFrame(data)\n",
    "    print(\"Original DataFrame:\\n\", df)\n",
    "    df[\"X\"] = df.apply(lambda row: normalize(row[\"X\"], row[\"Y\"]),axis =1)\n",
    "    print(\"|Normalized dataset:\\n\",df)\n",
    "    \n",
    "\n",
    "if __name__ == \"__main__\":\n",
    "    main()\n"
   ]
  },
  {
   "cell_type": "markdown",
   "id": "84fdf824-3e92-43eb-8365-f7ddeccf5ab0",
   "metadata": {},
   "source": [
    "**Applying Range Generation Function to DataFrame Rows in Pandas**"
   ]
  },
  {
   "cell_type": "code",
   "execution_count": 31,
   "id": "2ffdcaa1-4283-4d32-8681-b19256ada682",
   "metadata": {},
   "outputs": [
    {
     "name": "stdout",
     "output_type": "stream",
     "text": [
      "Before applying function: \n",
      "   A   B   C\n",
      "0  0   4  47\n",
      "1  2  15   8\n",
      "2  3   6  19\n",
      "After Applying Function: \n",
      "      A      B      C\n",
      "0  0-10   0-10  40-50\n",
      "1  0-10  10-20   0-10\n",
      "2  0-10   0-10  10-20\n"
     ]
    },
    {
     "name": "stderr",
     "output_type": "stream",
     "text": [
      "C:\\Users\\pavan\\AppData\\Local\\Temp\\ipykernel_17016\\3905892825.py:24: FutureWarning: Setting an item of incompatible dtype is deprecated and will raise in a future error of pandas. Value '0-10' has dtype incompatible with int64, please explicitly cast to a compatible dtype first.\n",
      "  row[i] = generate_range(item)\n",
      "C:\\Users\\pavan\\AppData\\Local\\Temp\\ipykernel_17016\\3905892825.py:24: FutureWarning: Setting an item of incompatible dtype is deprecated and will raise in a future error of pandas. Value '0-10' has dtype incompatible with int64, please explicitly cast to a compatible dtype first.\n",
      "  row[i] = generate_range(item)\n",
      "C:\\Users\\pavan\\AppData\\Local\\Temp\\ipykernel_17016\\3905892825.py:24: FutureWarning: Setting an item of incompatible dtype is deprecated and will raise in a future error of pandas. Value '40-50' has dtype incompatible with int64, please explicitly cast to a compatible dtype first.\n",
      "  row[i] = generate_range(item)\n"
     ]
    }
   ],
   "source": [
    "import pandas as pd\n",
    "import numpy as np\n",
    "\n",
    "pd.options.mode.chained_assignment = None\n",
    "\n",
    "# Function to generate range\n",
    "\n",
    "def generate_range(n):\n",
    "\n",
    "\t# printing the range for eg:\n",
    "\t# input is 67 output is 60-70\n",
    "\tn = int(n)\n",
    "\n",
    "\tlower_limit = n//10 * 10\n",
    "\tupper_limit = lower_limit + 10\n",
    "\n",
    "\treturn str(str(lower_limit) + '-' + str(upper_limit))\n",
    "\n",
    "\n",
    "def replace(row):\n",
    "\tfor i, item in enumerate(row):\n",
    "\n",
    "\t\t# updating the value of the row\n",
    "\t\trow[i] = generate_range(item)\n",
    "\treturn row\n",
    "\n",
    "def main():\n",
    "\t# create a dictionary with\n",
    "\t# three fields each\n",
    "\tdata = {\n",
    "\t\t'A': [0, 2, 3],\n",
    "\t\t'B': [4, 15, 6],\n",
    "\t\t'C': [47, 8, 19]}\n",
    "\n",
    "\t# Convert the dictionary into DataFrame\n",
    "\tdf = pd.DataFrame(data)\n",
    "\n",
    "\tprint('Before applying function: ')\n",
    "\tprint(df)\n",
    "\n",
    "\t# applying function to each row in\n",
    "\t# dataframe and storing result in a new column\n",
    "\tdf = df.apply(lambda row: replace(row))\n",
    "\n",
    "\tprint('After Applying Function: ')\n",
    "\t# printing the new dataframe\n",
    "\tprint(df)\n",
    "\n",
    "\n",
    "if __name__ == '__main__':\n",
    "\tmain()\n"
   ]
  },
  {
   "cell_type": "markdown",
   "id": "7336b0d9-0742-4a72-812d-cda0647bd2c1",
   "metadata": {},
   "source": [
    "**Pandas Series.apply()**"
   ]
  },
  {
   "cell_type": "code",
   "execution_count": 38,
   "id": "bb14d914-c780-42a9-bc29-4e9e6e490d6c",
   "metadata": {},
   "outputs": [
    {
     "data": {
      "text/plain": [
       "2010-12-31 08:45:00    False\n",
       "2011-12-31 08:45:00    False\n",
       "2012-12-31 08:45:00    False\n",
       "2013-12-31 08:45:00    False\n",
       "2014-12-31 08:45:00     True\n",
       "2015-12-31 08:45:00    False\n",
       "2016-12-31 08:45:00     True\n",
       "2017-12-31 08:45:00    False\n",
       "2018-12-31 08:45:00    False\n",
       "2019-12-31 08:45:00     True\n",
       "2020-12-31 08:45:00    False\n",
       "Freq: A-DEC, dtype: bool"
      ]
     },
     "execution_count": 38,
     "metadata": {},
     "output_type": "execute_result"
    }
   ],
   "source": [
    "# importing pandas as pd \n",
    "import pandas as pd \n",
    "  \n",
    "# Creating the Series \n",
    "sr = pd.Series([11, 21, 8, 18, 65, 18, 32, 10, 5, 32, None]) \n",
    "# Create the Index \n",
    "# apply yearly frequency \n",
    "index_ = pd.date_range('2010-10-09 08:45', periods = 11, freq ='Y')\n",
    "sr.index=index_\n",
    "result = sr.apply(lambda x: True if x>30 else False)\n",
    "result"
   ]
  },
  {
   "cell_type": "markdown",
   "id": "69b6d30d-aa31-435c-a2c6-ebc55da2e9da",
   "metadata": {},
   "source": [
    "**Pandas aggregate function**"
   ]
  },
  {
   "cell_type": "code",
   "execution_count": 39,
   "id": "3ae98c15-3377-45ed-a4bc-a0e9566a3ddf",
   "metadata": {},
   "outputs": [
    {
     "data": {
      "text/html": [
       "<div>\n",
       "<style scoped>\n",
       "    .dataframe tbody tr th:only-of-type {\n",
       "        vertical-align: middle;\n",
       "    }\n",
       "\n",
       "    .dataframe tbody tr th {\n",
       "        vertical-align: top;\n",
       "    }\n",
       "\n",
       "    .dataframe thead th {\n",
       "        text-align: right;\n",
       "    }\n",
       "</style>\n",
       "<table border=\"1\" class=\"dataframe\">\n",
       "  <thead>\n",
       "    <tr style=\"text-align: right;\">\n",
       "      <th></th>\n",
       "      <th>id</th>\n",
       "      <th>Name</th>\n",
       "      <th>Team</th>\n",
       "      <th>Number</th>\n",
       "      <th>Position</th>\n",
       "      <th>Age</th>\n",
       "      <th>Height</th>\n",
       "      <th>Weight</th>\n",
       "      <th>College</th>\n",
       "      <th>Salary</th>\n",
       "    </tr>\n",
       "  </thead>\n",
       "  <tbody>\n",
       "    <tr>\n",
       "      <th>0</th>\n",
       "      <td>1</td>\n",
       "      <td>Avery Bradley</td>\n",
       "      <td>Boston Celtics</td>\n",
       "      <td>0</td>\n",
       "      <td>PG</td>\n",
       "      <td>25</td>\n",
       "      <td>06-Feb</td>\n",
       "      <td>180</td>\n",
       "      <td>Texas</td>\n",
       "      <td>7730337.0</td>\n",
       "    </tr>\n",
       "    <tr>\n",
       "      <th>1</th>\n",
       "      <td>2</td>\n",
       "      <td>Jae Crowder</td>\n",
       "      <td>Boston Celtics</td>\n",
       "      <td>99</td>\n",
       "      <td>SF</td>\n",
       "      <td>25</td>\n",
       "      <td>06-Jun</td>\n",
       "      <td>235</td>\n",
       "      <td>Marquette</td>\n",
       "      <td>6796117.0</td>\n",
       "    </tr>\n",
       "    <tr>\n",
       "      <th>2</th>\n",
       "      <td>3</td>\n",
       "      <td>John Holland</td>\n",
       "      <td>Boston Celtics</td>\n",
       "      <td>30</td>\n",
       "      <td>SG</td>\n",
       "      <td>27</td>\n",
       "      <td>06-May</td>\n",
       "      <td>205</td>\n",
       "      <td>Boston University</td>\n",
       "      <td>NaN</td>\n",
       "    </tr>\n",
       "    <tr>\n",
       "      <th>3</th>\n",
       "      <td>4</td>\n",
       "      <td>R.J. Hunter</td>\n",
       "      <td>Boston Celtics</td>\n",
       "      <td>28</td>\n",
       "      <td>SG</td>\n",
       "      <td>22</td>\n",
       "      <td>06-May</td>\n",
       "      <td>185</td>\n",
       "      <td>Georgia State</td>\n",
       "      <td>1148640.0</td>\n",
       "    </tr>\n",
       "    <tr>\n",
       "      <th>4</th>\n",
       "      <td>5</td>\n",
       "      <td>Jonas Jerebko</td>\n",
       "      <td>Boston Celtics</td>\n",
       "      <td>8</td>\n",
       "      <td>PF</td>\n",
       "      <td>29</td>\n",
       "      <td>06-Oct</td>\n",
       "      <td>231</td>\n",
       "      <td>NaN</td>\n",
       "      <td>5000000.0</td>\n",
       "    </tr>\n",
       "  </tbody>\n",
       "</table>\n",
       "</div>"
      ],
      "text/plain": [
       "   id           Name            Team  Number Position  Age  Height  Weight  \\\n",
       "0   1  Avery Bradley  Boston Celtics       0       PG   25  06-Feb     180   \n",
       "1   2    Jae Crowder  Boston Celtics      99       SF   25  06-Jun     235   \n",
       "2   3   John Holland  Boston Celtics      30       SG   27  06-May     205   \n",
       "3   4    R.J. Hunter  Boston Celtics      28       SG   22  06-May     185   \n",
       "4   5  Jonas Jerebko  Boston Celtics       8       PF   29  06-Oct     231   \n",
       "\n",
       "             College     Salary  \n",
       "0              Texas  7730337.0  \n",
       "1          Marquette  6796117.0  \n",
       "2  Boston University        NaN  \n",
       "3      Georgia State  1148640.0  \n",
       "4                NaN  5000000.0  "
      ]
     },
     "execution_count": 39,
     "metadata": {},
     "output_type": "execute_result"
    }
   ],
   "source": [
    "df = pd.read_csv(\"E:/datasets/nba.csv\")\n",
    "df.head()"
   ]
  },
  {
   "cell_type": "code",
   "execution_count": 48,
   "id": "69d1e020-0824-42e5-9313-b42c13a56d23",
   "metadata": {},
   "outputs": [
    {
     "data": {
      "text/html": [
       "<div>\n",
       "<style scoped>\n",
       "    .dataframe tbody tr th:only-of-type {\n",
       "        vertical-align: middle;\n",
       "    }\n",
       "\n",
       "    .dataframe tbody tr th {\n",
       "        vertical-align: top;\n",
       "    }\n",
       "\n",
       "    .dataframe thead th {\n",
       "        text-align: right;\n",
       "    }\n",
       "</style>\n",
       "<table border=\"1\" class=\"dataframe\">\n",
       "  <thead>\n",
       "    <tr style=\"text-align: right;\">\n",
       "      <th></th>\n",
       "      <th>Number</th>\n",
       "    </tr>\n",
       "  </thead>\n",
       "  <tbody>\n",
       "    <tr>\n",
       "      <th>sum</th>\n",
       "      <td>8079</td>\n",
       "    </tr>\n",
       "    <tr>\n",
       "      <th>min</th>\n",
       "      <td>0</td>\n",
       "    </tr>\n",
       "    <tr>\n",
       "      <th>max</th>\n",
       "      <td>99</td>\n",
       "    </tr>\n",
       "  </tbody>\n",
       "</table>\n",
       "</div>"
      ],
      "text/plain": [
       "     Number\n",
       "sum    8079\n",
       "min       0\n",
       "max      99"
      ]
     },
     "execution_count": 48,
     "metadata": {},
     "output_type": "execute_result"
    }
   ],
   "source": [
    "df.aggregate({\"Number\":[\"sum\",\"min\",\"max\"]})"
   ]
  },
  {
   "cell_type": "code",
   "execution_count": null,
   "id": "fe074029-b39e-4635-966c-d78460173e42",
   "metadata": {},
   "outputs": [],
   "source": []
  },
  {
   "attachments": {
    "75b4cbda-2b15-400b-805e-b472c3cbf08a.png": {
     "image/png": "[encoded data removed]"
    }
   },
   "cell_type": "markdown",
   "id": "e2460876-6935-4478-b5da-d75dd8b9cc2c",
   "metadata": {},
   "source": [
    "**Pandas Series.mad() to calculate Mean Absolute Deviation of a Series**\n",
    "\n",
    "**![image.png](attachment:75b4cbda-2b15-400b-805e-b472c3cbf08a.png)**\n",
    "\n",
    "Calculating Mean of series mean = (5+12+1+0+4+22+15+3+9) / 9 = 7.8888\n",
    "\r\n",
    "\r\n",
    "MAD = | (5-7.88)+(12-7.88)+(1-7.88)+(0-7.88)+(4-7.88)+(22-7.88)+(15-7.88)+(3-7.88)+(9-7.88)) | / 9.\n",
    "00\r\n",
    "\r\n",
    "MAD = (2.88 + 4.12 + 6.88 + 7.88 + 3.88 + 14.12 + 7.12 + 4.88 + 1.12) / \n",
    "9.00\r\n",
    "\r\n",
    "MAD = 5.8755 (More accurately = 5.876543209876543)"
   ]
  },
  {
   "cell_type": "markdown",
   "id": "58724462-dc6c-408e-b94b-04cd8361f5d7",
   "metadata": {},
   "source": [
    "**Pandas Series.value_counts()**"
   ]
  },
  {
   "cell_type": "code",
   "execution_count": 51,
   "id": "afc41eea-d95f-49e8-b860-1dc6c6f6d9b0",
   "metadata": {},
   "outputs": [
    {
     "data": {
      "text/plain": [
       "Chicago     2\n",
       "Lisbon      2\n",
       "New York    1\n",
       "Toronto     1\n",
       "Rio         1\n",
       "Name: count, dtype: int64"
      ]
     },
     "execution_count": 51,
     "metadata": {},
     "output_type": "execute_result"
    }
   ],
   "source": [
    "## importing pandas as pd \n",
    "import pandas as pd \n",
    "  \n",
    "# Creating the Series \n",
    "sr = pd.Series(['New York', 'Chicago', 'Toronto', 'Lisbon', 'Rio', 'Chicago', 'Lisbon']) \n",
    "\n",
    "sr.value_counts()"
   ]
  },
  {
   "cell_type": "markdown",
   "id": "d395da19-e246-4c01-8632-cbfd36c0ee77",
   "metadata": {},
   "source": [
    "**Applying Lambda functions to Pandas Dataframe**"
   ]
  },
  {
   "cell_type": "code",
   "execution_count": null,
   "id": "60b27049-35ac-4527-af61-be2cb3da58bc",
   "metadata": {},
   "outputs": [],
   "source": []
  },
  {
   "cell_type": "code",
   "execution_count": null,
   "id": "13c51ac6-db87-4be5-9221-e2bc6ebf58e2",
   "metadata": {},
   "outputs": [],
   "source": []
  },
  {
   "cell_type": "code",
   "execution_count": null,
   "id": "d1b0bcd6-cd64-4037-9fe1-a49fdb9e2510",
   "metadata": {},
   "outputs": [],
   "source": []
  },
  {
   "cell_type": "code",
   "execution_count": 6,
   "id": "a72bf257-49c9-4efa-a0c9-1bdb4adad1d2",
   "metadata": {},
   "outputs": [
    {
     "name": "stdout",
     "output_type": "stream",
     "text": [
      "Combined dictionary: {'name': 'Alice', 'age': 25, 'city': 'New York'}\n"
     ]
    }
   ],
   "source": [
    "keys = ['name', 'age', 'city']\n",
    "values = ['Alice', 25, 'New York']\n",
    "\n",
    "combined_dict = dict(zip(keys, values))\n",
    "\n",
    "print(\"Combined dictionary:\", combined_dict)\n",
    "# Output: Combined dictionary: {'name': 'Alice', 'age': 25, 'city': 'New York'}\n"
   ]
  },
  {
   "cell_type": "code",
   "execution_count": 7,
   "id": "6869a69c-e455-45d8-86a5-0d818c8c87cb",
   "metadata": {},
   "outputs": [
    {
     "name": "stdout",
     "output_type": "stream",
     "text": [
      "Sorted scores: {'Alice': 95, 'Bob': 90, 'David': 88, 'Charlie': 78}\n"
     ]
    }
   ],
   "source": [
    "scores = {\"Alice\": 95, \"Bob\": 90, \"Charlie\": 78, \"David\": 88}\n",
    "sorted_scores = dict(sorted(scores.items(), key=lambda x: x[1], reverse=True))\n",
    "\n",
    "print(\"Sorted scores:\", sorted_scores)\n",
    "# Output: Sorted scores: {'Alice': 95, 'Bob': 90, 'David': 88, 'Charlie': 78}\n"
   ]
  },
  {
   "cell_type": "code",
   "execution_count": 14,
   "id": "58096dba-ba5a-4aa7-9172-85fbd632004d",
   "metadata": {},
   "outputs": [
    {
     "data": {
      "text/plain": [
       "{'Alice': 95, 'Bob': 90, 'David': 88, 'Charlie': 78}"
      ]
     },
     "execution_count": 14,
     "metadata": {},
     "output_type": "execute_result"
    }
   ],
   "source": [
    "dict(sorted(scores.items(),key = lambda x: x[1], reverse=True))"
   ]
  },
  {
   "cell_type": "code",
   "execution_count": null,
   "id": "87fdc332-0f77-4b90-83a5-47d80e83a1a5",
   "metadata": {},
   "outputs": [],
   "source": []
  }
 ],
 "metadata": {
  "kernelspec": {
   "display_name": "Python 3 (ipykernel)",
   "language": "python",
   "name": "python3"
  },
  "language_info": {
   "codemirror_mode": {
    "name": "ipython",
    "version": 3
   },
   "file_extension": ".py",
   "mimetype": "text/x-python",
   "name": "python",
   "nbconvert_exporter": "python",
   "pygments_lexer": "ipython3",
   "version": "3.11.7"
  }
 },
 "nbformat": 4,
 "nbformat_minor": 5
}
