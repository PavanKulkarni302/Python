{
 "cells": [
  {
   "cell_type": "code",
   "execution_count": 1,
   "id": "432d1108-e15d-460e-b16a-ec453ba53e80",
   "metadata": {},
   "outputs": [
    {
     "data": {
      "text/html": [
       "<div>\n",
       "<style scoped>\n",
       "    .dataframe tbody tr th:only-of-type {\n",
       "        vertical-align: middle;\n",
       "    }\n",
       "\n",
       "    .dataframe tbody tr th {\n",
       "        vertical-align: top;\n",
       "    }\n",
       "\n",
       "    .dataframe thead th {\n",
       "        text-align: right;\n",
       "    }\n",
       "</style>\n",
       "<table border=\"1\" class=\"dataframe\">\n",
       "  <thead>\n",
       "    <tr style=\"text-align: right;\">\n",
       "      <th></th>\n",
       "      <th>transaction_id</th>\n",
       "      <th>customer_id</th>\n",
       "      <th>customer_name</th>\n",
       "      <th>transaction_amount</th>\n",
       "      <th>transaction_date</th>\n",
       "      <th>transaction_type</th>\n",
       "      <th>account_type</th>\n",
       "      <th>suspicious_flag</th>\n",
       "    </tr>\n",
       "  </thead>\n",
       "  <tbody>\n",
       "    <tr>\n",
       "      <th>0</th>\n",
       "      <td>10001</td>\n",
       "      <td>2001</td>\n",
       "      <td>John Smith</td>\n",
       "      <td>5000</td>\n",
       "      <td>2024-01-15</td>\n",
       "      <td>Deposit</td>\n",
       "      <td>Savings</td>\n",
       "      <td>0</td>\n",
       "    </tr>\n",
       "    <tr>\n",
       "      <th>1</th>\n",
       "      <td>10002</td>\n",
       "      <td>2002</td>\n",
       "      <td>Alice Brown</td>\n",
       "      <td>150000</td>\n",
       "      <td>2024-01-16</td>\n",
       "      <td>Withdrawal</td>\n",
       "      <td>Checking</td>\n",
       "      <td>1</td>\n",
       "    </tr>\n",
       "    <tr>\n",
       "      <th>2</th>\n",
       "      <td>10003</td>\n",
       "      <td>2003</td>\n",
       "      <td>Bob Johnson</td>\n",
       "      <td>300</td>\n",
       "      <td>2024-02-16</td>\n",
       "      <td>Deposit</td>\n",
       "      <td>Savings</td>\n",
       "      <td>0</td>\n",
       "    </tr>\n",
       "    <tr>\n",
       "      <th>3</th>\n",
       "      <td>10004</td>\n",
       "      <td>2002</td>\n",
       "      <td>Alice Brown</td>\n",
       "      <td>75000</td>\n",
       "      <td>2024-01-17</td>\n",
       "      <td>Withdrawal</td>\n",
       "      <td>Checking</td>\n",
       "      <td>1</td>\n",
       "    </tr>\n",
       "    <tr>\n",
       "      <th>4</th>\n",
       "      <td>10005</td>\n",
       "      <td>2005</td>\n",
       "      <td>Eva White</td>\n",
       "      <td>12000</td>\n",
       "      <td>2024-01-18</td>\n",
       "      <td>Deposit</td>\n",
       "      <td>Savings</td>\n",
       "      <td>0</td>\n",
       "    </tr>\n",
       "    <tr>\n",
       "      <th>5</th>\n",
       "      <td>10006</td>\n",
       "      <td>2006</td>\n",
       "      <td>Frank Harris</td>\n",
       "      <td>6000</td>\n",
       "      <td>2024-03-19</td>\n",
       "      <td>Deposit</td>\n",
       "      <td>Savings</td>\n",
       "      <td>0</td>\n",
       "    </tr>\n",
       "    <tr>\n",
       "      <th>6</th>\n",
       "      <td>10007</td>\n",
       "      <td>2007</td>\n",
       "      <td>Grace Miller</td>\n",
       "      <td>200000</td>\n",
       "      <td>2024-03-20</td>\n",
       "      <td>Withdrawal</td>\n",
       "      <td>Checking</td>\n",
       "      <td>1</td>\n",
       "    </tr>\n",
       "    <tr>\n",
       "      <th>7</th>\n",
       "      <td>10008</td>\n",
       "      <td>2008</td>\n",
       "      <td>Helen King</td>\n",
       "      <td>1000</td>\n",
       "      <td>2024-01-21</td>\n",
       "      <td>Deposit</td>\n",
       "      <td>Savings</td>\n",
       "      <td>0</td>\n",
       "    </tr>\n",
       "    <tr>\n",
       "      <th>8</th>\n",
       "      <td>10009</td>\n",
       "      <td>2009</td>\n",
       "      <td>Ivy Clark</td>\n",
       "      <td>4000</td>\n",
       "      <td>2024-01-22</td>\n",
       "      <td>Withdrawal</td>\n",
       "      <td>Checking</td>\n",
       "      <td>0</td>\n",
       "    </tr>\n",
       "    <tr>\n",
       "      <th>9</th>\n",
       "      <td>10010</td>\n",
       "      <td>2010</td>\n",
       "      <td>Jack Lewis</td>\n",
       "      <td>200000</td>\n",
       "      <td>2024-02-23</td>\n",
       "      <td>Withdrawal</td>\n",
       "      <td>Checking</td>\n",
       "      <td>1</td>\n",
       "    </tr>\n",
       "  </tbody>\n",
       "</table>\n",
       "</div>"
      ],
      "text/plain": [
       "   transaction_id  customer_id customer_name  transaction_amount  \\\n",
       "0           10001         2001    John Smith                5000   \n",
       "1           10002         2002   Alice Brown              150000   \n",
       "2           10003         2003   Bob Johnson                 300   \n",
       "3           10004         2002   Alice Brown               75000   \n",
       "4           10005         2005     Eva White               12000   \n",
       "5           10006         2006  Frank Harris                6000   \n",
       "6           10007         2007  Grace Miller              200000   \n",
       "7           10008         2008    Helen King                1000   \n",
       "8           10009         2009     Ivy Clark                4000   \n",
       "9           10010         2010    Jack Lewis              200000   \n",
       "\n",
       "  transaction_date transaction_type account_type  suspicious_flag  \n",
       "0       2024-01-15          Deposit      Savings                0  \n",
       "1       2024-01-16       Withdrawal     Checking                1  \n",
       "2       2024-02-16          Deposit      Savings                0  \n",
       "3       2024-01-17       Withdrawal     Checking                1  \n",
       "4       2024-01-18          Deposit      Savings                0  \n",
       "5       2024-03-19          Deposit      Savings                0  \n",
       "6       2024-03-20       Withdrawal     Checking                1  \n",
       "7       2024-01-21          Deposit      Savings                0  \n",
       "8       2024-01-22       Withdrawal     Checking                0  \n",
       "9       2024-02-23       Withdrawal     Checking                1  "
      ]
     },
     "execution_count": 1,
     "metadata": {},
     "output_type": "execute_result"
    }
   ],
   "source": [
    "import pandas as pd\n",
    "import matplotlib.pyplot as plt\n",
    "# Simulated AML transaction dataset\n",
    "data = {\n",
    "    'transaction_id': [10001, 10002, 10003, 10004, 10005, 10006, 10007, 10008, 10009, 10010],\n",
    "    'customer_id': [2001, 2002, 2003, 2002, 2005, 2006, 2007, 2008, 2009, 2010],\n",
    "    'customer_name': ['John Smith', 'Alice Brown', 'Bob Johnson', 'Alice Brown', 'Eva White', \n",
    "                       'Frank Harris', 'Grace Miller', 'Helen King', 'Ivy Clark', 'Jack Lewis'],\n",
    "    'transaction_amount': [5000, 150000, 300, 75000, 12000, 6000, 200000, 1000, 4000, 200000],\n",
    "    'transaction_date': ['2024-01-15', '2024-01-16', '2024-02-16', '2024-01-17', '2024-01-18',\n",
    "                         '2024-03-19', '2024-03-20', '2024-01-21', '2024-01-22', '2024-02-23'],\n",
    "    'transaction_type': ['Deposit', 'Withdrawal', 'Deposit', 'Withdrawal', 'Deposit', \n",
    "                          'Deposit', 'Withdrawal', 'Deposit', 'Withdrawal', 'Withdrawal'],\n",
    "    'account_type': ['Savings', 'Checking', 'Savings', 'Checking', 'Savings',\n",
    "                     'Savings', 'Checking', 'Savings', 'Checking', 'Checking'],\n",
    "    'suspicious_flag': [0, 1, 0, 1, 0, 0, 1, 0, 0, 1]\n",
    "}\n",
    "\n",
    "df = pd.DataFrame(data)\n",
    "df"
   ]
  },
  {
   "cell_type": "markdown",
   "id": "8cc9241b-fb5e-415e-8130-c4883fcbc65d",
   "metadata": {},
   "source": [
    "### **Task 1: Identify suspicious transactions and analyze amounts**"
   ]
  },
  {
   "cell_type": "code",
   "execution_count": 2,
   "id": "c2320d42-a4ee-497f-8876-45339a72841c",
   "metadata": {},
   "outputs": [
    {
     "name": "stdout",
     "output_type": "stream",
     "text": [
      "total_suspicious_amt:  653300\n"
     ]
    }
   ],
   "source": [
    "suspecious_flag = df[df['suspicious_flag'] == 1]\n",
    "total_suspicious_amt = df['transaction_amount'].sum()\n",
    "print('total_suspicious_amt: ',total_suspicious_amt)"
   ]
  },
  {
   "cell_type": "markdown",
   "id": "dd5fba8c-ed36-4436-954d-05cd8e5984f8",
   "metadata": {},
   "source": [
    "### **Task 2: Calculate the average transaction amount for each transaction type**"
   ]
  },
  {
   "cell_type": "code",
   "execution_count": 3,
   "id": "79854a29-86c7-4b8c-88e0-f00705fbc736",
   "metadata": {},
   "outputs": [
    {
     "name": "stdout",
     "output_type": "stream",
     "text": [
      "avg_trx_for_trx_type:  transaction_type\n",
      "Deposit         4860.0\n",
      "Withdrawal    125800.0\n",
      "Name: transaction_amount, dtype: float64\n"
     ]
    }
   ],
   "source": [
    "avg_trx_for_trx_type = df.groupby(['transaction_type'])['transaction_amount'].mean()\n",
    "print('avg_trx_for_trx_type: ',avg_trx_for_trx_type)"
   ]
  },
  {
   "cell_type": "code",
   "execution_count": 4,
   "id": "504b148c-e28f-4211-981c-31ec85e86d67",
   "metadata": {},
   "outputs": [
    {
     "name": "stdout",
     "output_type": "stream",
     "text": [
      "average transaction for each transaction type:\n",
      " transaction_type\n",
      "Deposit         4860.0\n",
      "Withdrawal    125800.0\n",
      "Name: transaction_amount, dtype: float64\n"
     ]
    },
    {
     "data": {
      "image/png": "[encoded data removed]",
      "text/plain": [
       "<Figure size 800x600 with 1 Axes>"
      ]
     },
     "metadata": {},
     "output_type": "display_data"
    }
   ],
   "source": [
    "# Plot pie chart\n",
    "plt.figure(figsize=(8, 6))\n",
    "plt.pie(avg_trx_for_trx_type, labels=avg_trx_for_trx_type.index, autopct='%1.1f%%', startangle=140)\n",
    "plt.title('Average Transaction Amount by Transaction Type')\n",
    "print('average transaction for each transaction type:\\n',avg_trx_for_trx_type)\n",
    "plt.show()"
   ]
  },
  {
   "cell_type": "markdown",
   "id": "9be57b81-9c71-47ad-8335-7369d533f5a1",
   "metadata": {},
   "source": [
    "### **Task 3: Identify customers with more than one suspicious transaction**"
   ]
  },
  {
   "cell_type": "code",
   "execution_count": 5,
   "id": "2b583d3a-ab62-4003-a3e3-40c2a028a774",
   "metadata": {},
   "outputs": [
    {
     "name": "stdout",
     "output_type": "stream",
     "text": [
      "Size : customer_id\n",
      "2002    2\n",
      "2007    1\n",
      "2010    1\n",
      "dtype: int64\n"
     ]
    },
    {
     "data": {
      "text/plain": [
       "customer_id\n",
       "2002    2\n",
       "dtype: int64"
      ]
     },
     "execution_count": 5,
     "metadata": {},
     "output_type": "execute_result"
    }
   ],
   "source": [
    "df['transaction_date'] = pd.to_datetime(df['transaction_date'])\n",
    "suspicious_trx = df[df['suspicious_flag'] == 1]\n",
    "suspicious_customers = suspicious_trx.groupby('customer_id').size()\n",
    "print(\"Size :\",suspicious_customers)\n",
    "suspicious_customers = suspicious_customers[suspicious_customers > 1]\n",
    "suspicious_customers"
   ]
  },
  {
   "cell_type": "markdown",
   "id": "f421e9ef-dfa3-47db-9b61-ad3dac38e6fb",
   "metadata": {},
   "source": [
    "### **Task 4: Calculate the total transaction amount for each account type**"
   ]
  },
  {
   "cell_type": "code",
   "execution_count": 6,
   "id": "8c86a3a8-3dc3-47e2-936d-b734433309ac",
   "metadata": {},
   "outputs": [
    {
     "data": {
      "text/plain": [
       "account_type\n",
       "Checking    629000\n",
       "Savings      24300\n",
       "Name: transaction_amount, dtype: int64"
      ]
     },
     "execution_count": 6,
     "metadata": {},
     "output_type": "execute_result"
    }
   ],
   "source": [
    "tot_trx_amt_acc_type = df.groupby('account_type')['transaction_amount'].sum()\n",
    "tot_trx_amt_acc_type"
   ]
  },
  {
   "cell_type": "markdown",
   "id": "8d78d28e-0a24-4fdd-bb89-c17fafdd2172",
   "metadata": {},
   "source": [
    "### **Task 5: Convert 'transaction_date' to datetime format and calculate number of transactions per month**"
   ]
  },
  {
   "cell_type": "code",
   "execution_count": 7,
   "id": "98908e50-719f-4d1f-8ffb-e5ff0d6ff458",
   "metadata": {},
   "outputs": [
    {
     "data": {
      "text/plain": [
       "transaction_date\n",
       "2024-01-31    6\n",
       "2024-02-29    2\n",
       "2024-03-31    2\n",
       "Freq: M, dtype: int64"
      ]
     },
     "execution_count": 7,
     "metadata": {},
     "output_type": "execute_result"
    }
   ],
   "source": [
    "num_of_trx_per_month = df.resample('M',on='transaction_date').size()\n",
    "num_of_trx_per_month"
   ]
  },
  {
   "cell_type": "markdown",
   "id": "bc2b81fa-46af-4157-9e71-417d5880a980",
   "metadata": {},
   "source": [
    "### **Task 6: Find the highest and lowest transaction amount for each customer**"
   ]
  },
  {
   "cell_type": "code",
   "execution_count": 8,
   "id": "1071691b-273c-4728-9fbb-6578b21ad00d",
   "metadata": {},
   "outputs": [
    {
     "data": {
      "text/html": [
       "<div>\n",
       "<style scoped>\n",
       "    .dataframe tbody tr th:only-of-type {\n",
       "        vertical-align: middle;\n",
       "    }\n",
       "\n",
       "    .dataframe tbody tr th {\n",
       "        vertical-align: top;\n",
       "    }\n",
       "\n",
       "    .dataframe thead th {\n",
       "        text-align: right;\n",
       "    }\n",
       "</style>\n",
       "<table border=\"1\" class=\"dataframe\">\n",
       "  <thead>\n",
       "    <tr style=\"text-align: right;\">\n",
       "      <th></th>\n",
       "      <th>min</th>\n",
       "      <th>max</th>\n",
       "    </tr>\n",
       "    <tr>\n",
       "      <th>customer_id</th>\n",
       "      <th></th>\n",
       "      <th></th>\n",
       "    </tr>\n",
       "  </thead>\n",
       "  <tbody>\n",
       "    <tr>\n",
       "      <th>2001</th>\n",
       "      <td>5000</td>\n",
       "      <td>5000</td>\n",
       "    </tr>\n",
       "    <tr>\n",
       "      <th>2002</th>\n",
       "      <td>75000</td>\n",
       "      <td>150000</td>\n",
       "    </tr>\n",
       "    <tr>\n",
       "      <th>2003</th>\n",
       "      <td>300</td>\n",
       "      <td>300</td>\n",
       "    </tr>\n",
       "    <tr>\n",
       "      <th>2005</th>\n",
       "      <td>12000</td>\n",
       "      <td>12000</td>\n",
       "    </tr>\n",
       "    <tr>\n",
       "      <th>2006</th>\n",
       "      <td>6000</td>\n",
       "      <td>6000</td>\n",
       "    </tr>\n",
       "    <tr>\n",
       "      <th>2007</th>\n",
       "      <td>200000</td>\n",
       "      <td>200000</td>\n",
       "    </tr>\n",
       "    <tr>\n",
       "      <th>2008</th>\n",
       "      <td>1000</td>\n",
       "      <td>1000</td>\n",
       "    </tr>\n",
       "    <tr>\n",
       "      <th>2009</th>\n",
       "      <td>4000</td>\n",
       "      <td>4000</td>\n",
       "    </tr>\n",
       "    <tr>\n",
       "      <th>2010</th>\n",
       "      <td>200000</td>\n",
       "      <td>200000</td>\n",
       "    </tr>\n",
       "  </tbody>\n",
       "</table>\n",
       "</div>"
      ],
      "text/plain": [
       "                min     max\n",
       "customer_id                \n",
       "2001           5000    5000\n",
       "2002          75000  150000\n",
       "2003            300     300\n",
       "2005          12000   12000\n",
       "2006           6000    6000\n",
       "2007         200000  200000\n",
       "2008           1000    1000\n",
       "2009           4000    4000\n",
       "2010         200000  200000"
      ]
     },
     "execution_count": 8,
     "metadata": {},
     "output_type": "execute_result"
    }
   ],
   "source": [
    "cust_high_low_trx = df.groupby('customer_id')['transaction_amount'].agg(['min', 'max'])\n",
    "cust_high_low_trx"
   ]
  },
  {
   "cell_type": "markdown",
   "id": "cbfbd5be-213c-4ba8-9eb5-b64034dad807",
   "metadata": {},
   "source": [
    "### **Task 7: Analyze patterns of suspicious activity**"
   ]
  },
  {
   "cell_type": "code",
   "execution_count": 9,
   "id": "1160596c-3629-48da-9a4f-18844d1200f7",
   "metadata": {},
   "outputs": [],
   "source": [
    "import matplotlib.pyplot as plt"
   ]
  },
  {
   "cell_type": "code",
   "execution_count": 10,
   "id": "64eaa82d-64e5-4273-978e-7218f69efc88",
   "metadata": {},
   "outputs": [
    {
     "data": {
      "text/html": [
       "<div>\n",
       "<style scoped>\n",
       "    .dataframe tbody tr th:only-of-type {\n",
       "        vertical-align: middle;\n",
       "    }\n",
       "\n",
       "    .dataframe tbody tr th {\n",
       "        vertical-align: top;\n",
       "    }\n",
       "\n",
       "    .dataframe thead th {\n",
       "        text-align: right;\n",
       "    }\n",
       "</style>\n",
       "<table border=\"1\" class=\"dataframe\">\n",
       "  <thead>\n",
       "    <tr style=\"text-align: right;\">\n",
       "      <th></th>\n",
       "      <th>transaction_id</th>\n",
       "      <th>customer_id</th>\n",
       "      <th>customer_name</th>\n",
       "      <th>transaction_amount</th>\n",
       "      <th>transaction_date</th>\n",
       "      <th>transaction_type</th>\n",
       "      <th>account_type</th>\n",
       "      <th>suspicious_flag</th>\n",
       "    </tr>\n",
       "  </thead>\n",
       "  <tbody>\n",
       "    <tr>\n",
       "      <th>1</th>\n",
       "      <td>10002</td>\n",
       "      <td>2002</td>\n",
       "      <td>Alice Brown</td>\n",
       "      <td>150000</td>\n",
       "      <td>2024-01-16</td>\n",
       "      <td>Withdrawal</td>\n",
       "      <td>Checking</td>\n",
       "      <td>1</td>\n",
       "    </tr>\n",
       "    <tr>\n",
       "      <th>3</th>\n",
       "      <td>10004</td>\n",
       "      <td>2002</td>\n",
       "      <td>Alice Brown</td>\n",
       "      <td>75000</td>\n",
       "      <td>2024-01-17</td>\n",
       "      <td>Withdrawal</td>\n",
       "      <td>Checking</td>\n",
       "      <td>1</td>\n",
       "    </tr>\n",
       "    <tr>\n",
       "      <th>6</th>\n",
       "      <td>10007</td>\n",
       "      <td>2007</td>\n",
       "      <td>Grace Miller</td>\n",
       "      <td>200000</td>\n",
       "      <td>2024-03-20</td>\n",
       "      <td>Withdrawal</td>\n",
       "      <td>Checking</td>\n",
       "      <td>1</td>\n",
       "    </tr>\n",
       "    <tr>\n",
       "      <th>9</th>\n",
       "      <td>10010</td>\n",
       "      <td>2010</td>\n",
       "      <td>Jack Lewis</td>\n",
       "      <td>200000</td>\n",
       "      <td>2024-02-23</td>\n",
       "      <td>Withdrawal</td>\n",
       "      <td>Checking</td>\n",
       "      <td>1</td>\n",
       "    </tr>\n",
       "  </tbody>\n",
       "</table>\n",
       "</div>"
      ],
      "text/plain": [
       "   transaction_id  customer_id customer_name  transaction_amount  \\\n",
       "1           10002         2002   Alice Brown              150000   \n",
       "3           10004         2002   Alice Brown               75000   \n",
       "6           10007         2007  Grace Miller              200000   \n",
       "9           10010         2010    Jack Lewis              200000   \n",
       "\n",
       "  transaction_date transaction_type account_type  suspicious_flag  \n",
       "1       2024-01-16       Withdrawal     Checking                1  \n",
       "3       2024-01-17       Withdrawal     Checking                1  \n",
       "6       2024-03-20       Withdrawal     Checking                1  \n",
       "9       2024-02-23       Withdrawal     Checking                1  "
      ]
     },
     "execution_count": 10,
     "metadata": {},
     "output_type": "execute_result"
    }
   ],
   "source": [
    "suspicious_trx"
   ]
  },
  {
   "cell_type": "code",
   "execution_count": 11,
   "id": "9a24d299-619a-40de-abdf-73b97995fdb6",
   "metadata": {},
   "outputs": [
    {
     "data": {
      "image/png": "[encoded data removed]",
      "text/plain": [
       "<Figure size 1000x600 with 1 Axes>"
      ]
     },
     "metadata": {},
     "output_type": "display_data"
    }
   ],
   "source": [
    "suspicious_per_month = suspicious_trx.resample('M', on='transaction_date').sum()\n",
    "plt.figure(figsize=(10, 6))\n",
    "plt.plot(suspicious_per_month.index, suspicious_per_month['transaction_amount'], marker='o')\n",
    "plt.title('Total Suspicious Transaction Amounts by Month')\n",
    "plt.xlabel('Month')\n",
    "plt.ylabel('Total Amount ($)')\n",
    "plt.grid(True)\n",
    "plt.show()"
   ]
  },
  {
   "cell_type": "markdown",
   "id": "05b2433a-6a4c-477d-b675-c26df1d90888",
   "metadata": {},
   "source": [
    "### **Task 8: Create a flag for unusually high transactions**"
   ]
  },
  {
   "cell_type": "code",
   "execution_count": 12,
   "id": "dc0fd009-45e6-44b4-a751-2f711905c573",
   "metadata": {},
   "outputs": [
    {
     "data": {
      "text/plain": [
       "account_type\n",
       "Checking    125800.0\n",
       "Savings       4860.0\n",
       "Name: transaction_amount, dtype: float64"
      ]
     },
     "execution_count": 12,
     "metadata": {},
     "output_type": "execute_result"
    }
   ],
   "source": [
    "avg_amt_by_account = df.groupby('account_type')['transaction_amount'].mean()\n",
    "avg_amt_by_account"
   ]
  },
  {
   "cell_type": "code",
   "execution_count": 13,
   "id": "fe9e8f9d-b5a5-40dc-8660-ea327b84e500",
   "metadata": {},
   "outputs": [
    {
     "data": {
      "text/html": [
       "<div>\n",
       "<style scoped>\n",
       "    .dataframe tbody tr th:only-of-type {\n",
       "        vertical-align: middle;\n",
       "    }\n",
       "\n",
       "    .dataframe tbody tr th {\n",
       "        vertical-align: top;\n",
       "    }\n",
       "\n",
       "    .dataframe thead th {\n",
       "        text-align: right;\n",
       "    }\n",
       "</style>\n",
       "<table border=\"1\" class=\"dataframe\">\n",
       "  <thead>\n",
       "    <tr style=\"text-align: right;\">\n",
       "      <th></th>\n",
       "      <th>transaction_id</th>\n",
       "      <th>customer_id</th>\n",
       "      <th>customer_name</th>\n",
       "      <th>transaction_amount</th>\n",
       "      <th>transaction_date</th>\n",
       "      <th>transaction_type</th>\n",
       "      <th>account_type</th>\n",
       "      <th>suspicious_flag</th>\n",
       "      <th>high_value_flag</th>\n",
       "    </tr>\n",
       "  </thead>\n",
       "  <tbody>\n",
       "    <tr>\n",
       "      <th>4</th>\n",
       "      <td>10005</td>\n",
       "      <td>2005</td>\n",
       "      <td>Eva White</td>\n",
       "      <td>12000</td>\n",
       "      <td>2024-01-18</td>\n",
       "      <td>Deposit</td>\n",
       "      <td>Savings</td>\n",
       "      <td>0</td>\n",
       "      <td>1</td>\n",
       "    </tr>\n",
       "    <tr>\n",
       "      <th>6</th>\n",
       "      <td>10007</td>\n",
       "      <td>2007</td>\n",
       "      <td>Grace Miller</td>\n",
       "      <td>200000</td>\n",
       "      <td>2024-03-20</td>\n",
       "      <td>Withdrawal</td>\n",
       "      <td>Checking</td>\n",
       "      <td>1</td>\n",
       "      <td>1</td>\n",
       "    </tr>\n",
       "    <tr>\n",
       "      <th>9</th>\n",
       "      <td>10010</td>\n",
       "      <td>2010</td>\n",
       "      <td>Jack Lewis</td>\n",
       "      <td>200000</td>\n",
       "      <td>2024-02-23</td>\n",
       "      <td>Withdrawal</td>\n",
       "      <td>Checking</td>\n",
       "      <td>1</td>\n",
       "      <td>1</td>\n",
       "    </tr>\n",
       "  </tbody>\n",
       "</table>\n",
       "</div>"
      ],
      "text/plain": [
       "   transaction_id  customer_id customer_name  transaction_amount  \\\n",
       "4           10005         2005     Eva White               12000   \n",
       "6           10007         2007  Grace Miller              200000   \n",
       "9           10010         2010    Jack Lewis              200000   \n",
       "\n",
       "  transaction_date transaction_type account_type  suspicious_flag  \\\n",
       "4       2024-01-18          Deposit      Savings                0   \n",
       "6       2024-03-20       Withdrawal     Checking                1   \n",
       "9       2024-02-23       Withdrawal     Checking                1   \n",
       "\n",
       "   high_value_flag  \n",
       "4                1  \n",
       "6                1  \n",
       "9                1  "
      ]
     },
     "execution_count": 13,
     "metadata": {},
     "output_type": "execute_result"
    }
   ],
   "source": [
    "df['high_value_flag'] = df.apply(lambda row: 1 if row['transaction_amount'] > 1.5*avg_amt_by_account[row['account_type']] else 0, axis = 1)\n",
    "high_value = df[df['high_value_flag'] == 1]\n",
    "high_value"
   ]
  },
  {
   "cell_type": "code",
   "execution_count": 14,
   "id": "e6d83bb5-fe11-4051-b39c-13cc9e144fe9",
   "metadata": {},
   "outputs": [],
   "source": [
    "df.to_csv(\"E:/datasets/aml_dataset.csv\",index = False)"
   ]
  },
  {
   "cell_type": "code",
   "execution_count": null,
   "id": "301c3dfd-61dd-43f9-ba05-150613c7a985",
   "metadata": {},
   "outputs": [],
   "source": []
  }
 ],
 "metadata": {
  "kernelspec": {
   "display_name": "Python 3 (ipykernel)",
   "language": "python",
   "name": "python3"
  },
  "language_info": {
   "codemirror_mode": {
    "name": "ipython",
    "version": 3
   },
   "file_extension": ".py",
   "mimetype": "text/x-python",
   "name": "python",
   "nbconvert_exporter": "python",
   "pygments_lexer": "ipython3",
   "version": "3.11.7"
  }
 },
 "nbformat": 4,
 "nbformat_minor": 5
}
